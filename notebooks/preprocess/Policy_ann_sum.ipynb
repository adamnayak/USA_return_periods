{
 "cells": [
  {
   "cell_type": "code",
   "execution_count": 1,
   "id": "0f1bb67b-e2b7-4e57-9376-d8dec7f4a47c",
   "metadata": {},
   "outputs": [],
   "source": [
    "import pandas as pd\n",
    "import glob\n",
    "import os\n",
    "from datetime import datetime"
   ]
  },
  {
   "cell_type": "code",
   "execution_count": 2,
   "id": "9cad154a-94a6-4299-ba44-8834772680e1",
   "metadata": {},
   "outputs": [],
   "source": [
    "# Constants\n",
    "CURRENT_YEAR = datetime.now().year\n",
    "CURRENT_MONTH = datetime.now().month\n",
    "folder_path = \"../Game/State_Policy_Data/State_Policies\" # Pull the NFIP Folder from Cloud\n",
    "constant_discount = False\n",
    "\n",
    "# Gather all file paths\n",
    "csv_files = glob.glob(os.path.join(folder_path, \"propertyState_*.csv\"))\n",
    "csv_files += glob.glob(os.path.join(folder_path, \"FL\", \"FL_countyCode_*.csv\"))\n",
    "csv_files += glob.glob(os.path.join(folder_path, \"LA\", \"LA_countyCode_*.csv\"))"
   ]
  },
  {
   "cell_type": "code",
   "execution_count": 3,
   "id": "f7207cbc-3491-4e15-95b2-3b1482cef7bd",
   "metadata": {},
   "outputs": [],
   "source": [
    "# Helper function to calculate present value\n",
    "def calculate_present_value(amount, policy_year):\n",
    "    years_diff = CURRENT_YEAR - policy_year\n",
    "    return amount / ((1 + INTEREST_RATE) ** years_diff)\n",
    "\n",
    "# Helper function to compound past values to today's value\n",
    "def compound_to_present(amount, years_diff, months_diff, rate):\n",
    "    time_diff = years_diff + (months_diff / 12)  # Convert month difference to fraction of a year\n",
    "    return amount * ((1 + rate / 100) ** time_diff)"
   ]
  },
  {
   "cell_type": "code",
   "execution_count": 4,
   "id": "e3155a35-7fe8-4839-9bb4-6830623c08e7",
   "metadata": {
    "scrolled": true
   },
   "outputs": [],
   "source": [
    "if constant_discount:\n",
    "    # Constants\n",
    "    INTEREST_RATE = 3.75 / 100\n",
    "    \n",
    "    # Dictionary to hold annualized sum by year\n",
    "    annualized_premiums = {}\n",
    "    \n",
    "    # Process each CSV file\n",
    "    for file in csv_files:\n",
    "        # Print the file name as it’s being processed\n",
    "        print(f\"Processing file: {file}\")\n",
    "        df = pd.read_csv(file, parse_dates=[\"policyEffectiveDate\"])\n",
    "        \n",
    "        # Calculate the present value of premiums for each record\n",
    "        df[\"policyYear\"] = df[\"policyEffectiveDate\"].dt.year\n",
    "        df[\"adjustedPremium\"] = df.apply(lambda row: calculate_present_value(row[\"totalInsurancePremiumOfThePolicy\"], row[\"policyYear\"]), axis=1)\n",
    "        \n",
    "        # Sum adjusted premiums by year\n",
    "        for year, yearly_sum in df.groupby(\"policyYear\")[\"adjustedPremium\"].sum().items():\n",
    "            if year not in annualized_premiums:\n",
    "                annualized_premiums[year] = 0\n",
    "            annualized_premiums[year] += yearly_sum\n",
    "    \n",
    "    # Calculate the total annualized sum\n",
    "    total_annualized_sum = sum(annualized_premiums.values())\n",
    "    \n",
    "    # Print the final annualized sum\n",
    "    print(f\"Total annualized sum of adjusted insurance premiums: {total_annualized_sum/(2023-1979+1):.2f}\")"
   ]
  },
  {
   "cell_type": "code",
   "execution_count": 5,
   "id": "d04c5b2b-8caa-4276-8093-9009e51a878e",
   "metadata": {
    "scrolled": true
   },
   "outputs": [],
   "source": [
    "# Load and preprocess discount rate data\n",
    "discount_rate_file = \"BLS_Data/FRED_discount_Monthly.csv\"  # Replace with the correct path\n",
    "discount_rates = pd.read_csv(discount_rate_file, parse_dates=[\"DATE\"])\n",
    "discount_rates[\"month\"] = discount_rates[\"DATE\"].dt.month\n",
    "discount_rates[\"year\"] = discount_rates[\"DATE\"].dt.year\n",
    "discount_rates = discount_rates.rename(columns={\"INTDSRUSM193N\": \"discountRate\"})"
   ]
  },
  {
   "cell_type": "code",
   "execution_count": null,
   "id": "0cd92f61-b264-4411-8331-1050202cca04",
   "metadata": {},
   "outputs": [],
   "source": [
    "#CPI Inflation Adjust\n",
    "curr_rate = 313.3 # Update end of year"
   ]
  },
  {
   "cell_type": "code",
   "execution_count": 6,
   "id": "93bc27f8-fd69-4cc9-b3fc-9fbc354a6662",
   "metadata": {
    "scrolled": true
   },
   "outputs": [
    {
     "name": "stdout",
     "output_type": "stream",
     "text": [
      "Processing file: ../Game/State_Policy_Data/State_Policies/propertyState_PR.csv\n",
      "Processing file: ../Game/State_Policy_Data/State_Policies/propertyState_OK.csv\n",
      "Processing file: ../Game/State_Policy_Data/State_Policies/propertyState_NY.csv\n",
      "Processing file: ../Game/State_Policy_Data/State_Policies/propertyState_OR.csv\n",
      "Processing file: ../Game/State_Policy_Data/State_Policies/propertyState_PA.csv\n",
      "Processing file: ../Game/State_Policy_Data/State_Policies/propertyState_CA.csv\n",
      "Processing file: ../Game/State_Policy_Data/State_Policies/propertyState_MP.csv\n",
      "Processing file: ../Game/State_Policy_Data/State_Policies/propertyState_VI.csv\n",
      "Processing file: ../Game/State_Policy_Data/State_Policies/propertyState_KS.csv\n",
      "Processing file: ../Game/State_Policy_Data/State_Policies/propertyState_OH.csv\n",
      "Processing file: ../Game/State_Policy_Data/State_Policies/propertyState_AL.csv\n",
      "Processing file: ../Game/State_Policy_Data/State_Policies/propertyState_MA.csv\n",
      "Processing file: ../Game/State_Policy_Data/State_Policies/propertyState_AK.csv\n",
      "Processing file: ../Game/State_Policy_Data/State_Policies/propertyState_RI.csv\n",
      "Processing file: ../Game/State_Policy_Data/State_Policies/propertyState_VT.csv\n",
      "Processing file: ../Game/State_Policy_Data/State_Policies/propertyState_DE.csv\n",
      "Processing file: ../Game/State_Policy_Data/State_Policies/propertyState_ME.csv\n",
      "Processing file: ../Game/State_Policy_Data/State_Policies/propertyState_SC.csv\n",
      "Processing file: ../Game/State_Policy_Data/State_Policies/propertyState_HI.csv\n",
      "Processing file: ../Game/State_Policy_Data/State_Policies/propertyState_GA.csv\n",
      "Processing file: ../Game/State_Policy_Data/State_Policies/propertyState_MI.csv\n",
      "Processing file: ../Game/State_Policy_Data/State_Policies/propertyState_NJ.csv\n",
      "Processing file: ../Game/State_Policy_Data/State_Policies/propertyState_IL.csv\n",
      "Processing file: ../Game/State_Policy_Data/State_Policies/propertyState_MS.csv\n",
      "Processing file: ../Game/State_Policy_Data/State_Policies/propertyState_CT.csv\n",
      "Processing file: ../Game/State_Policy_Data/State_Policies/propertyState_GU.csv\n",
      "Processing file: ../Game/State_Policy_Data/State_Policies/propertyState_WA.csv\n",
      "Processing file: ../Game/State_Policy_Data/State_Policies/propertyState_NC.csv\n",
      "Processing file: ../Game/State_Policy_Data/State_Policies/propertyState_NE.csv\n",
      "Processing file: ../Game/State_Policy_Data/State_Policies/propertyState_VA.csv\n",
      "Processing file: ../Game/State_Policy_Data/State_Policies/propertyState_NV.csv\n",
      "Processing file: ../Game/State_Policy_Data/State_Policies/propertyState_MN.csv\n",
      "Processing file: ../Game/State_Policy_Data/State_Policies/propertyState_TX.csv\n",
      "Processing file: ../Game/State_Policy_Data/State_Policies/propertyState_AS.csv\n",
      "Processing file: ../Game/State_Policy_Data/State_Policies/propertyState_AZ.csv\n",
      "Processing file: ../Game/State_Policy_Data/State_Policies/propertyState_NM.csv\n",
      "Processing file: ../Game/State_Policy_Data/State_Policies/propertyState_NH.csv\n",
      "Processing file: ../Game/State_Policy_Data/State_Policies/propertyState_ND.csv\n",
      "Processing file: ../Game/State_Policy_Data/State_Policies/propertyState_CO.csv\n",
      "Processing file: ../Game/State_Policy_Data/State_Policies/propertyState_DC.csv\n",
      "Processing file: ../Game/State_Policy_Data/State_Policies/propertyState_WV.csv\n",
      "Processing file: ../Game/State_Policy_Data/State_Policies/propertyState_MO.csv\n",
      "Processing file: ../Game/State_Policy_Data/State_Policies/propertyState_MT.csv\n",
      "Processing file: ../Game/State_Policy_Data/State_Policies/propertyState_WI.csv\n",
      "Processing file: ../Game/State_Policy_Data/State_Policies/propertyState_KY.csv\n",
      "Processing file: ../Game/State_Policy_Data/State_Policies/propertyState_AR.csv\n",
      "Processing file: ../Game/State_Policy_Data/State_Policies/propertyState_ID.csv\n",
      "Processing file: ../Game/State_Policy_Data/State_Policies/propertyState_WY.csv\n",
      "Processing file: ../Game/State_Policy_Data/State_Policies/propertyState_MD.csv\n",
      "Processing file: ../Game/State_Policy_Data/State_Policies/propertyState_IA.csv\n",
      "Processing file: ../Game/State_Policy_Data/State_Policies/propertyState_IN.csv\n",
      "Processing file: ../Game/State_Policy_Data/State_Policies/propertyState_SD.csv\n",
      "Processing file: ../Game/State_Policy_Data/State_Policies/propertyState_TN.csv\n",
      "Processing file: ../Game/State_Policy_Data/State_Policies/propertyState_UT.csv\n",
      "Processing file: ../Game/State_Policy_Data/State_Policies/propertyState_UN.csv\n",
      "Processing file: ../Game/State_Policy_Data/State_Policies/FL/FL_countyCode_12023.0.csv\n",
      "Processing file: ../Game/State_Policy_Data/State_Policies/FL/FL_countyCode_12127.0.csv\n",
      "Processing file: ../Game/State_Policy_Data/State_Policies/FL/FL_countyCode_12113.0.csv\n",
      "Processing file: ../Game/State_Policy_Data/State_Policies/FL/FL_countyCode_12019.0.csv\n",
      "Processing file: ../Game/State_Policy_Data/State_Policies/FL/FL_countyCode_12075.0.csv\n",
      "Processing file: ../Game/State_Policy_Data/State_Policies/FL/FL_countyCode_12069.0.csv\n",
      "Processing file: ../Game/State_Policy_Data/State_Policies/FL/FL_countyCode_12017.0.csv\n",
      "Processing file: ../Game/State_Policy_Data/State_Policies/FL/FL_countyCode_12083.0.csv\n",
      "Processing file: ../Game/State_Policy_Data/State_Policies/FL/FL_countyCode_12101.0.csv\n",
      "Processing file: ../Game/State_Policy_Data/State_Policies/FL/FL_countyCode_12079.0.csv\n",
      "Processing file: ../Game/State_Policy_Data/State_Policies/FL/FL_countyCode_42003.0.csv\n",
      "Processing file: ../Game/State_Policy_Data/State_Policies/FL/FL_countyCode_12091.0.csv\n",
      "Processing file: ../Game/State_Policy_Data/State_Policies/FL/FL_countyCode_12105.0.csv\n",
      "Processing file: ../Game/State_Policy_Data/State_Policies/FL/FL_countyCode_12037.0.csv\n",
      "Processing file: ../Game/State_Policy_Data/State_Policies/FL/FL_countyCode_72127.0.csv\n",
      "Processing file: ../Game/State_Policy_Data/State_Policies/FL/FL_countyCode_12133.0.csv\n",
      "Processing file: ../Game/State_Policy_Data/State_Policies/FL/FL_countyCode_12095.0.csv\n",
      "Processing file: ../Game/State_Policy_Data/State_Policies/FL/FL_countyCode_12.0.csv\n",
      "Processing file: ../Game/State_Policy_Data/State_Policies/FL/FL_countyCode_12071.0.csv\n",
      "Processing file: ../Game/State_Policy_Data/State_Policies/FL/FL_countyCode_12057.0.csv\n",
      "Processing file: ../Game/State_Policy_Data/State_Policies/FL/FL_countyCode_12053.0.csv\n",
      "Processing file: ../Game/State_Policy_Data/State_Policies/FL/FL_countyCode_12089.0.csv\n",
      "Processing file: ../Game/State_Policy_Data/State_Policies/FL/FL_countyCode_47045.0.csv\n",
      "Processing file: ../Game/State_Policy_Data/State_Policies/FL/FL_countyCode_12125.0.csv\n",
      "Processing file: ../Game/State_Policy_Data/State_Policies/FL/FL_countyCode_12001.0.csv\n",
      "Processing file: ../Game/State_Policy_Data/State_Policies/FL/FL_countyCode_12129.0.csv\n",
      "Processing file: ../Game/State_Policy_Data/State_Policies/FL/FL_countyCode_13253.0.csv\n",
      "Processing file: ../Game/State_Policy_Data/State_Policies/FL/FL_countyCode_22029.0.csv\n",
      "Processing file: ../Game/State_Policy_Data/State_Policies/FL/FL_countyCode_12111.0.csv\n",
      "Processing file: ../Game/State_Policy_Data/State_Policies/FL/FL_countyCode_12047.0.csv\n",
      "Processing file: ../Game/State_Policy_Data/State_Policies/FL/FL_countyCode_12049.0.csv\n",
      "Processing file: ../Game/State_Policy_Data/State_Policies/FL/FL_countyCode_72113.0.csv\n",
      "Processing file: ../Game/State_Policy_Data/State_Policies/FL/FL_countyCode_45019.0.csv\n",
      "Processing file: ../Game/State_Policy_Data/State_Policies/FL/FL_countyCode_12063.0.csv\n",
      "Processing file: ../Game/State_Policy_Data/State_Policies/FL/FL_countyCode_12119.0.csv\n",
      "Processing file: ../Game/State_Policy_Data/State_Policies/FL/FL_countyCode_12087.0.csv\n",
      "Processing file: ../Game/State_Policy_Data/State_Policies/FL/FL_countyCode_12121.0.csv\n",
      "Processing file: ../Game/State_Policy_Data/State_Policies/FL/FL_countyCode_12011.0.csv\n",
      "Processing file: ../Game/State_Policy_Data/State_Policies/FL/FL_countyCode_12109.0.csv\n",
      "Processing file: ../Game/State_Policy_Data/State_Policies/FL/FL_countyCode_12031.0.csv\n",
      "Processing file: ../Game/State_Policy_Data/State_Policies/FL/FL_countyCode_12103.0.csv\n",
      "Processing file: ../Game/State_Policy_Data/State_Policies/FL/FL_countyCode_12035.0.csv\n",
      "Processing file: ../Game/State_Policy_Data/State_Policies/FL/FL_countyCode_12009.0.csv\n",
      "Processing file: ../Game/State_Policy_Data/State_Policies/FL/FL_countyCode_12081.0.csv\n",
      "Processing file: ../Game/State_Policy_Data/State_Policies/FL/FL_countyCode_12059.0.csv\n",
      "Processing file: ../Game/State_Policy_Data/State_Policies/FL/FL_countyCode_12107.0.csv\n",
      "Processing file: ../Game/State_Policy_Data/State_Policies/FL/FL_countyCode_12051.0.csv\n",
      "Processing file: ../Game/State_Policy_Data/State_Policies/FL/FL_countyCode_12117.0.csv\n",
      "Processing file: ../Game/State_Policy_Data/State_Policies/FL/FL_countyCode_12027.0.csv\n",
      "Processing file: ../Game/State_Policy_Data/State_Policies/FL/FL_countyCode_13157.0.csv\n",
      "Processing file: ../Game/State_Policy_Data/State_Policies/FL/FL_countyCode_36061.0.csv\n",
      "Processing file: ../Game/State_Policy_Data/State_Policies/FL/FL_countyCode_12043.0.csv\n",
      "Processing file: ../Game/State_Policy_Data/State_Policies/FL/FL_countyCode_12099.0.csv\n",
      "Processing file: ../Game/State_Policy_Data/State_Policies/FL/FL_countyCode_12067.0.csv\n",
      "Processing file: ../Game/State_Policy_Data/State_Policies/FL/FL_countyCode_12086.0.csv\n",
      "Processing file: ../Game/State_Policy_Data/State_Policies/FL/FL_countyCode_12131.0.csv\n",
      "Processing file: ../Game/State_Policy_Data/State_Policies/FL/FL_countyCode_72021.0.csv\n",
      "Processing file: ../Game/State_Policy_Data/State_Policies/FL/FL_countyCode_12041.0.csv\n",
      "Processing file: ../Game/State_Policy_Data/State_Policies/FL/FL_countyCode_12013.0.csv\n",
      "Processing file: ../Game/State_Policy_Data/State_Policies/FL/FL_countyCode_33001.0.csv\n",
      "Processing file: ../Game/State_Policy_Data/State_Policies/FL/FL_countyCode_12033.0.csv\n",
      "Processing file: ../Game/State_Policy_Data/State_Policies/FL/FL_countyCode_12045.0.csv\n",
      "Processing file: ../Game/State_Policy_Data/State_Policies/FL/FL_countyCode_12007.0.csv\n",
      "Processing file: ../Game/State_Policy_Data/State_Policies/FL/FL_countyCode_12005.0.csv\n",
      "Processing file: ../Game/State_Policy_Data/State_Policies/FL/FL_countyCode_13275.0.csv\n",
      "Processing file: ../Game/State_Policy_Data/State_Policies/FL/FL_countyCode_12073.0.csv\n",
      "Processing file: ../Game/State_Policy_Data/State_Policies/FL/FL_countyCode_12097.0.csv\n",
      "Processing file: ../Game/State_Policy_Data/State_Policies/FL/FL_countyCode_12029.0.csv\n",
      "Processing file: ../Game/State_Policy_Data/State_Policies/FL/FL_countyCode_12093.0.csv\n",
      "Processing file: ../Game/State_Policy_Data/State_Policies/FL/FL_countyCode_12061.0.csv\n",
      "Processing file: ../Game/State_Policy_Data/State_Policies/FL/FL_countyCode_12077.0.csv\n",
      "Processing file: ../Game/State_Policy_Data/State_Policies/FL/FL_countyCode_12085.0.csv\n",
      "Processing file: ../Game/State_Policy_Data/State_Policies/FL/FL_countyCode_12003.0.csv\n",
      "Processing file: ../Game/State_Policy_Data/State_Policies/FL/FL_countyCode_12115.0.csv\n",
      "Processing file: ../Game/State_Policy_Data/State_Policies/FL/FL_countyCode_12123.0.csv\n",
      "Processing file: ../Game/State_Policy_Data/State_Policies/FL/FL_countyCode_24031.0.csv\n",
      "Processing file: ../Game/State_Policy_Data/State_Policies/FL/FL_countyCode_12015.0.csv\n",
      "Processing file: ../Game/State_Policy_Data/State_Policies/FL/FL_countyCode_12065.0.csv\n",
      "Processing file: ../Game/State_Policy_Data/State_Policies/FL/FL_countyCode_12021.0.csv\n",
      "Processing file: ../Game/State_Policy_Data/State_Policies/FL/FL_countyCode_12055.0.csv\n",
      "Processing file: ../Game/State_Policy_Data/State_Policies/FL/FL_countyCode_12039.0.csv\n",
      "Processing file: ../Game/State_Policy_Data/State_Policies/FL/FL_countyCode_21175.0.csv\n",
      "Processing file: ../Game/State_Policy_Data/State_Policies/LA/LA_countyCode_22039.0.csv\n",
      "Processing file: ../Game/State_Policy_Data/State_Policies/LA/LA_countyCode_22119.0.csv\n",
      "Processing file: ../Game/State_Policy_Data/State_Policies/LA/LA_countyCode_34013.0.csv\n",
      "Processing file: ../Game/State_Policy_Data/State_Policies/LA/LA_countyCode_22105.0.csv\n",
      "Processing file: ../Game/State_Policy_Data/State_Policies/LA/LA_countyCode_22061.0.csv\n",
      "Processing file: ../Game/State_Policy_Data/State_Policies/LA/LA_countyCode_22093.0.csv\n",
      "Processing file: ../Game/State_Policy_Data/State_Policies/LA/LA_countyCode_22059.0.csv\n",
      "Processing file: ../Game/State_Policy_Data/State_Policies/LA/LA_countyCode_22117.0.csv\n",
      "Processing file: ../Game/State_Policy_Data/State_Policies/LA/LA_countyCode_37069.0.csv\n",
      "Processing file: ../Game/State_Policy_Data/State_Policies/LA/LA_countyCode_22001.0.csv\n",
      "Processing file: ../Game/State_Policy_Data/State_Policies/LA/LA_countyCode_22047.0.csv\n",
      "Processing file: ../Game/State_Policy_Data/State_Policies/LA/LA_countyCode_22025.0.csv\n",
      "Processing file: ../Game/State_Policy_Data/State_Policies/LA/LA_countyCode_48201.0.csv\n",
      "Processing file: ../Game/State_Policy_Data/State_Policies/LA/LA_countyCode_12086.0.csv\n",
      "Processing file: ../Game/State_Policy_Data/State_Policies/LA/LA_countyCode_22079.0.csv\n",
      "Processing file: ../Game/State_Policy_Data/State_Policies/LA/LA_countyCode_22075.0.csv\n",
      "Processing file: ../Game/State_Policy_Data/State_Policies/LA/LA_countyCode_22045.0.csv\n",
      "Processing file: ../Game/State_Policy_Data/State_Policies/LA/LA_countyCode_22063.0.csv\n",
      "Processing file: ../Game/State_Policy_Data/State_Policies/LA/LA_countyCode_22015.0.csv\n",
      "Processing file: ../Game/State_Policy_Data/State_Policies/LA/LA_countyCode_22027.0.csv\n",
      "Processing file: ../Game/State_Policy_Data/State_Policies/LA/LA_countyCode_22007.0.csv\n",
      "Processing file: ../Game/State_Policy_Data/State_Policies/LA/LA_countyCode_22091.0.csv\n",
      "Processing file: ../Game/State_Policy_Data/State_Policies/LA/LA_countyCode_22057.0.csv\n",
      "Processing file: ../Game/State_Policy_Data/State_Policies/LA/LA_countyCode_22067.0.csv\n",
      "Processing file: ../Game/State_Policy_Data/State_Policies/LA/LA_countyCode_22017.0.csv\n",
      "Processing file: ../Game/State_Policy_Data/State_Policies/LA/LA_countyCode_22055.0.csv\n",
      "Processing file: ../Game/State_Policy_Data/State_Policies/LA/LA_countyCode_22013.0.csv\n",
      "Processing file: ../Game/State_Policy_Data/State_Policies/LA/LA_countyCode_22051.0.csv\n",
      "Processing file: ../Game/State_Policy_Data/State_Policies/LA/LA_countyCode_22033.0.csv\n",
      "Processing file: ../Game/State_Policy_Data/State_Policies/LA/LA_countyCode_22095.0.csv\n",
      "Processing file: ../Game/State_Policy_Data/State_Policies/LA/LA_countyCode_22043.0.csv\n",
      "Processing file: ../Game/State_Policy_Data/State_Policies/LA/LA_countyCode_22081.0.csv\n",
      "Processing file: ../Game/State_Policy_Data/State_Policies/LA/LA_countyCode_22103.0.csv\n",
      "Processing file: ../Game/State_Policy_Data/State_Policies/LA/LA_countyCode_22115.0.csv\n",
      "Processing file: ../Game/State_Policy_Data/State_Policies/LA/LA_countyCode_22121.0.csv\n",
      "Processing file: ../Game/State_Policy_Data/State_Policies/LA/LA_countyCode_48121.0.csv\n",
      "Processing file: ../Game/State_Policy_Data/State_Policies/LA/LA_countyCode_22035.0.csv\n",
      "Processing file: ../Game/State_Policy_Data/State_Policies/LA/LA_countyCode_28109.0.csv\n",
      "Processing file: ../Game/State_Policy_Data/State_Policies/LA/LA_countyCode_22049.0.csv\n",
      "Processing file: ../Game/State_Policy_Data/State_Policies/LA/LA_countyCode_22037.0.csv\n",
      "Processing file: ../Game/State_Policy_Data/State_Policies/LA/LA_countyCode_22097.0.csv\n",
      "Processing file: ../Game/State_Policy_Data/State_Policies/LA/LA_countyCode_36061.0.csv\n",
      "Processing file: ../Game/State_Policy_Data/State_Policies/LA/LA_countyCode_22003.0.csv\n",
      "Processing file: ../Game/State_Policy_Data/State_Policies/LA/LA_countyCode_22029.0.csv\n",
      "Processing file: ../Game/State_Policy_Data/State_Policies/LA/LA_countyCode_22065.0.csv\n",
      "Processing file: ../Game/State_Policy_Data/State_Policies/LA/LA_countyCode_22123.0.csv\n",
      "Processing file: ../Game/State_Policy_Data/State_Policies/LA/LA_countyCode_22077.0.csv\n",
      "Processing file: ../Game/State_Policy_Data/State_Policies/LA/LA_countyCode_22031.0.csv\n",
      "Processing file: ../Game/State_Policy_Data/State_Policies/LA/LA_countyCode_22009.0.csv\n",
      "Processing file: ../Game/State_Policy_Data/State_Policies/LA/LA_countyCode_22083.0.csv\n",
      "Processing file: ../Game/State_Policy_Data/State_Policies/LA/LA_countyCode_22073.0.csv\n",
      "Processing file: ../Game/State_Policy_Data/State_Policies/LA/LA_countyCode_22069.0.csv\n",
      "Processing file: ../Game/State_Policy_Data/State_Policies/LA/LA_countyCode_22111.0.csv\n",
      "Processing file: ../Game/State_Policy_Data/State_Policies/LA/LA_countyCode_22023.0.csv\n",
      "Processing file: ../Game/State_Policy_Data/State_Policies/LA/LA_countyCode_22109.0.csv\n",
      "Processing file: ../Game/State_Policy_Data/State_Policies/LA/LA_countyCode_22071.0.csv\n",
      "Processing file: ../Game/State_Policy_Data/State_Policies/LA/LA_countyCode_22019.0.csv\n",
      "Processing file: ../Game/State_Policy_Data/State_Policies/LA/LA_countyCode_78010.0.csv\n",
      "Processing file: ../Game/State_Policy_Data/State_Policies/LA/LA_countyCode_22041.0.csv\n",
      "Processing file: ../Game/State_Policy_Data/State_Policies/LA/LA_countyCode_22053.0.csv\n",
      "Processing file: ../Game/State_Policy_Data/State_Policies/LA/LA_countyCode_72127.0.csv\n",
      "Processing file: ../Game/State_Policy_Data/State_Policies/LA/LA_countyCode_22021.0.csv\n",
      "Processing file: ../Game/State_Policy_Data/State_Policies/LA/LA_countyCode_22099.0.csv\n",
      "Processing file: ../Game/State_Policy_Data/State_Policies/LA/LA_countyCode_22085.0.csv\n",
      "Processing file: ../Game/State_Policy_Data/State_Policies/LA/LA_countyCode_22005.0.csv\n",
      "Processing file: ../Game/State_Policy_Data/State_Policies/LA/LA_countyCode_1003.0.csv\n",
      "Processing file: ../Game/State_Policy_Data/State_Policies/LA/LA_countyCode_22087.0.csv\n",
      "Processing file: ../Game/State_Policy_Data/State_Policies/LA/LA_countyCode_22011.0.csv\n",
      "Processing file: ../Game/State_Policy_Data/State_Policies/LA/LA_countyCode_22101.0.csv\n",
      "Processing file: ../Game/State_Policy_Data/State_Policies/LA/LA_countyCode_22107.0.csv\n",
      "Processing file: ../Game/State_Policy_Data/State_Policies/LA/LA_countyCode_22113.0.csv\n",
      "Processing file: ../Game/State_Policy_Data/State_Policies/LA/LA_countyCode_22.0.csv\n",
      "Processing file: ../Game/State_Policy_Data/State_Policies/LA/LA_countyCode_22125.0.csv\n",
      "Processing file: ../Game/State_Policy_Data/State_Policies/LA/LA_countyCode_22127.0.csv\n",
      "Processing file: ../Game/State_Policy_Data/State_Policies/LA/LA_countyCode_22089.0.csv\n",
      "Total Compounded Sum: 45333912349.29366\n",
      "Total Annualized Sum: 1007420274.428748\n"
     ]
    }
   ],
   "source": [
    "# Running total for compounded sum\n",
    "total_compounded_sum = 0\n",
    "\n",
    "# Process each file\n",
    "for file in csv_files:\n",
    "    print(f\"Processing file: {file}\")\n",
    "    \n",
    "    # Load the file and extract required columns\n",
    "    df = pd.read_csv(file, parse_dates=[\"policyEffectiveDate\"], usecols=[\"policyEffectiveDate\", \"federalPolicyFee\", \"totalInsurancePremiumOfThePolicy\"])\n",
    "    \n",
    "    # Add month and year columns\n",
    "    df[\"year\"] = df[\"policyEffectiveDate\"].dt.year\n",
    "    df[\"month\"] = df[\"policyEffectiveDate\"].dt.month\n",
    "    \n",
    "    # Merge with discount rate data\n",
    "    df = df.merge(discount_rates, on=[\"year\", \"month\"], how=\"left\")\n",
    "    \n",
    "    # Calculate years and months difference\n",
    "    df[\"yearsDiff\"] = CURRENT_YEAR - df[\"year\"]\n",
    "    df[\"monthsDiff\"] = CURRENT_MONTH - df[\"month\"]\n",
    "    \n",
    "    # Compound to present value in a vectorized manner\n",
    "    df[\"compoundedValue\"] = compound_to_present(\n",
    "        df[\"totalInsurancePremiumOfThePolicy\"]+df[\"federalPolicyFee\"],\n",
    "        df[\"yearsDiff\"],\n",
    "        df[\"monthsDiff\"],\n",
    "        df[\"discountRate\"]\n",
    "    )\n",
    "    \n",
    "    # Add to running total\n",
    "    total_compounded_sum += df[\"compoundedValue\"].sum()\n",
    "\n",
    "print(f\"Total Compounded Sum: {total_compounded_sum}\")\n",
    "print(f\"Total Annualized Sum: {total_compounded_sum/(2023-1979+1)}\")"
   ]
  },
  {
   "cell_type": "code",
   "execution_count": 7,
   "id": "0a5160d7-0b24-4cb3-98ad-99d833fe5cba",
   "metadata": {
    "scrolled": true
   },
   "outputs": [
    {
     "name": "stderr",
     "output_type": "stream",
     "text": [
      "/tmp/ipykernel_393/2255607804.py:9: FutureWarning: A value is trying to be set on a copy of a DataFrame or Series through chained assignment using an inplace method.\n",
      "The behavior will change in pandas 3.0. This inplace method will never work because the intermediate object on which we are setting values always behaves as a copy.\n",
      "\n",
      "For example, when doing 'df[col].method(value, inplace=True)', try using 'df.method({col: value}, inplace=True)' or df[col] = df[col].method(value) instead, to perform the operation inplace on the original object.\n",
      "\n",
      "\n",
      "  cpi_data[\"CPIAUCSL\"].fillna(method=\"ffill\", inplace=True)\n",
      "/tmp/ipykernel_393/2255607804.py:9: FutureWarning: Series.fillna with 'method' is deprecated and will raise in a future version. Use obj.ffill() or obj.bfill() instead.\n",
      "  cpi_data[\"CPIAUCSL\"].fillna(method=\"ffill\", inplace=True)\n",
      "/tmp/ipykernel_393/2255607804.py:10: FutureWarning: A value is trying to be set on a copy of a DataFrame or Series through chained assignment using an inplace method.\n",
      "The behavior will change in pandas 3.0. This inplace method will never work because the intermediate object on which we are setting values always behaves as a copy.\n",
      "\n",
      "For example, when doing 'df[col].method(value, inplace=True)', try using 'df.method({col: value}, inplace=True)' or df[col] = df[col].method(value) instead, to perform the operation inplace on the original object.\n",
      "\n",
      "\n",
      "  cpi_data[\"CPIAUCSL\"].fillna(method=\"bfill\", inplace=True)\n",
      "/tmp/ipykernel_393/2255607804.py:10: FutureWarning: Series.fillna with 'method' is deprecated and will raise in a future version. Use obj.ffill() or obj.bfill() instead.\n",
      "  cpi_data[\"CPIAUCSL\"].fillna(method=\"bfill\", inplace=True)\n"
     ]
    },
    {
     "name": "stdout",
     "output_type": "stream",
     "text": [
      "Processing file: ../Game/State_Policy_Data/State_Policies/propertyState_PR.csv\n",
      "Processing file: ../Game/State_Policy_Data/State_Policies/propertyState_OK.csv\n",
      "Processing file: ../Game/State_Policy_Data/State_Policies/propertyState_NY.csv\n",
      "Processing file: ../Game/State_Policy_Data/State_Policies/propertyState_OR.csv\n",
      "Processing file: ../Game/State_Policy_Data/State_Policies/propertyState_PA.csv\n",
      "Processing file: ../Game/State_Policy_Data/State_Policies/propertyState_CA.csv\n",
      "Processing file: ../Game/State_Policy_Data/State_Policies/propertyState_MP.csv\n",
      "Processing file: ../Game/State_Policy_Data/State_Policies/propertyState_VI.csv\n",
      "Processing file: ../Game/State_Policy_Data/State_Policies/propertyState_KS.csv\n",
      "Processing file: ../Game/State_Policy_Data/State_Policies/propertyState_OH.csv\n",
      "Processing file: ../Game/State_Policy_Data/State_Policies/propertyState_AL.csv\n",
      "Processing file: ../Game/State_Policy_Data/State_Policies/propertyState_MA.csv\n",
      "Processing file: ../Game/State_Policy_Data/State_Policies/propertyState_AK.csv\n",
      "Processing file: ../Game/State_Policy_Data/State_Policies/propertyState_RI.csv\n",
      "Processing file: ../Game/State_Policy_Data/State_Policies/propertyState_VT.csv\n",
      "Processing file: ../Game/State_Policy_Data/State_Policies/propertyState_DE.csv\n",
      "Processing file: ../Game/State_Policy_Data/State_Policies/propertyState_ME.csv\n",
      "Processing file: ../Game/State_Policy_Data/State_Policies/propertyState_SC.csv\n",
      "Processing file: ../Game/State_Policy_Data/State_Policies/propertyState_HI.csv\n",
      "Processing file: ../Game/State_Policy_Data/State_Policies/propertyState_GA.csv\n",
      "Processing file: ../Game/State_Policy_Data/State_Policies/propertyState_MI.csv\n",
      "Processing file: ../Game/State_Policy_Data/State_Policies/propertyState_NJ.csv\n",
      "Processing file: ../Game/State_Policy_Data/State_Policies/propertyState_IL.csv\n",
      "Processing file: ../Game/State_Policy_Data/State_Policies/propertyState_MS.csv\n",
      "Processing file: ../Game/State_Policy_Data/State_Policies/propertyState_CT.csv\n",
      "Processing file: ../Game/State_Policy_Data/State_Policies/propertyState_GU.csv\n",
      "Processing file: ../Game/State_Policy_Data/State_Policies/propertyState_WA.csv\n",
      "Processing file: ../Game/State_Policy_Data/State_Policies/propertyState_NC.csv\n",
      "Processing file: ../Game/State_Policy_Data/State_Policies/propertyState_NE.csv\n",
      "Processing file: ../Game/State_Policy_Data/State_Policies/propertyState_VA.csv\n",
      "Processing file: ../Game/State_Policy_Data/State_Policies/propertyState_NV.csv\n",
      "Processing file: ../Game/State_Policy_Data/State_Policies/propertyState_MN.csv\n",
      "Processing file: ../Game/State_Policy_Data/State_Policies/propertyState_TX.csv\n",
      "Processing file: ../Game/State_Policy_Data/State_Policies/propertyState_AS.csv\n",
      "Processing file: ../Game/State_Policy_Data/State_Policies/propertyState_AZ.csv\n",
      "Processing file: ../Game/State_Policy_Data/State_Policies/propertyState_NM.csv\n",
      "Processing file: ../Game/State_Policy_Data/State_Policies/propertyState_NH.csv\n",
      "Processing file: ../Game/State_Policy_Data/State_Policies/propertyState_ND.csv\n",
      "Processing file: ../Game/State_Policy_Data/State_Policies/propertyState_CO.csv\n",
      "Processing file: ../Game/State_Policy_Data/State_Policies/propertyState_DC.csv\n",
      "Processing file: ../Game/State_Policy_Data/State_Policies/propertyState_WV.csv\n",
      "Processing file: ../Game/State_Policy_Data/State_Policies/propertyState_MO.csv\n",
      "Processing file: ../Game/State_Policy_Data/State_Policies/propertyState_MT.csv\n",
      "Processing file: ../Game/State_Policy_Data/State_Policies/propertyState_WI.csv\n",
      "Processing file: ../Game/State_Policy_Data/State_Policies/propertyState_KY.csv\n",
      "Processing file: ../Game/State_Policy_Data/State_Policies/propertyState_AR.csv\n",
      "Processing file: ../Game/State_Policy_Data/State_Policies/propertyState_ID.csv\n",
      "Processing file: ../Game/State_Policy_Data/State_Policies/propertyState_WY.csv\n",
      "Processing file: ../Game/State_Policy_Data/State_Policies/propertyState_MD.csv\n",
      "Processing file: ../Game/State_Policy_Data/State_Policies/propertyState_IA.csv\n",
      "Processing file: ../Game/State_Policy_Data/State_Policies/propertyState_IN.csv\n",
      "Processing file: ../Game/State_Policy_Data/State_Policies/propertyState_SD.csv\n",
      "Processing file: ../Game/State_Policy_Data/State_Policies/propertyState_TN.csv\n",
      "Processing file: ../Game/State_Policy_Data/State_Policies/propertyState_UT.csv\n",
      "Processing file: ../Game/State_Policy_Data/State_Policies/propertyState_UN.csv\n",
      "Processing file: ../Game/State_Policy_Data/State_Policies/FL/FL_countyCode_12023.0.csv\n",
      "Processing file: ../Game/State_Policy_Data/State_Policies/FL/FL_countyCode_12127.0.csv\n",
      "Processing file: ../Game/State_Policy_Data/State_Policies/FL/FL_countyCode_12113.0.csv\n",
      "Processing file: ../Game/State_Policy_Data/State_Policies/FL/FL_countyCode_12019.0.csv\n",
      "Processing file: ../Game/State_Policy_Data/State_Policies/FL/FL_countyCode_12075.0.csv\n",
      "Processing file: ../Game/State_Policy_Data/State_Policies/FL/FL_countyCode_12069.0.csv\n",
      "Processing file: ../Game/State_Policy_Data/State_Policies/FL/FL_countyCode_12017.0.csv\n",
      "Processing file: ../Game/State_Policy_Data/State_Policies/FL/FL_countyCode_12083.0.csv\n",
      "Processing file: ../Game/State_Policy_Data/State_Policies/FL/FL_countyCode_12101.0.csv\n",
      "Processing file: ../Game/State_Policy_Data/State_Policies/FL/FL_countyCode_12079.0.csv\n",
      "Processing file: ../Game/State_Policy_Data/State_Policies/FL/FL_countyCode_42003.0.csv\n",
      "Processing file: ../Game/State_Policy_Data/State_Policies/FL/FL_countyCode_12091.0.csv\n",
      "Processing file: ../Game/State_Policy_Data/State_Policies/FL/FL_countyCode_12105.0.csv\n",
      "Processing file: ../Game/State_Policy_Data/State_Policies/FL/FL_countyCode_12037.0.csv\n",
      "Processing file: ../Game/State_Policy_Data/State_Policies/FL/FL_countyCode_72127.0.csv\n",
      "Processing file: ../Game/State_Policy_Data/State_Policies/FL/FL_countyCode_12133.0.csv\n",
      "Processing file: ../Game/State_Policy_Data/State_Policies/FL/FL_countyCode_12095.0.csv\n",
      "Processing file: ../Game/State_Policy_Data/State_Policies/FL/FL_countyCode_12.0.csv\n",
      "Processing file: ../Game/State_Policy_Data/State_Policies/FL/FL_countyCode_12071.0.csv\n",
      "Processing file: ../Game/State_Policy_Data/State_Policies/FL/FL_countyCode_12057.0.csv\n",
      "Processing file: ../Game/State_Policy_Data/State_Policies/FL/FL_countyCode_12053.0.csv\n",
      "Processing file: ../Game/State_Policy_Data/State_Policies/FL/FL_countyCode_12089.0.csv\n",
      "Processing file: ../Game/State_Policy_Data/State_Policies/FL/FL_countyCode_47045.0.csv\n",
      "Processing file: ../Game/State_Policy_Data/State_Policies/FL/FL_countyCode_12125.0.csv\n",
      "Processing file: ../Game/State_Policy_Data/State_Policies/FL/FL_countyCode_12001.0.csv\n",
      "Processing file: ../Game/State_Policy_Data/State_Policies/FL/FL_countyCode_12129.0.csv\n",
      "Processing file: ../Game/State_Policy_Data/State_Policies/FL/FL_countyCode_13253.0.csv\n",
      "Processing file: ../Game/State_Policy_Data/State_Policies/FL/FL_countyCode_22029.0.csv\n",
      "Processing file: ../Game/State_Policy_Data/State_Policies/FL/FL_countyCode_12111.0.csv\n",
      "Processing file: ../Game/State_Policy_Data/State_Policies/FL/FL_countyCode_12047.0.csv\n",
      "Processing file: ../Game/State_Policy_Data/State_Policies/FL/FL_countyCode_12049.0.csv\n",
      "Processing file: ../Game/State_Policy_Data/State_Policies/FL/FL_countyCode_72113.0.csv\n",
      "Processing file: ../Game/State_Policy_Data/State_Policies/FL/FL_countyCode_45019.0.csv\n",
      "Processing file: ../Game/State_Policy_Data/State_Policies/FL/FL_countyCode_12063.0.csv\n",
      "Processing file: ../Game/State_Policy_Data/State_Policies/FL/FL_countyCode_12119.0.csv\n",
      "Processing file: ../Game/State_Policy_Data/State_Policies/FL/FL_countyCode_12087.0.csv\n",
      "Processing file: ../Game/State_Policy_Data/State_Policies/FL/FL_countyCode_12121.0.csv\n",
      "Processing file: ../Game/State_Policy_Data/State_Policies/FL/FL_countyCode_12011.0.csv\n",
      "Processing file: ../Game/State_Policy_Data/State_Policies/FL/FL_countyCode_12109.0.csv\n"
     ]
    },
    {
     "ename": "AssertionError",
     "evalue": "CPI contains missing values after merge!",
     "output_type": "error",
     "traceback": [
      "\u001b[0;31m---------------------------------------------------------------------------\u001b[0m",
      "\u001b[0;31mAssertionError\u001b[0m                            Traceback (most recent call last)",
      "Cell \u001b[0;32mIn[7], line 41\u001b[0m\n\u001b[1;32m     38\u001b[0m df \u001b[38;5;241m=\u001b[39m df\u001b[38;5;241m.\u001b[39mmerge(cpi_data, on\u001b[38;5;241m=\u001b[39m\u001b[38;5;124m\"\u001b[39m\u001b[38;5;124myear\u001b[39m\u001b[38;5;124m\"\u001b[39m, how\u001b[38;5;241m=\u001b[39m\u001b[38;5;124m\"\u001b[39m\u001b[38;5;124mleft\u001b[39m\u001b[38;5;124m\"\u001b[39m)\n\u001b[1;32m     40\u001b[0m \u001b[38;5;66;03m# Ensure CPI is numeric and filled\u001b[39;00m\n\u001b[0;32m---> 41\u001b[0m \u001b[38;5;28;01massert\u001b[39;00m df[\u001b[38;5;124m\"\u001b[39m\u001b[38;5;124mCPI\u001b[39m\u001b[38;5;124m\"\u001b[39m]\u001b[38;5;241m.\u001b[39mnotna()\u001b[38;5;241m.\u001b[39mall(), \u001b[38;5;124m\"\u001b[39m\u001b[38;5;124mCPI contains missing values after merge!\u001b[39m\u001b[38;5;124m\"\u001b[39m\n\u001b[1;32m     43\u001b[0m \u001b[38;5;66;03m# Calculate inflation-adjusted value\u001b[39;00m\n\u001b[1;32m     44\u001b[0m df[\u001b[38;5;124m\"\u001b[39m\u001b[38;5;124minflationAdjustedValue\u001b[39m\u001b[38;5;124m\"\u001b[39m] \u001b[38;5;241m=\u001b[39m (\n\u001b[1;32m     45\u001b[0m     (df[\u001b[38;5;124m\"\u001b[39m\u001b[38;5;124mtotalInsurancePremiumOfThePolicy\u001b[39m\u001b[38;5;124m\"\u001b[39m] \u001b[38;5;241m+\u001b[39m df[\u001b[38;5;124m\"\u001b[39m\u001b[38;5;124mfederalPolicyFee\u001b[39m\u001b[38;5;124m\"\u001b[39m]) \u001b[38;5;241m*\u001b[39m\n\u001b[1;32m     46\u001b[0m     (BASE_CPI \u001b[38;5;241m/\u001b[39m df[\u001b[38;5;124m\"\u001b[39m\u001b[38;5;124mCPI\u001b[39m\u001b[38;5;124m\"\u001b[39m])  \u001b[38;5;66;03m# Adjust for inflation\u001b[39;00m\n\u001b[1;32m     47\u001b[0m )\n",
      "\u001b[0;31mAssertionError\u001b[0m: CPI contains missing values after merge!"
     ]
    }
   ],
   "source": [
    "# Load and preprocess annual CPI data\n",
    "cpi_file = \"../Local_Data/BLS_Data/US_BLS_CPIAUCSL.csv\"  # Replace with the correct path\n",
    "cpi_data = pd.read_csv(cpi_file, parse_dates=[\"DATE\"])\n",
    "\n",
    "# Ensure 'CPIAUCSL' is numeric\n",
    "cpi_data[\"CPIAUCSL\"] = pd.to_numeric(cpi_data[\"CPIAUCSL\"], errors=\"coerce\")\n",
    "\n",
    "# Handle missing or non-numeric values by forward and backward filling\n",
    "cpi_data[\"CPIAUCSL\"].fillna(method=\"ffill\", inplace=True)\n",
    "cpi_data[\"CPIAUCSL\"].fillna(method=\"bfill\", inplace=True)\n",
    "\n",
    "# Extract year and calculate annual average CPI\n",
    "cpi_data[\"year\"] = cpi_data[\"DATE\"].dt.year\n",
    "cpi_data = cpi_data.groupby(\"year\")[\"CPIAUCSL\"].mean().reset_index()\n",
    "cpi_data = cpi_data.rename(columns={\"CPIAUCSL\": \"CPI\"})\n",
    "\n",
    "# Base CPI for adjustment (e.g., 2024)\n",
    "BASE_CPI = 313.3\n",
    "\n",
    "# Running total for CPI-adjusted sum\n",
    "total_cpi_adjusted_sum = 0\n",
    "\n",
    "# Process each file\n",
    "for file in csv_files:\n",
    "    print(f\"Processing file: {file}\")\n",
    "    \n",
    "    # Load the file and extract required columns\n",
    "    df = pd.read_csv(\n",
    "        file, \n",
    "        parse_dates=[\"policyEffectiveDate\"], \n",
    "        usecols=[\"policyEffectiveDate\", \"federalPolicyFee\", \"totalInsurancePremiumOfThePolicy\"]\n",
    "    )\n",
    "    \n",
    "    # Add year column\n",
    "    df[\"year\"] = df[\"policyEffectiveDate\"].dt.year\n",
    "    \n",
    "    # Merge with annual CPI data\n",
    "    df = df.merge(cpi_data, on=\"year\", how=\"left\")\n",
    "    \n",
    "    # Ensure CPI is numeric and filled\n",
    "    assert df[\"CPI\"].notna().all(), \"CPI contains missing values after merge!\"\n",
    "    \n",
    "    # Calculate inflation-adjusted value\n",
    "    df[\"inflationAdjustedValue\"] = (\n",
    "        (df[\"totalInsurancePremiumOfThePolicy\"] + df[\"federalPolicyFee\"]) *\n",
    "        (BASE_CPI / df[\"CPI\"])  # Adjust for inflation\n",
    "    )\n",
    "    \n",
    "    # Add to running total\n",
    "    total_cpi_adjusted_sum += df[\"inflationAdjustedValue\"].sum()\n",
    "\n",
    "# Calculate total annualized sum (adjusting for the number of years)\n",
    "start_year = cpi_data[\"year\"].min()\n",
    "end_year = cpi_data[\"year\"].max()\n",
    "total_years = end_year - start_year + 1\n",
    "total_annualized_sum = total_cpi_adjusted_sum / total_years\n",
    "\n",
    "# Output results\n",
    "print(f\"Total CPI-Adjusted Sum: {total_cpi_adjusted_sum}\")\n",
    "print(f\"Total Annualized Sum: {total_annualized_sum}\")"
   ]
  },
  {
   "cell_type": "code",
   "execution_count": 5,
   "id": "76845619-df20-4382-a9c9-b1ffbfa1c714",
   "metadata": {
    "scrolled": true
   },
   "outputs": [
    {
     "name": "stderr",
     "output_type": "stream",
     "text": [
      "/tmp/ipykernel_391/4247642833.py:7: FutureWarning: A value is trying to be set on a copy of a DataFrame or Series through chained assignment using an inplace method.\n",
      "The behavior will change in pandas 3.0. This inplace method will never work because the intermediate object on which we are setting values always behaves as a copy.\n",
      "\n",
      "For example, when doing 'df[col].method(value, inplace=True)', try using 'df.method({col: value}, inplace=True)' or df[col] = df[col].method(value) instead, to perform the operation inplace on the original object.\n",
      "\n",
      "\n",
      "  cpi_data[\"CPIAUCSL\"].fillna(method=\"ffill\", inplace=True)\n",
      "/tmp/ipykernel_391/4247642833.py:7: FutureWarning: Series.fillna with 'method' is deprecated and will raise in a future version. Use obj.ffill() or obj.bfill() instead.\n",
      "  cpi_data[\"CPIAUCSL\"].fillna(method=\"ffill\", inplace=True)\n",
      "/tmp/ipykernel_391/4247642833.py:8: FutureWarning: A value is trying to be set on a copy of a DataFrame or Series through chained assignment using an inplace method.\n",
      "The behavior will change in pandas 3.0. This inplace method will never work because the intermediate object on which we are setting values always behaves as a copy.\n",
      "\n",
      "For example, when doing 'df[col].method(value, inplace=True)', try using 'df.method({col: value}, inplace=True)' or df[col] = df[col].method(value) instead, to perform the operation inplace on the original object.\n",
      "\n",
      "\n",
      "  cpi_data[\"CPIAUCSL\"].fillna(method=\"bfill\", inplace=True)\n",
      "/tmp/ipykernel_391/4247642833.py:8: FutureWarning: Series.fillna with 'method' is deprecated and will raise in a future version. Use obj.ffill() or obj.bfill() instead.\n",
      "  cpi_data[\"CPIAUCSL\"].fillna(method=\"bfill\", inplace=True)\n"
     ]
    },
    {
     "name": "stdout",
     "output_type": "stream",
     "text": [
      "Processing file: ../Game/State_Policy_Data/State_Policies/propertyState_PR.csv\n"
     ]
    },
    {
     "name": "stderr",
     "output_type": "stream",
     "text": [
      "/tmp/ipykernel_391/4247642833.py:20: DtypeWarning: Columns (3,7,8,10,32,38,39,49,54,57,66,70) have mixed types. Specify dtype option on import or set low_memory=False.\n",
      "  file_df = pd.read_csv(file_df, parse_dates=[\"policyEffectiveDate\"])\n"
     ]
    },
    {
     "name": "stdout",
     "output_type": "stream",
     "text": [
      "287964323.5166673\n",
      "Processing file: ../Game/State_Policy_Data/State_Policies/propertyState_OK.csv\n"
     ]
    },
    {
     "name": "stderr",
     "output_type": "stream",
     "text": [
      "/tmp/ipykernel_391/4247642833.py:20: DtypeWarning: Columns (3,7,8,10,32,38,39,49,54,57,66,70) have mixed types. Specify dtype option on import or set low_memory=False.\n",
      "  file_df = pd.read_csv(file_df, parse_dates=[\"policyEffectiveDate\"])\n"
     ]
    },
    {
     "name": "stdout",
     "output_type": "stream",
     "text": [
      "230270848.58499807\n",
      "Processing file: ../Game/State_Policy_Data/State_Policies/propertyState_NY.csv\n"
     ]
    },
    {
     "name": "stderr",
     "output_type": "stream",
     "text": [
      "/tmp/ipykernel_391/4247642833.py:20: DtypeWarning: Columns (3,10,32,38,39,49,54,57,66,70) have mixed types. Specify dtype option on import or set low_memory=False.\n",
      "  file_df = pd.read_csv(file_df, parse_dates=[\"policyEffectiveDate\"])\n"
     ]
    },
    {
     "name": "stdout",
     "output_type": "stream",
     "text": [
      "3789074461.796824\n",
      "Processing file: ../Game/State_Policy_Data/State_Policies/propertyState_OR.csv\n"
     ]
    },
    {
     "name": "stderr",
     "output_type": "stream",
     "text": [
      "/tmp/ipykernel_391/4247642833.py:20: DtypeWarning: Columns (3,32,38,39,54,57,66,70,74) have mixed types. Specify dtype option on import or set low_memory=False.\n",
      "  file_df = pd.read_csv(file_df, parse_dates=[\"policyEffectiveDate\"])\n"
     ]
    },
    {
     "name": "stdout",
     "output_type": "stream",
     "text": [
      "492331540.50152636\n",
      "Processing file: ../Game/State_Policy_Data/State_Policies/propertyState_PA.csv\n"
     ]
    },
    {
     "name": "stderr",
     "output_type": "stream",
     "text": [
      "/tmp/ipykernel_391/4247642833.py:20: DtypeWarning: Columns (3,10,32,38,39,54,57,66,70) have mixed types. Specify dtype option on import or set low_memory=False.\n",
      "  file_df = pd.read_csv(file_df, parse_dates=[\"policyEffectiveDate\"])\n"
     ]
    },
    {
     "name": "stdout",
     "output_type": "stream",
     "text": [
      "1324340820.9919538\n",
      "Processing file: ../Game/State_Policy_Data/State_Policies/propertyState_CA.csv\n"
     ]
    },
    {
     "name": "stderr",
     "output_type": "stream",
     "text": [
      "/tmp/ipykernel_391/4247642833.py:20: DtypeWarning: Columns (3,8,10,32,38,39,49,54,57,66,68,70) have mixed types. Specify dtype option on import or set low_memory=False.\n",
      "  file_df = pd.read_csv(file_df, parse_dates=[\"policyEffectiveDate\"])\n"
     ]
    },
    {
     "name": "stdout",
     "output_type": "stream",
     "text": [
      "3968907471.336013\n",
      "Processing file: ../Game/State_Policy_Data/State_Policies/propertyState_MP.csv\n",
      "418077.83371607657\n",
      "Processing file: ../Game/State_Policy_Data/State_Policies/propertyState_VI.csv\n",
      "38848453.9038468\n",
      "Processing file: ../Game/State_Policy_Data/State_Policies/propertyState_KS.csv\n"
     ]
    },
    {
     "name": "stderr",
     "output_type": "stream",
     "text": [
      "/tmp/ipykernel_391/4247642833.py:20: DtypeWarning: Columns (38) have mixed types. Specify dtype option on import or set low_memory=False.\n",
      "  file_df = pd.read_csv(file_df, parse_dates=[\"policyEffectiveDate\"])\n",
      "/tmp/ipykernel_391/4247642833.py:20: DtypeWarning: Columns (32,38,39,66,70) have mixed types. Specify dtype option on import or set low_memory=False.\n",
      "  file_df = pd.read_csv(file_df, parse_dates=[\"policyEffectiveDate\"])\n"
     ]
    },
    {
     "name": "stdout",
     "output_type": "stream",
     "text": [
      "179379094.8863299\n",
      "Processing file: ../Game/State_Policy_Data/State_Policies/propertyState_OH.csv\n"
     ]
    },
    {
     "name": "stderr",
     "output_type": "stream",
     "text": [
      "/tmp/ipykernel_391/4247642833.py:20: DtypeWarning: Columns (3,32,38,39,54,66,70) have mixed types. Specify dtype option on import or set low_memory=False.\n",
      "  file_df = pd.read_csv(file_df, parse_dates=[\"policyEffectiveDate\"])\n"
     ]
    },
    {
     "name": "stdout",
     "output_type": "stream",
     "text": [
      "656535809.5035777\n",
      "Processing file: ../Game/State_Policy_Data/State_Policies/propertyState_AL.csv\n"
     ]
    },
    {
     "name": "stderr",
     "output_type": "stream",
     "text": [
      "/tmp/ipykernel_391/4247642833.py:20: DtypeWarning: Columns (10,38,39,54,65,66,70) have mixed types. Specify dtype option on import or set low_memory=False.\n",
      "  file_df = pd.read_csv(file_df, parse_dates=[\"policyEffectiveDate\"])\n"
     ]
    },
    {
     "name": "stdout",
     "output_type": "stream",
     "text": [
      "753988284.681703\n",
      "Processing file: ../Game/State_Policy_Data/State_Policies/propertyState_MA.csv\n"
     ]
    },
    {
     "name": "stderr",
     "output_type": "stream",
     "text": [
      "/tmp/ipykernel_391/4247642833.py:20: DtypeWarning: Columns (3,38,39,54,66,70) have mixed types. Specify dtype option on import or set low_memory=False.\n",
      "  file_df = pd.read_csv(file_df, parse_dates=[\"policyEffectiveDate\"])\n"
     ]
    },
    {
     "name": "stdout",
     "output_type": "stream",
     "text": [
      "1414375479.0548756\n",
      "Processing file: ../Game/State_Policy_Data/State_Policies/propertyState_AK.csv\n"
     ]
    },
    {
     "name": "stderr",
     "output_type": "stream",
     "text": [
      "/tmp/ipykernel_391/4247642833.py:20: DtypeWarning: Columns (8,10,32,38,39,54,66,70) have mixed types. Specify dtype option on import or set low_memory=False.\n",
      "  file_df = pd.read_csv(file_df, parse_dates=[\"policyEffectiveDate\"])\n"
     ]
    },
    {
     "name": "stdout",
     "output_type": "stream",
     "text": [
      "46568229.37010546\n",
      "Processing file: ../Game/State_Policy_Data/State_Policies/propertyState_RI.csv\n"
     ]
    },
    {
     "name": "stderr",
     "output_type": "stream",
     "text": [
      "/tmp/ipykernel_391/4247642833.py:20: DtypeWarning: Columns (10,38,39,66,70) have mixed types. Specify dtype option on import or set low_memory=False.\n",
      "  file_df = pd.read_csv(file_df, parse_dates=[\"policyEffectiveDate\"])\n"
     ]
    },
    {
     "name": "stdout",
     "output_type": "stream",
     "text": [
      "367511032.5447834\n",
      "Processing file: ../Game/State_Policy_Data/State_Policies/propertyState_VT.csv\n"
     ]
    },
    {
     "name": "stderr",
     "output_type": "stream",
     "text": [
      "/tmp/ipykernel_391/4247642833.py:20: DtypeWarning: Columns (38,39) have mixed types. Specify dtype option on import or set low_memory=False.\n",
      "  file_df = pd.read_csv(file_df, parse_dates=[\"policyEffectiveDate\"])\n"
     ]
    },
    {
     "name": "stdout",
     "output_type": "stream",
     "text": [
      "98435526.68017446\n",
      "Processing file: ../Game/State_Policy_Data/State_Policies/propertyState_DE.csv\n"
     ]
    },
    {
     "name": "stderr",
     "output_type": "stream",
     "text": [
      "/tmp/ipykernel_391/4247642833.py:20: DtypeWarning: Columns (10,38,39,66,70) have mixed types. Specify dtype option on import or set low_memory=False.\n",
      "  file_df = pd.read_csv(file_df, parse_dates=[\"policyEffectiveDate\"])\n"
     ]
    },
    {
     "name": "stdout",
     "output_type": "stream",
     "text": [
      "379773007.5334814\n",
      "Processing file: ../Game/State_Policy_Data/State_Policies/propertyState_ME.csv\n"
     ]
    },
    {
     "name": "stderr",
     "output_type": "stream",
     "text": [
      "/tmp/ipykernel_391/4247642833.py:20: DtypeWarning: Columns (38,39,57,66,70) have mixed types. Specify dtype option on import or set low_memory=False.\n",
      "  file_df = pd.read_csv(file_df, parse_dates=[\"policyEffectiveDate\"])\n"
     ]
    },
    {
     "name": "stdout",
     "output_type": "stream",
     "text": [
      "178236378.70876297\n",
      "Processing file: ../Game/State_Policy_Data/State_Policies/propertyState_SC.csv\n"
     ]
    },
    {
     "name": "stderr",
     "output_type": "stream",
     "text": [
      "/tmp/ipykernel_391/4247642833.py:20: DtypeWarning: Columns (3,8,10,32,38,39,49,54,57,65,66,70) have mixed types. Specify dtype option on import or set low_memory=False.\n",
      "  file_df = pd.read_csv(file_df, parse_dates=[\"policyEffectiveDate\"])\n"
     ]
    },
    {
     "name": "stdout",
     "output_type": "stream",
     "text": [
      "2674833449.378336\n",
      "Processing file: ../Game/State_Policy_Data/State_Policies/propertyState_HI.csv\n"
     ]
    },
    {
     "name": "stderr",
     "output_type": "stream",
     "text": [
      "/tmp/ipykernel_391/4247642833.py:20: DtypeWarning: Columns (10,38,39,54,66,70,74) have mixed types. Specify dtype option on import or set low_memory=False.\n",
      "  file_df = pd.read_csv(file_df, parse_dates=[\"policyEffectiveDate\"])\n"
     ]
    },
    {
     "name": "stdout",
     "output_type": "stream",
     "text": [
      "759688814.1779071\n",
      "Processing file: ../Game/State_Policy_Data/State_Policies/propertyState_GA.csv\n"
     ]
    },
    {
     "name": "stderr",
     "output_type": "stream",
     "text": [
      "/tmp/ipykernel_391/4247642833.py:20: DtypeWarning: Columns (3,8,10,32,38,39,49,54,57,66,68,70) have mixed types. Specify dtype option on import or set low_memory=False.\n",
      "  file_df = pd.read_csv(file_df, parse_dates=[\"policyEffectiveDate\"])\n"
     ]
    },
    {
     "name": "stdout",
     "output_type": "stream",
     "text": [
      "1285340861.0564823\n",
      "Processing file: ../Game/State_Policy_Data/State_Policies/propertyState_MI.csv\n"
     ]
    },
    {
     "name": "stderr",
     "output_type": "stream",
     "text": [
      "/tmp/ipykernel_391/4247642833.py:20: DtypeWarning: Columns (32,38,39,54,57,66,70) have mixed types. Specify dtype option on import or set low_memory=False.\n",
      "  file_df = pd.read_csv(file_df, parse_dates=[\"policyEffectiveDate\"])\n"
     ]
    },
    {
     "name": "stdout",
     "output_type": "stream",
     "text": [
      "428510190.19584906\n",
      "Processing file: ../Game/State_Policy_Data/State_Policies/propertyState_NJ.csv\n"
     ]
    },
    {
     "name": "stderr",
     "output_type": "stream",
     "text": [
      "/tmp/ipykernel_391/4247642833.py:20: DtypeWarning: Columns (3,8,10,32,38,39,49,54,57,66,70,74) have mixed types. Specify dtype option on import or set low_memory=False.\n",
      "  file_df = pd.read_csv(file_df, parse_dates=[\"policyEffectiveDate\"])\n"
     ]
    },
    {
     "name": "stdout",
     "output_type": "stream",
     "text": [
      "4281386261.3768272\n",
      "Processing file: ../Game/State_Policy_Data/State_Policies/propertyState_IL.csv\n"
     ]
    },
    {
     "name": "stderr",
     "output_type": "stream",
     "text": [
      "/tmp/ipykernel_391/4247642833.py:20: DtypeWarning: Columns (32,38,39,54,57,66,70) have mixed types. Specify dtype option on import or set low_memory=False.\n",
      "  file_df = pd.read_csv(file_df, parse_dates=[\"policyEffectiveDate\"])\n"
     ]
    },
    {
     "name": "stdout",
     "output_type": "stream",
     "text": [
      "815580450.8124942\n",
      "Processing file: ../Game/State_Policy_Data/State_Policies/propertyState_MS.csv\n"
     ]
    },
    {
     "name": "stderr",
     "output_type": "stream",
     "text": [
      "/tmp/ipykernel_391/4247642833.py:20: DtypeWarning: Columns (3,10,32,38,39,49,54,57,66,70) have mixed types. Specify dtype option on import or set low_memory=False.\n",
      "  file_df = pd.read_csv(file_df, parse_dates=[\"policyEffectiveDate\"])\n"
     ]
    },
    {
     "name": "stdout",
     "output_type": "stream",
     "text": [
      "918590780.511549\n",
      "Processing file: ../Game/State_Policy_Data/State_Policies/propertyState_CT.csv\n"
     ]
    },
    {
     "name": "stderr",
     "output_type": "stream",
     "text": [
      "/tmp/ipykernel_391/4247642833.py:20: DtypeWarning: Columns (32,38,39,66,70) have mixed types. Specify dtype option on import or set low_memory=False.\n",
      "  file_df = pd.read_csv(file_df, parse_dates=[\"policyEffectiveDate\"])\n"
     ]
    },
    {
     "name": "stdout",
     "output_type": "stream",
     "text": [
      "981767803.5664668\n",
      "Processing file: ../Game/State_Policy_Data/State_Policies/propertyState_GU.csv\n",
      "7769759.129153114\n",
      "Processing file: ../Game/State_Policy_Data/State_Policies/propertyState_WA.csv\n"
     ]
    },
    {
     "name": "stderr",
     "output_type": "stream",
     "text": [
      "/tmp/ipykernel_391/4247642833.py:20: DtypeWarning: Columns (10,32,38,39,54,66,70,74) have mixed types. Specify dtype option on import or set low_memory=False.\n",
      "  file_df = pd.read_csv(file_df, parse_dates=[\"policyEffectiveDate\"])\n"
     ]
    },
    {
     "name": "stdout",
     "output_type": "stream",
     "text": [
      "679438782.9123105\n",
      "Processing file: ../Game/State_Policy_Data/State_Policies/propertyState_NC.csv\n"
     ]
    },
    {
     "name": "stderr",
     "output_type": "stream",
     "text": [
      "/tmp/ipykernel_391/4247642833.py:20: DtypeWarning: Columns (3,8,10,38,39,54,66,70,74) have mixed types. Specify dtype option on import or set low_memory=False.\n",
      "  file_df = pd.read_csv(file_df, parse_dates=[\"policyEffectiveDate\"])\n"
     ]
    },
    {
     "name": "stdout",
     "output_type": "stream",
     "text": [
      "2073506635.2802675\n",
      "Processing file: ../Game/State_Policy_Data/State_Policies/propertyState_NE.csv\n"
     ]
    },
    {
     "name": "stderr",
     "output_type": "stream",
     "text": [
      "/tmp/ipykernel_391/4247642833.py:20: DtypeWarning: Columns (32,38,39,54,66,70) have mixed types. Specify dtype option on import or set low_memory=False.\n",
      "  file_df = pd.read_csv(file_df, parse_dates=[\"policyEffectiveDate\"])\n"
     ]
    },
    {
     "name": "stdout",
     "output_type": "stream",
     "text": [
      "188912797.79729223\n",
      "Processing file: ../Game/State_Policy_Data/State_Policies/propertyState_VA.csv\n"
     ]
    },
    {
     "name": "stderr",
     "output_type": "stream",
     "text": [
      "/tmp/ipykernel_391/4247642833.py:20: DtypeWarning: Columns (3,10,32,38,39,54,57,66,70) have mixed types. Specify dtype option on import or set low_memory=False.\n",
      "  file_df = pd.read_csv(file_df, parse_dates=[\"policyEffectiveDate\"])\n"
     ]
    },
    {
     "name": "stdout",
     "output_type": "stream",
     "text": [
      "1540439845.0719616\n",
      "Processing file: ../Game/State_Policy_Data/State_Policies/propertyState_NV.csv\n"
     ]
    },
    {
     "name": "stderr",
     "output_type": "stream",
     "text": [
      "/tmp/ipykernel_391/4247642833.py:20: DtypeWarning: Columns (10,32,38,39,66,70) have mixed types. Specify dtype option on import or set low_memory=False.\n",
      "  file_df = pd.read_csv(file_df, parse_dates=[\"policyEffectiveDate\"])\n"
     ]
    },
    {
     "name": "stdout",
     "output_type": "stream",
     "text": [
      "171538285.14864942\n",
      "Processing file: ../Game/State_Policy_Data/State_Policies/propertyState_MN.csv\n"
     ]
    },
    {
     "name": "stderr",
     "output_type": "stream",
     "text": [
      "/tmp/ipykernel_391/4247642833.py:20: DtypeWarning: Columns (38,39,66,70) have mixed types. Specify dtype option on import or set low_memory=False.\n",
      "  file_df = pd.read_csv(file_df, parse_dates=[\"policyEffectiveDate\"])\n"
     ]
    },
    {
     "name": "stdout",
     "output_type": "stream",
     "text": [
      "178788209.8386363\n",
      "Processing file: ../Game/State_Policy_Data/State_Policies/propertyState_TX.csv\n"
     ]
    },
    {
     "name": "stderr",
     "output_type": "stream",
     "text": [
      "/tmp/ipykernel_391/4247642833.py:20: DtypeWarning: Columns (3,10,32,39,65) have mixed types. Specify dtype option on import or set low_memory=False.\n",
      "  file_df = pd.read_csv(file_df, parse_dates=[\"policyEffectiveDate\"])\n"
     ]
    },
    {
     "name": "stdout",
     "output_type": "stream",
     "text": [
      "180273523.44840756\n",
      "Processing file: ../Game/State_Policy_Data/State_Policies/propertyState_AS.csv\n",
      "513111.4695734414\n",
      "Processing file: ../Game/State_Policy_Data/State_Policies/propertyState_AZ.csv\n"
     ]
    },
    {
     "name": "stderr",
     "output_type": "stream",
     "text": [
      "/tmp/ipykernel_391/4247642833.py:20: DtypeWarning: Columns (10,32,38,39,57,66,70) have mixed types. Specify dtype option on import or set low_memory=False.\n",
      "  file_df = pd.read_csv(file_df, parse_dates=[\"policyEffectiveDate\"])\n"
     ]
    },
    {
     "name": "stdout",
     "output_type": "stream",
     "text": [
      "426646943.1402156\n",
      "Processing file: ../Game/State_Policy_Data/State_Policies/propertyState_NM.csv\n"
     ]
    },
    {
     "name": "stderr",
     "output_type": "stream",
     "text": [
      "/tmp/ipykernel_391/4247642833.py:20: DtypeWarning: Columns (10,32,38,39,66,70) have mixed types. Specify dtype option on import or set low_memory=False.\n",
      "  file_df = pd.read_csv(file_df, parse_dates=[\"policyEffectiveDate\"])\n"
     ]
    },
    {
     "name": "stdout",
     "output_type": "stream",
     "text": [
      "226490562.78534177\n",
      "Processing file: ../Game/State_Policy_Data/State_Policies/propertyState_NH.csv\n"
     ]
    },
    {
     "name": "stderr",
     "output_type": "stream",
     "text": [
      "/tmp/ipykernel_391/4247642833.py:20: DtypeWarning: Columns (32,38,39,54,57,66,70) have mixed types. Specify dtype option on import or set low_memory=False.\n",
      "  file_df = pd.read_csv(file_df, parse_dates=[\"policyEffectiveDate\"])\n"
     ]
    },
    {
     "name": "stdout",
     "output_type": "stream",
     "text": [
      "169087444.09289843\n",
      "Processing file: ../Game/State_Policy_Data/State_Policies/propertyState_ND.csv\n"
     ]
    },
    {
     "name": "stderr",
     "output_type": "stream",
     "text": [
      "/tmp/ipykernel_391/4247642833.py:20: DtypeWarning: Columns (32,38,39,54,66,70) have mixed types. Specify dtype option on import or set low_memory=False.\n",
      "  file_df = pd.read_csv(file_df, parse_dates=[\"policyEffectiveDate\"])\n"
     ]
    },
    {
     "name": "stdout",
     "output_type": "stream",
     "text": [
      "148452387.03491616\n",
      "Processing file: ../Game/State_Policy_Data/State_Policies/propertyState_CO.csv\n"
     ]
    },
    {
     "name": "stderr",
     "output_type": "stream",
     "text": [
      "/tmp/ipykernel_391/4247642833.py:20: DtypeWarning: Columns (32,38,39,54,57,66,70) have mixed types. Specify dtype option on import or set low_memory=False.\n",
      "  file_df = pd.read_csv(file_df, parse_dates=[\"policyEffectiveDate\"])\n"
     ]
    },
    {
     "name": "stdout",
     "output_type": "stream",
     "text": [
      "351589344.8251023\n",
      "Processing file: ../Game/State_Policy_Data/State_Policies/propertyState_DC.csv\n"
     ]
    },
    {
     "name": "stderr",
     "output_type": "stream",
     "text": [
      "/tmp/ipykernel_391/4247642833.py:20: DtypeWarning: Columns (10,38) have mixed types. Specify dtype option on import or set low_memory=False.\n",
      "  file_df = pd.read_csv(file_df, parse_dates=[\"policyEffectiveDate\"])\n"
     ]
    },
    {
     "name": "stdout",
     "output_type": "stream",
     "text": [
      "26335624.269536555\n",
      "Processing file: ../Game/State_Policy_Data/State_Policies/propertyState_WV.csv\n"
     ]
    },
    {
     "name": "stderr",
     "output_type": "stream",
     "text": [
      "/tmp/ipykernel_391/4247642833.py:20: DtypeWarning: Columns (10,32,38,39,66,70) have mixed types. Specify dtype option on import or set low_memory=False.\n",
      "  file_df = pd.read_csv(file_df, parse_dates=[\"policyEffectiveDate\"])\n"
     ]
    },
    {
     "name": "stdout",
     "output_type": "stream",
     "text": [
      "335884214.1259864\n",
      "Processing file: ../Game/State_Policy_Data/State_Policies/propertyState_MO.csv\n"
     ]
    },
    {
     "name": "stderr",
     "output_type": "stream",
     "text": [
      "/tmp/ipykernel_391/4247642833.py:20: DtypeWarning: Columns (3,10,32,38,39,54,66,70) have mixed types. Specify dtype option on import or set low_memory=False.\n",
      "  file_df = pd.read_csv(file_df, parse_dates=[\"policyEffectiveDate\"])\n"
     ]
    },
    {
     "name": "stdout",
     "output_type": "stream",
     "text": [
      "442143289.760966\n",
      "Processing file: ../Game/State_Policy_Data/State_Policies/propertyState_MT.csv\n"
     ]
    },
    {
     "name": "stderr",
     "output_type": "stream",
     "text": [
      "/tmp/ipykernel_391/4247642833.py:20: DtypeWarning: Columns (10,38,39) have mixed types. Specify dtype option on import or set low_memory=False.\n",
      "  file_df = pd.read_csv(file_df, parse_dates=[\"policyEffectiveDate\"])\n"
     ]
    },
    {
     "name": "stdout",
     "output_type": "stream",
     "text": [
      "74745060.20622316\n",
      "Processing file: ../Game/State_Policy_Data/State_Policies/propertyState_WI.csv\n"
     ]
    },
    {
     "name": "stderr",
     "output_type": "stream",
     "text": [
      "/tmp/ipykernel_391/4247642833.py:20: DtypeWarning: Columns (32,38,39,57,66,70) have mixed types. Specify dtype option on import or set low_memory=False.\n",
      "  file_df = pd.read_csv(file_df, parse_dates=[\"policyEffectiveDate\"])\n"
     ]
    },
    {
     "name": "stdout",
     "output_type": "stream",
     "text": [
      "249921377.601985\n",
      "Processing file: ../Game/State_Policy_Data/State_Policies/propertyState_KY.csv\n"
     ]
    },
    {
     "name": "stderr",
     "output_type": "stream",
     "text": [
      "/tmp/ipykernel_391/4247642833.py:20: DtypeWarning: Columns (32,38,39,54,66,70) have mixed types. Specify dtype option on import or set low_memory=False.\n",
      "  file_df = pd.read_csv(file_df, parse_dates=[\"policyEffectiveDate\"])\n"
     ]
    },
    {
     "name": "stdout",
     "output_type": "stream",
     "text": [
      "401214448.2926429\n",
      "Processing file: ../Game/State_Policy_Data/State_Policies/propertyState_AR.csv\n"
     ]
    },
    {
     "name": "stderr",
     "output_type": "stream",
     "text": [
      "/tmp/ipykernel_391/4247642833.py:20: DtypeWarning: Columns (32,38,57,66,70) have mixed types. Specify dtype option on import or set low_memory=False.\n",
      "  file_df = pd.read_csv(file_df, parse_dates=[\"policyEffectiveDate\"])\n"
     ]
    },
    {
     "name": "stdout",
     "output_type": "stream",
     "text": [
      "19461754.190155562\n",
      "Processing file: ../Game/State_Policy_Data/State_Policies/propertyState_ID.csv\n"
     ]
    },
    {
     "name": "stderr",
     "output_type": "stream",
     "text": [
      "/tmp/ipykernel_391/4247642833.py:20: DtypeWarning: Columns (10,32,38,39,66,70) have mixed types. Specify dtype option on import or set low_memory=False.\n",
      "  file_df = pd.read_csv(file_df, parse_dates=[\"policyEffectiveDate\"])\n"
     ]
    },
    {
     "name": "stdout",
     "output_type": "stream",
     "text": [
      "96324280.89583938\n",
      "Processing file: ../Game/State_Policy_Data/State_Policies/propertyState_WY.csv\n"
     ]
    },
    {
     "name": "stderr",
     "output_type": "stream",
     "text": [
      "/tmp/ipykernel_391/4247642833.py:20: DtypeWarning: Columns (10,38,39) have mixed types. Specify dtype option on import or set low_memory=False.\n",
      "  file_df = pd.read_csv(file_df, parse_dates=[\"policyEffectiveDate\"])\n"
     ]
    },
    {
     "name": "stdout",
     "output_type": "stream",
     "text": [
      "37487318.59595211\n",
      "Processing file: ../Game/State_Policy_Data/State_Policies/propertyState_MD.csv\n"
     ]
    },
    {
     "name": "stderr",
     "output_type": "stream",
     "text": [
      "/tmp/ipykernel_391/4247642833.py:20: DtypeWarning: Columns (10,38,39,54,66,70) have mixed types. Specify dtype option on import or set low_memory=False.\n",
      "  file_df = pd.read_csv(file_df, parse_dates=[\"policyEffectiveDate\"])\n"
     ]
    },
    {
     "name": "stdout",
     "output_type": "stream",
     "text": [
      "796452388.200819\n",
      "Processing file: ../Game/State_Policy_Data/State_Policies/propertyState_IA.csv\n"
     ]
    },
    {
     "name": "stderr",
     "output_type": "stream",
     "text": [
      "/tmp/ipykernel_391/4247642833.py:20: DtypeWarning: Columns (32,38,39,54,66,70) have mixed types. Specify dtype option on import or set low_memory=False.\n",
      "  file_df = pd.read_csv(file_df, parse_dates=[\"policyEffectiveDate\"])\n"
     ]
    },
    {
     "name": "stdout",
     "output_type": "stream",
     "text": [
      "270302690.79361993\n",
      "Processing file: ../Game/State_Policy_Data/State_Policies/propertyState_IN.csv\n"
     ]
    },
    {
     "name": "stderr",
     "output_type": "stream",
     "text": [
      "/tmp/ipykernel_391/4247642833.py:20: DtypeWarning: Columns (10,32,38,39,57,66,70) have mixed types. Specify dtype option on import or set low_memory=False.\n",
      "  file_df = pd.read_csv(file_df, parse_dates=[\"policyEffectiveDate\"])\n"
     ]
    },
    {
     "name": "stdout",
     "output_type": "stream",
     "text": [
      "468270340.40956616\n",
      "Processing file: ../Game/State_Policy_Data/State_Policies/propertyState_SD.csv\n"
     ]
    },
    {
     "name": "stderr",
     "output_type": "stream",
     "text": [
      "/tmp/ipykernel_391/4247642833.py:20: DtypeWarning: Columns (38,39) have mixed types. Specify dtype option on import or set low_memory=False.\n",
      "  file_df = pd.read_csv(file_df, parse_dates=[\"policyEffectiveDate\"])\n"
     ]
    },
    {
     "name": "stdout",
     "output_type": "stream",
     "text": [
      "78447798.71125579\n",
      "Processing file: ../Game/State_Policy_Data/State_Policies/propertyState_TN.csv\n"
     ]
    },
    {
     "name": "stderr",
     "output_type": "stream",
     "text": [
      "/tmp/ipykernel_391/4247642833.py:20: DtypeWarning: Columns (32,38,39,66,70) have mixed types. Specify dtype option on import or set low_memory=False.\n",
      "  file_df = pd.read_csv(file_df, parse_dates=[\"policyEffectiveDate\"])\n"
     ]
    },
    {
     "name": "stdout",
     "output_type": "stream",
     "text": [
      "481688651.19582707\n",
      "Processing file: ../Game/State_Policy_Data/State_Policies/propertyState_UT.csv\n"
     ]
    },
    {
     "name": "stderr",
     "output_type": "stream",
     "text": [
      "/tmp/ipykernel_391/4247642833.py:20: DtypeWarning: Columns (10,38,39) have mixed types. Specify dtype option on import or set low_memory=False.\n",
      "  file_df = pd.read_csv(file_df, parse_dates=[\"policyEffectiveDate\"])\n"
     ]
    },
    {
     "name": "stdout",
     "output_type": "stream",
     "text": [
      "57662975.343997985\n",
      "Processing file: ../Game/State_Policy_Data/State_Policies/propertyState_UN.csv\n",
      "209598.08774495815\n",
      "Processing file: ../Game/State_Policy_Data/State_Policies/FL/FL_countyCode_12023.0.csv\n",
      "10401043.368880758\n",
      "Processing file: ../Game/State_Policy_Data/State_Policies/FL/FL_countyCode_12127.0.csv\n"
     ]
    },
    {
     "name": "stderr",
     "output_type": "stream",
     "text": [
      "/tmp/ipykernel_391/4247642833.py:20: DtypeWarning: Columns (10,32,38,39,54,57,66,70) have mixed types. Specify dtype option on import or set low_memory=False.\n",
      "  file_df = pd.read_csv(file_df, parse_dates=[\"policyEffectiveDate\"])\n"
     ]
    },
    {
     "name": "stdout",
     "output_type": "stream",
     "text": [
      "392260025.2022667\n",
      "Processing file: ../Game/State_Policy_Data/State_Policies/FL/FL_countyCode_12113.0.csv\n"
     ]
    },
    {
     "name": "stderr",
     "output_type": "stream",
     "text": [
      "/tmp/ipykernel_391/4247642833.py:20: DtypeWarning: Columns (38,39,54,65,66,70) have mixed types. Specify dtype option on import or set low_memory=False.\n",
      "  file_df = pd.read_csv(file_df, parse_dates=[\"policyEffectiveDate\"])\n"
     ]
    },
    {
     "name": "stdout",
     "output_type": "stream",
     "text": [
      "150559946.6929863\n",
      "Processing file: ../Game/State_Policy_Data/State_Policies/FL/FL_countyCode_12019.0.csv\n"
     ]
    },
    {
     "name": "stderr",
     "output_type": "stream",
     "text": [
      "/tmp/ipykernel_391/4247642833.py:20: DtypeWarning: Columns (32,38,39,54,57,66,70) have mixed types. Specify dtype option on import or set low_memory=False.\n",
      "  file_df = pd.read_csv(file_df, parse_dates=[\"policyEffectiveDate\"])\n"
     ]
    },
    {
     "name": "stdout",
     "output_type": "stream",
     "text": [
      "61515711.03735127\n",
      "Processing file: ../Game/State_Policy_Data/State_Policies/FL/FL_countyCode_12075.0.csv\n"
     ]
    },
    {
     "name": "stderr",
     "output_type": "stream",
     "text": [
      "/tmp/ipykernel_391/4247642833.py:20: DtypeWarning: Columns (38) have mixed types. Specify dtype option on import or set low_memory=False.\n",
      "  file_df = pd.read_csv(file_df, parse_dates=[\"policyEffectiveDate\"])\n"
     ]
    },
    {
     "name": "stdout",
     "output_type": "stream",
     "text": [
      "29574612.159431517\n",
      "Processing file: ../Game/State_Policy_Data/State_Policies/FL/FL_countyCode_12069.0.csv\n"
     ]
    },
    {
     "name": "stderr",
     "output_type": "stream",
     "text": [
      "/tmp/ipykernel_391/4247642833.py:20: DtypeWarning: Columns (38,39) have mixed types. Specify dtype option on import or set low_memory=False.\n",
      "  file_df = pd.read_csv(file_df, parse_dates=[\"policyEffectiveDate\"])\n"
     ]
    },
    {
     "name": "stdout",
     "output_type": "stream",
     "text": [
      "41055799.59741006\n",
      "Processing file: ../Game/State_Policy_Data/State_Policies/FL/FL_countyCode_12017.0.csv\n"
     ]
    },
    {
     "name": "stderr",
     "output_type": "stream",
     "text": [
      "/tmp/ipykernel_391/4247642833.py:20: DtypeWarning: Columns (32,38,39,57,66,70) have mixed types. Specify dtype option on import or set low_memory=False.\n",
      "  file_df = pd.read_csv(file_df, parse_dates=[\"policyEffectiveDate\"])\n"
     ]
    },
    {
     "name": "stdout",
     "output_type": "stream",
     "text": [
      "129168800.11669253\n",
      "Processing file: ../Game/State_Policy_Data/State_Policies/FL/FL_countyCode_12083.0.csv\n"
     ]
    },
    {
     "name": "stderr",
     "output_type": "stream",
     "text": [
      "/tmp/ipykernel_391/4247642833.py:20: DtypeWarning: Columns (10,32,38,39) have mixed types. Specify dtype option on import or set low_memory=False.\n",
      "  file_df = pd.read_csv(file_df, parse_dates=[\"policyEffectiveDate\"])\n"
     ]
    },
    {
     "name": "stdout",
     "output_type": "stream",
     "text": [
      "44332830.56708503\n",
      "Processing file: ../Game/State_Policy_Data/State_Policies/FL/FL_countyCode_12101.0.csv\n"
     ]
    },
    {
     "name": "stderr",
     "output_type": "stream",
     "text": [
      "/tmp/ipykernel_391/4247642833.py:20: DtypeWarning: Columns (10,32,38,39,54,57,66,70) have mixed types. Specify dtype option on import or set low_memory=False.\n",
      "  file_df = pd.read_csv(file_df, parse_dates=[\"policyEffectiveDate\"])\n"
     ]
    },
    {
     "name": "stdout",
     "output_type": "stream",
     "text": [
      "440848507.79153514\n",
      "Processing file: ../Game/State_Policy_Data/State_Policies/FL/FL_countyCode_12079.0.csv\n",
      "1156029.844148303\n",
      "Processing file: ../Game/State_Policy_Data/State_Policies/FL/FL_countyCode_42003.0.csv\n",
      "6751.481524158866\n",
      "Processing file: ../Game/State_Policy_Data/State_Policies/FL/FL_countyCode_12091.0.csv\n"
     ]
    },
    {
     "name": "stderr",
     "output_type": "stream",
     "text": [
      "/tmp/ipykernel_391/4247642833.py:20: DtypeWarning: Columns (8,10,38,39,54,57,66,70) have mixed types. Specify dtype option on import or set low_memory=False.\n",
      "  file_df = pd.read_csv(file_df, parse_dates=[\"policyEffectiveDate\"])\n"
     ]
    },
    {
     "name": "stdout",
     "output_type": "stream",
     "text": [
      "202954753.68562067\n",
      "Processing file: ../Game/State_Policy_Data/State_Policies/FL/FL_countyCode_12105.0.csv\n"
     ]
    },
    {
     "name": "stderr",
     "output_type": "stream",
     "text": [
      "/tmp/ipykernel_391/4247642833.py:20: DtypeWarning: Columns (10,32,38,39,54,57,66,70) have mixed types. Specify dtype option on import or set low_memory=False.\n",
      "  file_df = pd.read_csv(file_df, parse_dates=[\"policyEffectiveDate\"])\n"
     ]
    },
    {
     "name": "stdout",
     "output_type": "stream",
     "text": [
      "89121226.42045924\n",
      "Processing file: ../Game/State_Policy_Data/State_Policies/FL/FL_countyCode_12037.0.csv\n"
     ]
    },
    {
     "name": "stderr",
     "output_type": "stream",
     "text": [
      "/tmp/ipykernel_391/4247642833.py:20: DtypeWarning: Columns (39,54,66,70) have mixed types. Specify dtype option on import or set low_memory=False.\n",
      "  file_df = pd.read_csv(file_df, parse_dates=[\"policyEffectiveDate\"])\n"
     ]
    },
    {
     "name": "stdout",
     "output_type": "stream",
     "text": [
      "81360388.43531477\n",
      "Processing file: ../Game/State_Policy_Data/State_Policies/FL/FL_countyCode_72127.0.csv\n",
      "40420.69294562754\n",
      "Processing file: ../Game/State_Policy_Data/State_Policies/FL/FL_countyCode_12133.0.csv\n",
      "1576535.4731352357\n",
      "Processing file: ../Game/State_Policy_Data/State_Policies/FL/FL_countyCode_12095.0.csv\n"
     ]
    },
    {
     "name": "stderr",
     "output_type": "stream",
     "text": [
      "/tmp/ipykernel_391/4247642833.py:20: DtypeWarning: Columns (10,32,38,39,54,57,66,70) have mixed types. Specify dtype option on import or set low_memory=False.\n",
      "  file_df = pd.read_csv(file_df, parse_dates=[\"policyEffectiveDate\"])\n"
     ]
    },
    {
     "name": "stdout",
     "output_type": "stream",
     "text": [
      "150757497.77557522\n",
      "Processing file: ../Game/State_Policy_Data/State_Policies/FL/FL_countyCode_12.0.csv\n",
      "10758.855638238278\n",
      "Processing file: ../Game/State_Policy_Data/State_Policies/FL/FL_countyCode_12071.0.csv\n"
     ]
    },
    {
     "name": "stderr",
     "output_type": "stream",
     "text": [
      "/tmp/ipykernel_391/4247642833.py:20: DtypeWarning: Columns (3,8,10,32,38,39,49,54,57,66,70) have mixed types. Specify dtype option on import or set low_memory=False.\n",
      "  file_df = pd.read_csv(file_df, parse_dates=[\"policyEffectiveDate\"])\n"
     ]
    },
    {
     "name": "stdout",
     "output_type": "stream",
     "text": [
      "2073072837.8143067\n",
      "Processing file: ../Game/State_Policy_Data/State_Policies/FL/FL_countyCode_12057.0.csv\n"
     ]
    },
    {
     "name": "stderr",
     "output_type": "stream",
     "text": [
      "/tmp/ipykernel_391/4247642833.py:20: DtypeWarning: Columns (3,10,32,38,39,54,57,66,70) have mixed types. Specify dtype option on import or set low_memory=False.\n",
      "  file_df = pd.read_csv(file_df, parse_dates=[\"policyEffectiveDate\"])\n"
     ]
    },
    {
     "name": "stdout",
     "output_type": "stream",
     "text": [
      "1018719762.6520237\n",
      "Processing file: ../Game/State_Policy_Data/State_Policies/FL/FL_countyCode_12053.0.csv\n"
     ]
    },
    {
     "name": "stderr",
     "output_type": "stream",
     "text": [
      "/tmp/ipykernel_391/4247642833.py:20: DtypeWarning: Columns (38,39) have mixed types. Specify dtype option on import or set low_memory=False.\n",
      "  file_df = pd.read_csv(file_df, parse_dates=[\"policyEffectiveDate\"])\n"
     ]
    },
    {
     "name": "stdout",
     "output_type": "stream",
     "text": [
      "72064639.1956168\n",
      "Processing file: ../Game/State_Policy_Data/State_Policies/FL/FL_countyCode_12089.0.csv\n"
     ]
    },
    {
     "name": "stderr",
     "output_type": "stream",
     "text": [
      "/tmp/ipykernel_391/4247642833.py:20: DtypeWarning: Columns (10,32,38,39,54,57,66,70) have mixed types. Specify dtype option on import or set low_memory=False.\n",
      "  file_df = pd.read_csv(file_df, parse_dates=[\"policyEffectiveDate\"])\n"
     ]
    },
    {
     "name": "stdout",
     "output_type": "stream",
     "text": [
      "110862562.37778923\n",
      "Processing file: ../Game/State_Policy_Data/State_Policies/FL/FL_countyCode_47045.0.csv\n",
      "678.9771226700886\n",
      "Processing file: ../Game/State_Policy_Data/State_Policies/FL/FL_countyCode_12125.0.csv\n",
      "761177.9145789982\n",
      "Processing file: ../Game/State_Policy_Data/State_Policies/FL/FL_countyCode_12001.0.csv\n"
     ]
    },
    {
     "name": "stderr",
     "output_type": "stream",
     "text": [
      "/tmp/ipykernel_391/4247642833.py:20: DtypeWarning: Columns (10,32,38,39,66,70) have mixed types. Specify dtype option on import or set low_memory=False.\n",
      "  file_df = pd.read_csv(file_df, parse_dates=[\"policyEffectiveDate\"])\n"
     ]
    },
    {
     "name": "stdout",
     "output_type": "stream",
     "text": [
      "35432450.283237815\n",
      "Processing file: ../Game/State_Policy_Data/State_Policies/FL/FL_countyCode_12129.0.csv\n",
      "39318868.88640342\n",
      "Processing file: ../Game/State_Policy_Data/State_Policies/FL/FL_countyCode_13253.0.csv\n",
      "547.9424624548508\n",
      "Processing file: ../Game/State_Policy_Data/State_Policies/FL/FL_countyCode_22029.0.csv\n",
      "10650.32298082627\n",
      "Processing file: ../Game/State_Policy_Data/State_Policies/FL/FL_countyCode_12111.0.csv\n"
     ]
    },
    {
     "name": "stderr",
     "output_type": "stream",
     "text": [
      "/tmp/ipykernel_391/4247642833.py:20: DtypeWarning: Columns (10,32,38,39,54,57,66,70) have mixed types. Specify dtype option on import or set low_memory=False.\n",
      "  file_df = pd.read_csv(file_df, parse_dates=[\"policyEffectiveDate\"])\n"
     ]
    },
    {
     "name": "stdout",
     "output_type": "stream",
     "text": [
      "168901659.11915016\n",
      "Processing file: ../Game/State_Policy_Data/State_Policies/FL/FL_countyCode_12047.0.csv\n",
      "753770.9297493013\n",
      "Processing file: ../Game/State_Policy_Data/State_Policies/FL/FL_countyCode_12049.0.csv\n",
      "1564725.2336683143\n",
      "Processing file: ../Game/State_Policy_Data/State_Policies/FL/FL_countyCode_72113.0.csv\n",
      "301.77716132722765\n",
      "Processing file: ../Game/State_Policy_Data/State_Policies/FL/FL_countyCode_45019.0.csv\n",
      "11916.927357304294\n",
      "Processing file: ../Game/State_Policy_Data/State_Policies/FL/FL_countyCode_12063.0.csv\n",
      "1700159.830806486\n",
      "Processing file: ../Game/State_Policy_Data/State_Policies/FL/FL_countyCode_12119.0.csv\n"
     ]
    },
    {
     "name": "stderr",
     "output_type": "stream",
     "text": [
      "/tmp/ipykernel_391/4247642833.py:20: DtypeWarning: Columns (8,10,32,38,39,54,57,66,70) have mixed types. Specify dtype option on import or set low_memory=False.\n",
      "  file_df = pd.read_csv(file_df, parse_dates=[\"policyEffectiveDate\"])\n"
     ]
    },
    {
     "name": "stdout",
     "output_type": "stream",
     "text": [
      "24903896.13080239\n",
      "Processing file: ../Game/State_Policy_Data/State_Policies/FL/FL_countyCode_12087.0.csv\n"
     ]
    },
    {
     "name": "stderr",
     "output_type": "stream",
     "text": [
      "/tmp/ipykernel_391/4247642833.py:20: DtypeWarning: Columns (10,32,38,39,54,57,66,70) have mixed types. Specify dtype option on import or set low_memory=False.\n",
      "  file_df = pd.read_csv(file_df, parse_dates=[\"policyEffectiveDate\"])\n"
     ]
    },
    {
     "name": "stdout",
     "output_type": "stream",
     "text": [
      "813994249.6496068\n",
      "Processing file: ../Game/State_Policy_Data/State_Policies/FL/FL_countyCode_12121.0.csv\n"
     ]
    },
    {
     "name": "stderr",
     "output_type": "stream",
     "text": [
      "/tmp/ipykernel_391/4247642833.py:20: DtypeWarning: Columns (10,39) have mixed types. Specify dtype option on import or set low_memory=False.\n",
      "  file_df = pd.read_csv(file_df, parse_dates=[\"policyEffectiveDate\"])\n"
     ]
    },
    {
     "name": "stdout",
     "output_type": "stream",
     "text": [
      "7132600.311760133\n",
      "Processing file: ../Game/State_Policy_Data/State_Policies/FL/FL_countyCode_12011.0.csv\n"
     ]
    },
    {
     "name": "stderr",
     "output_type": "stream",
     "text": [
      "/tmp/ipykernel_391/4247642833.py:20: DtypeWarning: Columns (3,7,8,10,32,38,39,49,54,57,66,70) have mixed types. Specify dtype option on import or set low_memory=False.\n",
      "  file_df = pd.read_csv(file_df, parse_dates=[\"policyEffectiveDate\"])\n"
     ]
    },
    {
     "name": "stdout",
     "output_type": "stream",
     "text": [
      "2349072168.097026\n",
      "Processing file: ../Game/State_Policy_Data/State_Policies/FL/FL_countyCode_12109.0.csv\n"
     ]
    },
    {
     "name": "stderr",
     "output_type": "stream",
     "text": [
      "/tmp/ipykernel_391/4247642833.py:20: DtypeWarning: Columns (10,38,39,54,57,66,70) have mixed types. Specify dtype option on import or set low_memory=False.\n",
      "  file_df = pd.read_csv(file_df, parse_dates=[\"policyEffectiveDate\"])\n"
     ]
    },
    {
     "name": "stdout",
     "output_type": "stream",
     "text": [
      "396995305.50209635\n",
      "Processing file: ../Game/State_Policy_Data/State_Policies/FL/FL_countyCode_12031.0.csv\n"
     ]
    },
    {
     "name": "stderr",
     "output_type": "stream",
     "text": [
      "/tmp/ipykernel_391/4247642833.py:20: DtypeWarning: Columns (8,10,32,38,39,49,54,57,66,70) have mixed types. Specify dtype option on import or set low_memory=False.\n",
      "  file_df = pd.read_csv(file_df, parse_dates=[\"policyEffectiveDate\"])\n"
     ]
    },
    {
     "name": "stdout",
     "output_type": "stream",
     "text": [
      "333076219.87461996\n",
      "Processing file: ../Game/State_Policy_Data/State_Policies/FL/FL_countyCode_12103.0.csv\n"
     ]
    },
    {
     "name": "stderr",
     "output_type": "stream",
     "text": [
      "/tmp/ipykernel_391/4247642833.py:20: DtypeWarning: Columns (3,10,32,38,39,49,54,57,66,70) have mixed types. Specify dtype option on import or set low_memory=False.\n",
      "  file_df = pd.read_csv(file_df, parse_dates=[\"policyEffectiveDate\"])\n"
     ]
    },
    {
     "name": "stdout",
     "output_type": "stream",
     "text": [
      "2195068512.674593\n",
      "Processing file: ../Game/State_Policy_Data/State_Policies/FL/FL_countyCode_12035.0.csv\n"
     ]
    },
    {
     "name": "stderr",
     "output_type": "stream",
     "text": [
      "/tmp/ipykernel_391/4247642833.py:20: DtypeWarning: Columns (32,38,39) have mixed types. Specify dtype option on import or set low_memory=False.\n",
      "  file_df = pd.read_csv(file_df, parse_dates=[\"policyEffectiveDate\"])\n"
     ]
    },
    {
     "name": "stdout",
     "output_type": "stream",
     "text": [
      "102392570.2215553\n",
      "Processing file: ../Game/State_Policy_Data/State_Policies/FL/FL_countyCode_12009.0.csv\n"
     ]
    },
    {
     "name": "stderr",
     "output_type": "stream",
     "text": [
      "/tmp/ipykernel_391/4247642833.py:20: DtypeWarning: Columns (3,8,10,32,38,39,54,57,66,70) have mixed types. Specify dtype option on import or set low_memory=False.\n",
      "  file_df = pd.read_csv(file_df, parse_dates=[\"policyEffectiveDate\"])\n"
     ]
    },
    {
     "name": "stdout",
     "output_type": "stream",
     "text": [
      "446142013.38574594\n",
      "Processing file: ../Game/State_Policy_Data/State_Policies/FL/FL_countyCode_12081.0.csv\n"
     ]
    },
    {
     "name": "stderr",
     "output_type": "stream",
     "text": [
      "/tmp/ipykernel_391/4247642833.py:20: DtypeWarning: Columns (10,32,38,39,66,70) have mixed types. Specify dtype option on import or set low_memory=False.\n",
      "  file_df = pd.read_csv(file_df, parse_dates=[\"policyEffectiveDate\"])\n"
     ]
    },
    {
     "name": "stdout",
     "output_type": "stream",
     "text": [
      "594613391.07217\n",
      "Processing file: ../Game/State_Policy_Data/State_Policies/FL/FL_countyCode_12059.0.csv\n",
      "1520165.207069317\n",
      "Processing file: ../Game/State_Policy_Data/State_Policies/FL/FL_countyCode_12107.0.csv\n"
     ]
    },
    {
     "name": "stderr",
     "output_type": "stream",
     "text": [
      "/tmp/ipykernel_391/4247642833.py:20: DtypeWarning: Columns (38) have mixed types. Specify dtype option on import or set low_memory=False.\n",
      "  file_df = pd.read_csv(file_df, parse_dates=[\"policyEffectiveDate\"])\n"
     ]
    },
    {
     "name": "stdout",
     "output_type": "stream",
     "text": [
      "17272283.74746052\n",
      "Processing file: ../Game/State_Policy_Data/State_Policies/FL/FL_countyCode_12051.0.csv\n"
     ]
    },
    {
     "name": "stderr",
     "output_type": "stream",
     "text": [
      "/tmp/ipykernel_391/4247642833.py:20: DtypeWarning: Columns (10,38) have mixed types. Specify dtype option on import or set low_memory=False.\n",
      "  file_df = pd.read_csv(file_df, parse_dates=[\"policyEffectiveDate\"])\n"
     ]
    },
    {
     "name": "stdout",
     "output_type": "stream",
     "text": [
      "17007278.806919474\n",
      "Processing file: ../Game/State_Policy_Data/State_Policies/FL/FL_countyCode_12117.0.csv\n"
     ]
    },
    {
     "name": "stderr",
     "output_type": "stream",
     "text": [
      "/tmp/ipykernel_391/4247642833.py:20: DtypeWarning: Columns (10,32,38,39,54,57,66,70) have mixed types. Specify dtype option on import or set low_memory=False.\n",
      "  file_df = pd.read_csv(file_df, parse_dates=[\"policyEffectiveDate\"])\n"
     ]
    },
    {
     "name": "stdout",
     "output_type": "stream",
     "text": [
      "78452953.21519282\n",
      "Processing file: ../Game/State_Policy_Data/State_Policies/FL/FL_countyCode_12027.0.csv\n",
      "6221576.482602438\n",
      "Processing file: ../Game/State_Policy_Data/State_Policies/FL/FL_countyCode_13157.0.csv\n",
      "29175.440769799847\n",
      "Processing file: ../Game/State_Policy_Data/State_Policies/FL/FL_countyCode_36061.0.csv\n",
      "48763.40795332473\n",
      "Processing file: ../Game/State_Policy_Data/State_Policies/FL/FL_countyCode_12043.0.csv\n",
      "4535118.427223536\n",
      "Processing file: ../Game/State_Policy_Data/State_Policies/FL/FL_countyCode_12099.0.csv\n"
     ]
    },
    {
     "name": "stderr",
     "output_type": "stream",
     "text": [
      "/tmp/ipykernel_391/4247642833.py:20: DtypeWarning: Columns (3,8,10,32,38,39,49,54,57,66,70) have mixed types. Specify dtype option on import or set low_memory=False.\n",
      "  file_df = pd.read_csv(file_df, parse_dates=[\"policyEffectiveDate\"])\n"
     ]
    },
    {
     "name": "stdout",
     "output_type": "stream",
     "text": [
      "1224322888.349458\n",
      "Processing file: ../Game/State_Policy_Data/State_Policies/FL/FL_countyCode_12067.0.csv\n",
      "2177467.991893406\n",
      "Processing file: ../Game/State_Policy_Data/State_Policies/FL/FL_countyCode_12086.0.csv\n"
     ]
    },
    {
     "name": "stderr",
     "output_type": "stream",
     "text": [
      "/tmp/ipykernel_391/4247642833.py:20: DtypeWarning: Columns (3,7,8,10,32,38,39,49,54,57,66,70) have mixed types. Specify dtype option on import or set low_memory=False.\n",
      "  file_df = pd.read_csv(file_df, parse_dates=[\"policyEffectiveDate\"])\n"
     ]
    },
    {
     "name": "stdout",
     "output_type": "stream",
     "text": [
      "3151962821.7888384\n",
      "Processing file: ../Game/State_Policy_Data/State_Policies/FL/FL_countyCode_12131.0.csv\n"
     ]
    },
    {
     "name": "stderr",
     "output_type": "stream",
     "text": [
      "/tmp/ipykernel_391/4247642833.py:20: DtypeWarning: Columns (10,38,39,54,66,70) have mixed types. Specify dtype option on import or set low_memory=False.\n",
      "  file_df = pd.read_csv(file_df, parse_dates=[\"policyEffectiveDate\"])\n"
     ]
    },
    {
     "name": "stdout",
     "output_type": "stream",
     "text": [
      "172697174.4738809\n",
      "Processing file: ../Game/State_Policy_Data/State_Policies/FL/FL_countyCode_72021.0.csv\n",
      "387.3385020866715\n",
      "Processing file: ../Game/State_Policy_Data/State_Policies/FL/FL_countyCode_12041.0.csv\n",
      "4113772.3086528294\n",
      "Processing file: ../Game/State_Policy_Data/State_Policies/FL/FL_countyCode_12013.0.csv\n",
      "1844610.7869751535\n",
      "Processing file: ../Game/State_Policy_Data/State_Policies/FL/FL_countyCode_33001.0.csv\n",
      "2978.4039504176394\n",
      "Processing file: ../Game/State_Policy_Data/State_Policies/FL/FL_countyCode_12033.0.csv\n"
     ]
    },
    {
     "name": "stderr",
     "output_type": "stream",
     "text": [
      "/tmp/ipykernel_391/4247642833.py:20: DtypeWarning: Columns (10,38,39,66,70) have mixed types. Specify dtype option on import or set low_memory=False.\n",
      "  file_df = pd.read_csv(file_df, parse_dates=[\"policyEffectiveDate\"])\n"
     ]
    },
    {
     "name": "stdout",
     "output_type": "stream",
     "text": [
      "216511840.73301414\n",
      "Processing file: ../Game/State_Policy_Data/State_Policies/FL/FL_countyCode_12045.0.csv\n"
     ]
    },
    {
     "name": "stderr",
     "output_type": "stream",
     "text": [
      "/tmp/ipykernel_391/4247642833.py:20: DtypeWarning: Columns (38,39) have mixed types. Specify dtype option on import or set low_memory=False.\n",
      "  file_df = pd.read_csv(file_df, parse_dates=[\"policyEffectiveDate\"])\n"
     ]
    },
    {
     "name": "stdout",
     "output_type": "stream",
     "text": [
      "31400569.9898878\n",
      "Processing file: ../Game/State_Policy_Data/State_Policies/FL/FL_countyCode_12007.0.csv\n",
      "6442774.500976365\n",
      "Processing file: ../Game/State_Policy_Data/State_Policies/FL/FL_countyCode_12005.0.csv\n"
     ]
    },
    {
     "name": "stderr",
     "output_type": "stream",
     "text": [
      "/tmp/ipykernel_391/4247642833.py:20: DtypeWarning: Columns (10,38,39,54,57,66,70) have mixed types. Specify dtype option on import or set low_memory=False.\n",
      "  file_df = pd.read_csv(file_df, parse_dates=[\"policyEffectiveDate\"])\n"
     ]
    },
    {
     "name": "stdout",
     "output_type": "stream",
     "text": [
      "284423227.8311722\n",
      "Processing file: ../Game/State_Policy_Data/State_Policies/FL/FL_countyCode_13275.0.csv\n",
      "46427.1745335942\n",
      "Processing file: ../Game/State_Policy_Data/State_Policies/FL/FL_countyCode_12073.0.csv\n"
     ]
    },
    {
     "name": "stderr",
     "output_type": "stream",
     "text": [
      "/tmp/ipykernel_391/4247642833.py:20: DtypeWarning: Columns (38,39) have mixed types. Specify dtype option on import or set low_memory=False.\n",
      "  file_df = pd.read_csv(file_df, parse_dates=[\"policyEffectiveDate\"])\n"
     ]
    },
    {
     "name": "stdout",
     "output_type": "stream",
     "text": [
      "44180621.465478145\n",
      "Processing file: ../Game/State_Policy_Data/State_Policies/FL/FL_countyCode_12097.0.csv\n"
     ]
    },
    {
     "name": "stderr",
     "output_type": "stream",
     "text": [
      "/tmp/ipykernel_391/4247642833.py:20: DtypeWarning: Columns (32,38,39,54,57,66,70) have mixed types. Specify dtype option on import or set low_memory=False.\n",
      "  file_df = pd.read_csv(file_df, parse_dates=[\"policyEffectiveDate\"])\n"
     ]
    },
    {
     "name": "stdout",
     "output_type": "stream",
     "text": [
      "82881014.81183736\n",
      "Processing file: ../Game/State_Policy_Data/State_Policies/FL/FL_countyCode_12029.0.csv\n",
      "13240045.926847748\n",
      "Processing file: ../Game/State_Policy_Data/State_Policies/FL/FL_countyCode_12093.0.csv\n"
     ]
    },
    {
     "name": "stderr",
     "output_type": "stream",
     "text": [
      "/tmp/ipykernel_391/4247642833.py:20: DtypeWarning: Columns (10) have mixed types. Specify dtype option on import or set low_memory=False.\n",
      "  file_df = pd.read_csv(file_df, parse_dates=[\"policyEffectiveDate\"])\n"
     ]
    },
    {
     "name": "stdout",
     "output_type": "stream",
     "text": [
      "20947364.428647734\n",
      "Processing file: ../Game/State_Policy_Data/State_Policies/FL/FL_countyCode_12061.0.csv\n"
     ]
    },
    {
     "name": "stderr",
     "output_type": "stream",
     "text": [
      "/tmp/ipykernel_391/4247642833.py:20: DtypeWarning: Columns (7,8,10,32,38,39,54,57,66,70) have mixed types. Specify dtype option on import or set low_memory=False.\n",
      "  file_df = pd.read_csv(file_df, parse_dates=[\"policyEffectiveDate\"])\n"
     ]
    },
    {
     "name": "stdout",
     "output_type": "stream",
     "text": [
      "253282615.78002518\n",
      "Processing file: ../Game/State_Policy_Data/State_Policies/FL/FL_countyCode_12077.0.csv\n",
      "417147.5207515252\n",
      "Processing file: ../Game/State_Policy_Data/State_Policies/FL/FL_countyCode_12085.0.csv\n"
     ]
    },
    {
     "name": "stderr",
     "output_type": "stream",
     "text": [
      "/tmp/ipykernel_391/4247642833.py:20: DtypeWarning: Columns (10,32,38,39,54,57,66,70) have mixed types. Specify dtype option on import or set low_memory=False.\n",
      "  file_df = pd.read_csv(file_df, parse_dates=[\"policyEffectiveDate\"])\n"
     ]
    },
    {
     "name": "stdout",
     "output_type": "stream",
     "text": [
      "196481619.4040257\n",
      "Processing file: ../Game/State_Policy_Data/State_Policies/FL/FL_countyCode_12003.0.csv\n",
      "2068877.5660877828\n",
      "Processing file: ../Game/State_Policy_Data/State_Policies/FL/FL_countyCode_12115.0.csv\n"
     ]
    },
    {
     "name": "stderr",
     "output_type": "stream",
     "text": [
      "/tmp/ipykernel_391/4247642833.py:20: DtypeWarning: Columns (3,10,38,39,54,57,66,70) have mixed types. Specify dtype option on import or set low_memory=False.\n",
      "  file_df = pd.read_csv(file_df, parse_dates=[\"policyEffectiveDate\"])\n"
     ]
    },
    {
     "name": "stdout",
     "output_type": "stream",
     "text": [
      "902546507.139266\n",
      "Processing file: ../Game/State_Policy_Data/State_Policies/FL/FL_countyCode_12123.0.csv\n"
     ]
    },
    {
     "name": "stderr",
     "output_type": "stream",
     "text": [
      "/tmp/ipykernel_391/4247642833.py:20: DtypeWarning: Columns (39) have mixed types. Specify dtype option on import or set low_memory=False.\n",
      "  file_df = pd.read_csv(file_df, parse_dates=[\"policyEffectiveDate\"])\n"
     ]
    },
    {
     "name": "stdout",
     "output_type": "stream",
     "text": [
      "13779293.88403984\n",
      "Processing file: ../Game/State_Policy_Data/State_Policies/FL/FL_countyCode_24031.0.csv\n",
      "6383.845118954038\n",
      "Processing file: ../Game/State_Policy_Data/State_Policies/FL/FL_countyCode_12015.0.csv\n"
     ]
    },
    {
     "name": "stderr",
     "output_type": "stream",
     "text": [
      "/tmp/ipykernel_391/4247642833.py:20: DtypeWarning: Columns (10,38,39,54,66,70) have mixed types. Specify dtype option on import or set low_memory=False.\n",
      "  file_df = pd.read_csv(file_df, parse_dates=[\"policyEffectiveDate\"])\n"
     ]
    },
    {
     "name": "stdout",
     "output_type": "stream",
     "text": [
      "649228171.7464933\n",
      "Processing file: ../Game/State_Policy_Data/State_Policies/FL/FL_countyCode_12065.0.csv\n",
      "908687.4209313622\n",
      "Processing file: ../Game/State_Policy_Data/State_Policies/FL/FL_countyCode_12021.0.csv\n"
     ]
    },
    {
     "name": "stderr",
     "output_type": "stream",
     "text": [
      "/tmp/ipykernel_391/4247642833.py:20: DtypeWarning: Columns (3,10,32,38,39,54,57,66,70) have mixed types. Specify dtype option on import or set low_memory=False.\n",
      "  file_df = pd.read_csv(file_df, parse_dates=[\"policyEffectiveDate\"])\n"
     ]
    },
    {
     "name": "stdout",
     "output_type": "stream",
     "text": [
      "1161615184.7909775\n",
      "Processing file: ../Game/State_Policy_Data/State_Policies/FL/FL_countyCode_12055.0.csv\n"
     ]
    },
    {
     "name": "stderr",
     "output_type": "stream",
     "text": [
      "/tmp/ipykernel_391/4247642833.py:20: DtypeWarning: Columns (7,8,10,32,39,54,57,66,70) have mixed types. Specify dtype option on import or set low_memory=False.\n",
      "  file_df = pd.read_csv(file_df, parse_dates=[\"policyEffectiveDate\"])\n"
     ]
    },
    {
     "name": "stdout",
     "output_type": "stream",
     "text": [
      "10105566.25737063\n",
      "Processing file: ../Game/State_Policy_Data/State_Policies/FL/FL_countyCode_12039.0.csv\n",
      "1991330.2501340895\n",
      "Processing file: ../Game/State_Policy_Data/State_Policies/FL/FL_countyCode_21175.0.csv\n",
      "20173.818181909563\n",
      "Processing file: ../Game/State_Policy_Data/State_Policies/LA/LA_countyCode_22039.0.csv\n"
     ]
    },
    {
     "name": "stderr",
     "output_type": "stream",
     "text": [
      "/tmp/ipykernel_391/4247642833.py:20: DtypeWarning: Columns (10) have mixed types. Specify dtype option on import or set low_memory=False.\n",
      "  file_df = pd.read_csv(file_df, parse_dates=[\"policyEffectiveDate\"])\n"
     ]
    },
    {
     "name": "stdout",
     "output_type": "stream",
     "text": [
      "8056918.860410304\n",
      "Processing file: ../Game/State_Policy_Data/State_Policies/LA/LA_countyCode_22119.0.csv\n",
      "2860269.9923161482\n",
      "Processing file: ../Game/State_Policy_Data/State_Policies/LA/LA_countyCode_34013.0.csv\n",
      "868.8663233153968\n",
      "Processing file: ../Game/State_Policy_Data/State_Policies/LA/LA_countyCode_22105.0.csv\n"
     ]
    },
    {
     "name": "stderr",
     "output_type": "stream",
     "text": [
      "/tmp/ipykernel_391/4247642833.py:20: DtypeWarning: Columns (10,38,39) have mixed types. Specify dtype option on import or set low_memory=False.\n",
      "  file_df = pd.read_csv(file_df, parse_dates=[\"policyEffectiveDate\"])\n"
     ]
    },
    {
     "name": "stdout",
     "output_type": "stream",
     "text": [
      "102476921.30963102\n",
      "Processing file: ../Game/State_Policy_Data/State_Policies/LA/LA_countyCode_22061.0.csv\n",
      "1377307.4230752136\n",
      "Processing file: ../Game/State_Policy_Data/State_Policies/LA/LA_countyCode_22093.0.csv\n"
     ]
    },
    {
     "name": "stderr",
     "output_type": "stream",
     "text": [
      "/tmp/ipykernel_391/4247642833.py:20: DtypeWarning: Columns (38) have mixed types. Specify dtype option on import or set low_memory=False.\n",
      "  file_df = pd.read_csv(file_df, parse_dates=[\"policyEffectiveDate\"])\n"
     ]
    },
    {
     "name": "stdout",
     "output_type": "stream",
     "text": [
      "14216668.43365947\n",
      "Processing file: ../Game/State_Policy_Data/State_Policies/LA/LA_countyCode_22059.0.csv\n",
      "1241390.4950963177\n",
      "Processing file: ../Game/State_Policy_Data/State_Policies/LA/LA_countyCode_22117.0.csv\n",
      "9116085.181331318\n",
      "Processing file: ../Game/State_Policy_Data/State_Policies/LA/LA_countyCode_37069.0.csv\n",
      "397.0873274653831\n",
      "Processing file: ../Game/State_Policy_Data/State_Policies/LA/LA_countyCode_22001.0.csv\n"
     ]
    },
    {
     "name": "stderr",
     "output_type": "stream",
     "text": [
      "/tmp/ipykernel_391/4247642833.py:20: DtypeWarning: Columns (38,39) have mixed types. Specify dtype option on import or set low_memory=False.\n",
      "  file_df = pd.read_csv(file_df, parse_dates=[\"policyEffectiveDate\"])\n"
     ]
    },
    {
     "name": "stdout",
     "output_type": "stream",
     "text": [
      "40768009.50265752\n",
      "Processing file: ../Game/State_Policy_Data/State_Policies/LA/LA_countyCode_22047.0.csv\n"
     ]
    },
    {
     "name": "stderr",
     "output_type": "stream",
     "text": [
      "/tmp/ipykernel_391/4247642833.py:20: DtypeWarning: Columns (10) have mixed types. Specify dtype option on import or set low_memory=False.\n",
      "  file_df = pd.read_csv(file_df, parse_dates=[\"policyEffectiveDate\"])\n"
     ]
    },
    {
     "name": "stdout",
     "output_type": "stream",
     "text": [
      "16671855.93407353\n",
      "Processing file: ../Game/State_Policy_Data/State_Policies/LA/LA_countyCode_22025.0.csv\n"
     ]
    },
    {
     "name": "stderr",
     "output_type": "stream",
     "text": [
      "/tmp/ipykernel_391/4247642833.py:20: DtypeWarning: Columns (10,38) have mixed types. Specify dtype option on import or set low_memory=False.\n",
      "  file_df = pd.read_csv(file_df, parse_dates=[\"policyEffectiveDate\"])\n"
     ]
    },
    {
     "name": "stdout",
     "output_type": "stream",
     "text": [
      "11413442.733592302\n",
      "Processing file: ../Game/State_Policy_Data/State_Policies/LA/LA_countyCode_48201.0.csv\n",
      "3489.7693230418795\n",
      "Processing file: ../Game/State_Policy_Data/State_Policies/LA/LA_countyCode_12086.0.csv\n",
      "1657.5285014270116\n",
      "Processing file: ../Game/State_Policy_Data/State_Policies/LA/LA_countyCode_22079.0.csv\n"
     ]
    },
    {
     "name": "stderr",
     "output_type": "stream",
     "text": [
      "/tmp/ipykernel_391/4247642833.py:20: DtypeWarning: Columns (10,32,38,39) have mixed types. Specify dtype option on import or set low_memory=False.\n",
      "  file_df = pd.read_csv(file_df, parse_dates=[\"policyEffectiveDate\"])\n"
     ]
    },
    {
     "name": "stdout",
     "output_type": "stream",
     "text": [
      "48322311.205484316\n",
      "Processing file: ../Game/State_Policy_Data/State_Policies/LA/LA_countyCode_22075.0.csv\n"
     ]
    },
    {
     "name": "stderr",
     "output_type": "stream",
     "text": [
      "/tmp/ipykernel_391/4247642833.py:20: DtypeWarning: Columns (10,32,38,39) have mixed types. Specify dtype option on import or set low_memory=False.\n",
      "  file_df = pd.read_csv(file_df, parse_dates=[\"policyEffectiveDate\"])\n"
     ]
    },
    {
     "name": "stdout",
     "output_type": "stream",
     "text": [
      "93676178.16852877\n",
      "Processing file: ../Game/State_Policy_Data/State_Policies/LA/LA_countyCode_22045.0.csv\n"
     ]
    },
    {
     "name": "stderr",
     "output_type": "stream",
     "text": [
      "/tmp/ipykernel_391/4247642833.py:20: DtypeWarning: Columns (10,32,38,39,54,57,66,70) have mixed types. Specify dtype option on import or set low_memory=False.\n",
      "  file_df = pd.read_csv(file_df, parse_dates=[\"policyEffectiveDate\"])\n"
     ]
    },
    {
     "name": "stdout",
     "output_type": "stream",
     "text": [
      "68997402.73284438\n",
      "Processing file: ../Game/State_Policy_Data/State_Policies/LA/LA_countyCode_22063.0.csv\n"
     ]
    },
    {
     "name": "stderr",
     "output_type": "stream",
     "text": [
      "/tmp/ipykernel_391/4247642833.py:20: DtypeWarning: Columns (32,38,39,66,70) have mixed types. Specify dtype option on import or set low_memory=False.\n",
      "  file_df = pd.read_csv(file_df, parse_dates=[\"policyEffectiveDate\"])\n"
     ]
    },
    {
     "name": "stdout",
     "output_type": "stream",
     "text": [
      "248875263.40771526\n",
      "Processing file: ../Game/State_Policy_Data/State_Policies/LA/LA_countyCode_22015.0.csv\n"
     ]
    },
    {
     "name": "stderr",
     "output_type": "stream",
     "text": [
      "/tmp/ipykernel_391/4247642833.py:20: DtypeWarning: Columns (10,38,39) have mixed types. Specify dtype option on import or set low_memory=False.\n",
      "  file_df = pd.read_csv(file_df, parse_dates=[\"policyEffectiveDate\"])\n"
     ]
    },
    {
     "name": "stdout",
     "output_type": "stream",
     "text": [
      "69235937.18084058\n",
      "Processing file: ../Game/State_Policy_Data/State_Policies/LA/LA_countyCode_22027.0.csv\n",
      "2023949.5947510626\n",
      "Processing file: ../Game/State_Policy_Data/State_Policies/LA/LA_countyCode_22007.0.csv\n"
     ]
    },
    {
     "name": "stderr",
     "output_type": "stream",
     "text": [
      "/tmp/ipykernel_391/4247642833.py:20: DtypeWarning: Columns (7,8,10,32,39,54,57,66,70) have mixed types. Specify dtype option on import or set low_memory=False.\n",
      "  file_df = pd.read_csv(file_df, parse_dates=[\"policyEffectiveDate\"])\n"
     ]
    },
    {
     "name": "stdout",
     "output_type": "stream",
     "text": [
      "16225113.801033355\n",
      "Processing file: ../Game/State_Policy_Data/State_Policies/LA/LA_countyCode_22091.0.csv\n",
      "1552580.2817850467\n",
      "Processing file: ../Game/State_Policy_Data/State_Policies/LA/LA_countyCode_22057.0.csv\n"
     ]
    },
    {
     "name": "stderr",
     "output_type": "stream",
     "text": [
      "/tmp/ipykernel_391/4247642833.py:20: DtypeWarning: Columns (10,32,38,39,66,70) have mixed types. Specify dtype option on import or set low_memory=False.\n",
      "  file_df = pd.read_csv(file_df, parse_dates=[\"policyEffectiveDate\"])\n"
     ]
    },
    {
     "name": "stdout",
     "output_type": "stream",
     "text": [
      "190609971.50869137\n",
      "Processing file: ../Game/State_Policy_Data/State_Policies/LA/LA_countyCode_22067.0.csv\n",
      "3115029.274830049\n",
      "Processing file: ../Game/State_Policy_Data/State_Policies/LA/LA_countyCode_22017.0.csv\n"
     ]
    },
    {
     "name": "stderr",
     "output_type": "stream",
     "text": [
      "/tmp/ipykernel_391/4247642833.py:20: DtypeWarning: Columns (10,38,39,54,57,66,70) have mixed types. Specify dtype option on import or set low_memory=False.\n",
      "  file_df = pd.read_csv(file_df, parse_dates=[\"policyEffectiveDate\"])\n"
     ]
    },
    {
     "name": "stdout",
     "output_type": "stream",
     "text": [
      "71217811.93363857\n",
      "Processing file: ../Game/State_Policy_Data/State_Policies/LA/LA_countyCode_22055.0.csv\n"
     ]
    },
    {
     "name": "stderr",
     "output_type": "stream",
     "text": [
      "/tmp/ipykernel_391/4247642833.py:20: DtypeWarning: Columns (8,10,32,38,39,49,54,57,66,70) have mixed types. Specify dtype option on import or set low_memory=False.\n",
      "  file_df = pd.read_csv(file_df, parse_dates=[\"policyEffectiveDate\"])\n"
     ]
    },
    {
     "name": "stdout",
     "output_type": "stream",
     "text": [
      "221029883.56284273\n",
      "Processing file: ../Game/State_Policy_Data/State_Policies/LA/LA_countyCode_22013.0.csv\n",
      "204443.48720376007\n",
      "Processing file: ../Game/State_Policy_Data/State_Policies/LA/LA_countyCode_22051.0.csv\n"
     ]
    },
    {
     "name": "stderr",
     "output_type": "stream",
     "text": [
      "/tmp/ipykernel_391/4247642833.py:20: DtypeWarning: Columns (3,7,8,10,32,38,39,49,54,57,66,70) have mixed types. Specify dtype option on import or set low_memory=False.\n",
      "  file_df = pd.read_csv(file_df, parse_dates=[\"policyEffectiveDate\"])\n"
     ]
    },
    {
     "name": "stdout",
     "output_type": "stream",
     "text": [
      "1786695149.915838\n",
      "Processing file: ../Game/State_Policy_Data/State_Policies/LA/LA_countyCode_22033.0.csv\n"
     ]
    },
    {
     "name": "stderr",
     "output_type": "stream",
     "text": [
      "/tmp/ipykernel_391/4247642833.py:20: DtypeWarning: Columns (10,32,38,39,54,66,70) have mixed types. Specify dtype option on import or set low_memory=False.\n",
      "  file_df = pd.read_csv(file_df, parse_dates=[\"policyEffectiveDate\"])\n"
     ]
    },
    {
     "name": "stdout",
     "output_type": "stream",
     "text": [
      "495151451.66596746\n",
      "Processing file: ../Game/State_Policy_Data/State_Policies/LA/LA_countyCode_22095.0.csv\n"
     ]
    },
    {
     "name": "stderr",
     "output_type": "stream",
     "text": [
      "/tmp/ipykernel_391/4247642833.py:20: DtypeWarning: Columns (10,32,38,39,49,54,66,70) have mixed types. Specify dtype option on import or set low_memory=False.\n",
      "  file_df = pd.read_csv(file_df, parse_dates=[\"policyEffectiveDate\"])\n"
     ]
    },
    {
     "name": "stdout",
     "output_type": "stream",
     "text": [
      "103279624.20698023\n",
      "Processing file: ../Game/State_Policy_Data/State_Policies/LA/LA_countyCode_22043.0.csv\n",
      "2502314.6712138345\n",
      "Processing file: ../Game/State_Policy_Data/State_Policies/LA/LA_countyCode_22081.0.csv\n",
      "1055247.943465958\n",
      "Processing file: ../Game/State_Policy_Data/State_Policies/LA/LA_countyCode_22103.0.csv\n"
     ]
    },
    {
     "name": "stderr",
     "output_type": "stream",
     "text": [
      "/tmp/ipykernel_391/4247642833.py:20: DtypeWarning: Columns (3,8,10,32,38,39,54,66,70) have mixed types. Specify dtype option on import or set low_memory=False.\n",
      "  file_df = pd.read_csv(file_df, parse_dates=[\"policyEffectiveDate\"])\n"
     ]
    },
    {
     "name": "stdout",
     "output_type": "stream",
     "text": [
      "683531473.7125907\n",
      "Processing file: ../Game/State_Policy_Data/State_Policies/LA/LA_countyCode_22115.0.csv\n",
      "4698031.248129812\n",
      "Processing file: ../Game/State_Policy_Data/State_Policies/LA/LA_countyCode_22121.0.csv\n"
     ]
    },
    {
     "name": "stderr",
     "output_type": "stream",
     "text": [
      "/tmp/ipykernel_391/4247642833.py:20: DtypeWarning: Columns (38) have mixed types. Specify dtype option on import or set low_memory=False.\n",
      "  file_df = pd.read_csv(file_df, parse_dates=[\"policyEffectiveDate\"])\n"
     ]
    },
    {
     "name": "stdout",
     "output_type": "stream",
     "text": [
      "12511067.200431654\n",
      "Processing file: ../Game/State_Policy_Data/State_Policies/LA/LA_countyCode_48121.0.csv\n",
      "745.6234327914484\n",
      "Processing file: ../Game/State_Policy_Data/State_Policies/LA/LA_countyCode_22035.0.csv\n",
      "2770583.816906632\n",
      "Processing file: ../Game/State_Policy_Data/State_Policies/LA/LA_countyCode_28109.0.csv\n",
      "14646.117289257587\n",
      "Processing file: ../Game/State_Policy_Data/State_Policies/LA/LA_countyCode_22049.0.csv\n",
      "178913.50591986233\n",
      "Processing file: ../Game/State_Policy_Data/State_Policies/LA/LA_countyCode_22037.0.csv\n",
      "1859117.5455791904\n",
      "Processing file: ../Game/State_Policy_Data/State_Policies/LA/LA_countyCode_22097.0.csv\n"
     ]
    },
    {
     "name": "stderr",
     "output_type": "stream",
     "text": [
      "/tmp/ipykernel_391/4247642833.py:20: DtypeWarning: Columns (38,39) have mixed types. Specify dtype option on import or set low_memory=False.\n",
      "  file_df = pd.read_csv(file_df, parse_dates=[\"policyEffectiveDate\"])\n"
     ]
    },
    {
     "name": "stdout",
     "output_type": "stream",
     "text": [
      "36309385.68427272\n",
      "Processing file: ../Game/State_Policy_Data/State_Policies/LA/LA_countyCode_36061.0.csv\n",
      "22242.138133467015\n",
      "Processing file: ../Game/State_Policy_Data/State_Policies/LA/LA_countyCode_22003.0.csv\n",
      "5128521.258595154\n",
      "Processing file: ../Game/State_Policy_Data/State_Policies/LA/LA_countyCode_22029.0.csv\n"
     ]
    },
    {
     "name": "stderr",
     "output_type": "stream",
     "text": [
      "/tmp/ipykernel_391/4247642833.py:20: DtypeWarning: Columns (10) have mixed types. Specify dtype option on import or set low_memory=False.\n",
      "  file_df = pd.read_csv(file_df, parse_dates=[\"policyEffectiveDate\"])\n"
     ]
    },
    {
     "name": "stdout",
     "output_type": "stream",
     "text": [
      "14395849.736688986\n",
      "Processing file: ../Game/State_Policy_Data/State_Policies/LA/LA_countyCode_22065.0.csv\n"
     ]
    },
    {
     "name": "stderr",
     "output_type": "stream",
     "text": [
      "/tmp/ipykernel_391/4247642833.py:20: DtypeWarning: Columns (3,7,8,32,39,49,54,57,66,70) have mixed types. Specify dtype option on import or set low_memory=False.\n",
      "  file_df = pd.read_csv(file_df, parse_dates=[\"policyEffectiveDate\"])\n"
     ]
    },
    {
     "name": "stdout",
     "output_type": "stream",
     "text": [
      "6908993.420051317\n",
      "Processing file: ../Game/State_Policy_Data/State_Policies/LA/LA_countyCode_22123.0.csv\n",
      "1450946.6615753113\n",
      "Processing file: ../Game/State_Policy_Data/State_Policies/LA/LA_countyCode_22077.0.csv\n"
     ]
    },
    {
     "name": "stderr",
     "output_type": "stream",
     "text": [
      "/tmp/ipykernel_391/4247642833.py:20: DtypeWarning: Columns (10) have mixed types. Specify dtype option on import or set low_memory=False.\n",
      "  file_df = pd.read_csv(file_df, parse_dates=[\"policyEffectiveDate\"])\n"
     ]
    },
    {
     "name": "stdout",
     "output_type": "stream",
     "text": [
      "16127370.319171999\n",
      "Processing file: ../Game/State_Policy_Data/State_Policies/LA/LA_countyCode_22031.0.csv\n",
      "1143528.4840884425\n",
      "Processing file: ../Game/State_Policy_Data/State_Policies/LA/LA_countyCode_22009.0.csv\n",
      "11026084.488215303\n",
      "Processing file: ../Game/State_Policy_Data/State_Policies/LA/LA_countyCode_22083.0.csv\n"
     ]
    },
    {
     "name": "stderr",
     "output_type": "stream",
     "text": [
      "/tmp/ipykernel_391/4247642833.py:20: DtypeWarning: Columns (38,39) have mixed types. Specify dtype option on import or set low_memory=False.\n",
      "  file_df = pd.read_csv(file_df, parse_dates=[\"policyEffectiveDate\"])\n"
     ]
    },
    {
     "name": "stdout",
     "output_type": "stream",
     "text": [
      "6406501.345124653\n",
      "Processing file: ../Game/State_Policy_Data/State_Policies/LA/LA_countyCode_22073.0.csv\n"
     ]
    },
    {
     "name": "stderr",
     "output_type": "stream",
     "text": [
      "/tmp/ipykernel_391/4247642833.py:20: DtypeWarning: Columns (10,38,39) have mixed types. Specify dtype option on import or set low_memory=False.\n",
      "  file_df = pd.read_csv(file_df, parse_dates=[\"policyEffectiveDate\"])\n"
     ]
    },
    {
     "name": "stdout",
     "output_type": "stream",
     "text": [
      "74190783.13745847\n",
      "Processing file: ../Game/State_Policy_Data/State_Policies/LA/LA_countyCode_22069.0.csv\n"
     ]
    },
    {
     "name": "stderr",
     "output_type": "stream",
     "text": [
      "/tmp/ipykernel_391/4247642833.py:20: DtypeWarning: Columns (10,39) have mixed types. Specify dtype option on import or set low_memory=False.\n",
      "  file_df = pd.read_csv(file_df, parse_dates=[\"policyEffectiveDate\"])\n"
     ]
    },
    {
     "name": "stdout",
     "output_type": "stream",
     "text": [
      "7700104.448385551\n",
      "Processing file: ../Game/State_Policy_Data/State_Policies/LA/LA_countyCode_22111.0.csv\n",
      "4499480.707645601\n",
      "Processing file: ../Game/State_Policy_Data/State_Policies/LA/LA_countyCode_22023.0.csv\n"
     ]
    },
    {
     "name": "stderr",
     "output_type": "stream",
     "text": [
      "/tmp/ipykernel_391/4247642833.py:20: DtypeWarning: Columns (3,7,8,10,32,39,49,54,57,66,70) have mixed types. Specify dtype option on import or set low_memory=False.\n",
      "  file_df = pd.read_csv(file_df, parse_dates=[\"policyEffectiveDate\"])\n"
     ]
    },
    {
     "name": "stdout",
     "output_type": "stream",
     "text": [
      "38023239.75643145\n",
      "Processing file: ../Game/State_Policy_Data/State_Policies/LA/LA_countyCode_22109.0.csv\n"
     ]
    },
    {
     "name": "stderr",
     "output_type": "stream",
     "text": [
      "/tmp/ipykernel_391/4247642833.py:20: DtypeWarning: Columns (10,38,39,54,57,66,70) have mixed types. Specify dtype option on import or set low_memory=False.\n",
      "  file_df = pd.read_csv(file_df, parse_dates=[\"policyEffectiveDate\"])\n"
     ]
    },
    {
     "name": "stdout",
     "output_type": "stream",
     "text": [
      "228713796.2329889\n",
      "Processing file: ../Game/State_Policy_Data/State_Policies/LA/LA_countyCode_22071.0.csv\n"
     ]
    },
    {
     "name": "stderr",
     "output_type": "stream",
     "text": [
      "/tmp/ipykernel_391/4247642833.py:20: DtypeWarning: Columns (3,7,8,10,32,38,39,49,54,57,66,70) have mixed types. Specify dtype option on import or set low_memory=False.\n",
      "  file_df = pd.read_csv(file_df, parse_dates=[\"policyEffectiveDate\"])\n"
     ]
    },
    {
     "name": "stdout",
     "output_type": "stream",
     "text": [
      "1404160472.1331716\n",
      "Processing file: ../Game/State_Policy_Data/State_Policies/LA/LA_countyCode_22019.0.csv\n"
     ]
    },
    {
     "name": "stderr",
     "output_type": "stream",
     "text": [
      "/tmp/ipykernel_391/4247642833.py:20: DtypeWarning: Columns (10,38,39,49,54,66,70) have mixed types. Specify dtype option on import or set low_memory=False.\n",
      "  file_df = pd.read_csv(file_df, parse_dates=[\"policyEffectiveDate\"])\n"
     ]
    },
    {
     "name": "stdout",
     "output_type": "stream",
     "text": [
      "212396135.974899\n",
      "Processing file: ../Game/State_Policy_Data/State_Policies/LA/LA_countyCode_78010.0.csv\n",
      "6474.304045045216\n",
      "Processing file: ../Game/State_Policy_Data/State_Policies/LA/LA_countyCode_22041.0.csv\n",
      "5487470.721571025\n",
      "Processing file: ../Game/State_Policy_Data/State_Policies/LA/LA_countyCode_22053.0.csv\n"
     ]
    },
    {
     "name": "stderr",
     "output_type": "stream",
     "text": [
      "/tmp/ipykernel_391/4247642833.py:20: DtypeWarning: Columns (10,32,39,54,57,66,70) have mixed types. Specify dtype option on import or set low_memory=False.\n",
      "  file_df = pd.read_csv(file_df, parse_dates=[\"policyEffectiveDate\"])\n"
     ]
    },
    {
     "name": "stdout",
     "output_type": "stream",
     "text": [
      "14422329.715434607\n",
      "Processing file: ../Game/State_Policy_Data/State_Policies/LA/LA_countyCode_72127.0.csv\n",
      "6392.5685017064825\n",
      "Processing file: ../Game/State_Policy_Data/State_Policies/LA/LA_countyCode_22021.0.csv\n",
      "6342438.523739145\n",
      "Processing file: ../Game/State_Policy_Data/State_Policies/LA/LA_countyCode_22099.0.csv\n"
     ]
    },
    {
     "name": "stderr",
     "output_type": "stream",
     "text": [
      "/tmp/ipykernel_391/4247642833.py:20: DtypeWarning: Columns (10,38,39) have mixed types. Specify dtype option on import or set low_memory=False.\n",
      "  file_df = pd.read_csv(file_df, parse_dates=[\"policyEffectiveDate\"])\n"
     ]
    },
    {
     "name": "stdout",
     "output_type": "stream",
     "text": [
      "36738432.96046421\n",
      "Processing file: ../Game/State_Policy_Data/State_Policies/LA/LA_countyCode_22085.0.csv\n",
      "1152878.94752576\n",
      "Processing file: ../Game/State_Policy_Data/State_Policies/LA/LA_countyCode_22005.0.csv\n"
     ]
    },
    {
     "name": "stderr",
     "output_type": "stream",
     "text": [
      "/tmp/ipykernel_391/4247642833.py:20: DtypeWarning: Columns (32,38,39,66,70) have mixed types. Specify dtype option on import or set low_memory=False.\n",
      "  file_df = pd.read_csv(file_df, parse_dates=[\"policyEffectiveDate\"])\n"
     ]
    },
    {
     "name": "stdout",
     "output_type": "stream",
     "text": [
      "173422120.26455823\n",
      "Processing file: ../Game/State_Policy_Data/State_Policies/LA/LA_countyCode_1003.0.csv\n",
      "5086.89259393517\n",
      "Processing file: ../Game/State_Policy_Data/State_Policies/LA/LA_countyCode_22087.0.csv\n"
     ]
    },
    {
     "name": "stderr",
     "output_type": "stream",
     "text": [
      "/tmp/ipykernel_391/4247642833.py:20: DtypeWarning: Columns (10,32,38,39,49,54,66,70) have mixed types. Specify dtype option on import or set low_memory=False.\n",
      "  file_df = pd.read_csv(file_df, parse_dates=[\"policyEffectiveDate\"])\n"
     ]
    },
    {
     "name": "stdout",
     "output_type": "stream",
     "text": [
      "143797454.79956412\n",
      "Processing file: ../Game/State_Policy_Data/State_Policies/LA/LA_countyCode_22011.0.csv\n",
      "3980467.855729333\n",
      "Processing file: ../Game/State_Policy_Data/State_Policies/LA/LA_countyCode_22101.0.csv\n"
     ]
    },
    {
     "name": "stderr",
     "output_type": "stream",
     "text": [
      "/tmp/ipykernel_391/4247642833.py:20: DtypeWarning: Columns (38,39) have mixed types. Specify dtype option on import or set low_memory=False.\n",
      "  file_df = pd.read_csv(file_df, parse_dates=[\"policyEffectiveDate\"])\n"
     ]
    },
    {
     "name": "stdout",
     "output_type": "stream",
     "text": [
      "92330352.76713428\n",
      "Processing file: ../Game/State_Policy_Data/State_Policies/LA/LA_countyCode_22107.0.csv\n",
      "3795422.6906590494\n",
      "Processing file: ../Game/State_Policy_Data/State_Policies/LA/LA_countyCode_22113.0.csv\n"
     ]
    },
    {
     "name": "stderr",
     "output_type": "stream",
     "text": [
      "/tmp/ipykernel_391/4247642833.py:20: DtypeWarning: Columns (10,32,38,39,54,66,70) have mixed types. Specify dtype option on import or set low_memory=False.\n",
      "  file_df = pd.read_csv(file_df, parse_dates=[\"policyEffectiveDate\"])\n"
     ]
    },
    {
     "name": "stdout",
     "output_type": "stream",
     "text": [
      "93681381.0670349\n",
      "Processing file: ../Game/State_Policy_Data/State_Policies/LA/LA_countyCode_22.0.csv\n",
      "1852.354529058757\n",
      "Processing file: ../Game/State_Policy_Data/State_Policies/LA/LA_countyCode_22125.0.csv\n",
      "1555656.8830378088\n",
      "Processing file: ../Game/State_Policy_Data/State_Policies/LA/LA_countyCode_22127.0.csv\n",
      "789829.867267984\n",
      "Processing file: ../Game/State_Policy_Data/State_Policies/LA/LA_countyCode_22089.0.csv\n"
     ]
    },
    {
     "name": "stderr",
     "output_type": "stream",
     "text": [
      "/tmp/ipykernel_391/4247642833.py:20: DtypeWarning: Columns (10,32,38,39,66,70) have mixed types. Specify dtype option on import or set low_memory=False.\n",
      "  file_df = pd.read_csv(file_df, parse_dates=[\"policyEffectiveDate\"])\n"
     ]
    },
    {
     "name": "stdout",
     "output_type": "stream",
     "text": [
      "168089209.70476106\n",
      "Total Inflation-Adjusted Value: 64872409249.17393\n"
     ]
    }
   ],
   "source": [
    "# Load and preprocess annual CPI data\n",
    "cpi_file = \"../Local_Data/BLS_Data/US_BLS_CPIAUCSL.csv\"  # Replace with the correct path\n",
    "cpi_data = pd.read_csv(cpi_file, parse_dates=[\"DATE\"])\n",
    "\n",
    "# Step 1: Preprocess CPI data\n",
    "cpi_data[\"CPIAUCSL\"] = pd.to_numeric(cpi_data[\"CPIAUCSL\"], errors=\"coerce\")\n",
    "cpi_data[\"CPIAUCSL\"].fillna(method=\"ffill\", inplace=True)\n",
    "cpi_data[\"CPIAUCSL\"].fillna(method=\"bfill\", inplace=True)\n",
    "cpi_data[\"year\"] = cpi_data[\"DATE\"].dt.year\n",
    "cpi_data = cpi_data.groupby(\"year\")[\"CPIAUCSL\"].mean().reset_index()\n",
    "cpi_data = cpi_data.rename(columns={\"CPIAUCSL\": \"CPI\"})\n",
    "\n",
    "# Base CPI for adjustment (e.g., 2024)\n",
    "BASE_CPI = 313.3\n",
    "\n",
    "# Step 2: Function to process each file\n",
    "def process_file(file_df, cpi_data, base_cpi):\n",
    "    # Print the file name as it’s being processed\n",
    "    print(f\"Processing file: {file_df}\")\n",
    "    file_df = pd.read_csv(file_df, parse_dates=[\"policyEffectiveDate\"])\n",
    "    \n",
    "    # Calculate the present value of premiums for each record\n",
    "    file_df[\"year\"] = file_df[\"policyEffectiveDate\"].dt.year\n",
    "    file_df = file_df[[\"year\",\"totalInsurancePremiumOfThePolicy\",\"federalPolicyFee\"]]\n",
    "    file_grouped = file_df.groupby(\"year\").sum().reset_index()\n",
    "\n",
    "    # Merge with CPI data\n",
    "    merged_df = pd.merge(file_grouped, cpi_data, on=\"year\", how=\"left\")\n",
    "    merged_df[\"value\"] = merged_df[\"totalInsurancePremiumOfThePolicy\"] + merged_df[\"federalPolicyFee\"]\n",
    "\n",
    "    # Adjust for inflation (assuming 'value' column needs adjustment)\n",
    "    merged_df[\"inflation_adjusted_value\"] = (\n",
    "        merged_df[\"value\"] * (base_cpi/ merged_df[\"CPI\"])\n",
    "    )\n",
    "    \n",
    "    # Aggregate adjusted values\n",
    "    total_adjusted_value = merged_df[\"inflation_adjusted_value\"].sum()\n",
    "    \n",
    "    return total_adjusted_value\n",
    "\n",
    "# Step 3: Iterate over all files\n",
    "total_inflation_adjusted_sum = 0\n",
    "\n",
    "for file_df in csv_files:\n",
    "    val = process_file(file_df, cpi_data, BASE_CPI)\n",
    "    print(val)\n",
    "    total_inflation_adjusted_sum += val\n",
    "\n",
    "# Final result\n",
    "print(\"Total Inflation-Adjusted Value:\", total_inflation_adjusted_sum)"
   ]
  },
  {
   "cell_type": "code",
   "execution_count": 7,
   "id": "409cb895-8ce8-463c-b100-931a42d35c46",
   "metadata": {},
   "outputs": [
    {
     "name": "stdout",
     "output_type": "stream",
     "text": [
      "Total CPI-Adjusted Sum: 64872409249.17393\n",
      "Total Annualized Sum: 831697554.4765888\n"
     ]
    }
   ],
   "source": [
    "# Calculate total annualized sum (adjusting for the number of years)\n",
    "start_year = cpi_data[\"year\"].min()\n",
    "end_year = cpi_data[\"year\"].max()\n",
    "total_years = end_year - start_year + 1\n",
    "total_annualized_sum = total_inflation_adjusted_sum / total_years\n",
    "\n",
    "# Output results\n",
    "print(f\"Total CPI-Adjusted Sum: {total_inflation_adjusted_sum}\")\n",
    "print(f\"Total Annualized Sum: {total_annualized_sum}\")"
   ]
  },
  {
   "cell_type": "code",
   "execution_count": 8,
   "id": "ad7609b1-6c4e-4260-9f27-d1611bd2950e",
   "metadata": {
    "scrolled": true
   },
   "outputs": [
    {
     "name": "stderr",
     "output_type": "stream",
     "text": [
      "/tmp/ipykernel_391/4114194550.py:8: DtypeWarning: Columns (38) have mixed types. Specify dtype option on import or set low_memory=False.\n",
      "  df = pd.read_csv(file_path, parse_dates=[\"policyEffectiveDate\"])\n",
      "/tmp/ipykernel_391/4114194550.py:8: DtypeWarning: Columns (8,10,32,38,39,54,66,70) have mixed types. Specify dtype option on import or set low_memory=False.\n",
      "  df = pd.read_csv(file_path, parse_dates=[\"policyEffectiveDate\"])\n",
      "/tmp/ipykernel_391/4114194550.py:8: DtypeWarning: Columns (38,39) have mixed types. Specify dtype option on import or set low_memory=False.\n",
      "  df = pd.read_csv(file_path, parse_dates=[\"policyEffectiveDate\"])\n",
      "/tmp/ipykernel_391/4114194550.py:8: DtypeWarning: Columns (38,39,57,66,70) have mixed types. Specify dtype option on import or set low_memory=False.\n",
      "  df = pd.read_csv(file_path, parse_dates=[\"policyEffectiveDate\"])\n",
      "/tmp/ipykernel_391/4114194550.py:8: DtypeWarning: Columns (32,38,39,66,70) have mixed types. Specify dtype option on import or set low_memory=False.\n",
      "  df = pd.read_csv(file_path, parse_dates=[\"policyEffectiveDate\"])\n",
      "/tmp/ipykernel_391/4114194550.py:8: DtypeWarning: Columns (10,38,39,66,70) have mixed types. Specify dtype option on import or set low_memory=False.\n",
      "  df = pd.read_csv(file_path, parse_dates=[\"policyEffectiveDate\"])\n",
      "/tmp/ipykernel_391/4114194550.py:8: DtypeWarning: Columns (3,7,8,10,32,38,39,49,54,57,66,70) have mixed types. Specify dtype option on import or set low_memory=False.\n",
      "  df = pd.read_csv(file_path, parse_dates=[\"policyEffectiveDate\"])\n",
      "/tmp/ipykernel_391/4114194550.py:8: DtypeWarning: Columns (10,38,39,54,66,70,74) have mixed types. Specify dtype option on import or set low_memory=False.\n",
      "  df = pd.read_csv(file_path, parse_dates=[\"policyEffectiveDate\"])\n",
      "/tmp/ipykernel_391/4114194550.py:8: DtypeWarning: Columns (3,7,8,10,32,38,39,49,54,57,66,70) have mixed types. Specify dtype option on import or set low_memory=False.\n",
      "  df = pd.read_csv(file_path, parse_dates=[\"policyEffectiveDate\"])\n",
      "/tmp/ipykernel_391/4114194550.py:8: DtypeWarning: Columns (10,38,39,66,70) have mixed types. Specify dtype option on import or set low_memory=False.\n",
      "  df = pd.read_csv(file_path, parse_dates=[\"policyEffectiveDate\"])\n",
      "/tmp/ipykernel_391/4114194550.py:8: DtypeWarning: Columns (32,38,39,54,57,66,70) have mixed types. Specify dtype option on import or set low_memory=False.\n",
      "  df = pd.read_csv(file_path, parse_dates=[\"policyEffectiveDate\"])\n",
      "/tmp/ipykernel_391/4114194550.py:8: DtypeWarning: Columns (32,38,39,54,66,70) have mixed types. Specify dtype option on import or set low_memory=False.\n",
      "  df = pd.read_csv(file_path, parse_dates=[\"policyEffectiveDate\"])\n",
      "/tmp/ipykernel_391/4114194550.py:8: DtypeWarning: Columns (3,32,38,39,54,57,66,70,74) have mixed types. Specify dtype option on import or set low_memory=False.\n",
      "  df = pd.read_csv(file_path, parse_dates=[\"policyEffectiveDate\"])\n",
      "/tmp/ipykernel_391/4114194550.py:8: DtypeWarning: Columns (38,39,66,70) have mixed types. Specify dtype option on import or set low_memory=False.\n",
      "  df = pd.read_csv(file_path, parse_dates=[\"policyEffectiveDate\"])\n",
      "/tmp/ipykernel_391/4114194550.py:8: DtypeWarning: Columns (10,32,38,39,66,70) have mixed types. Specify dtype option on import or set low_memory=False.\n",
      "  df = pd.read_csv(file_path, parse_dates=[\"policyEffectiveDate\"])\n",
      "/tmp/ipykernel_391/4114194550.py:8: DtypeWarning: Columns (3,32,38,39,54,66,70) have mixed types. Specify dtype option on import or set low_memory=False.\n",
      "  df = pd.read_csv(file_path, parse_dates=[\"policyEffectiveDate\"])\n",
      "/tmp/ipykernel_391/4114194550.py:8: DtypeWarning: Columns (32,38,39,54,57,66,70) have mixed types. Specify dtype option on import or set low_memory=False.\n",
      "  df = pd.read_csv(file_path, parse_dates=[\"policyEffectiveDate\"])\n",
      "/tmp/ipykernel_391/4114194550.py:8: DtypeWarning: Columns (32,38,39,66,70) have mixed types. Specify dtype option on import or set low_memory=False.\n",
      "  df = pd.read_csv(file_path, parse_dates=[\"policyEffectiveDate\"])\n",
      "/tmp/ipykernel_391/4114194550.py:8: DtypeWarning: Columns (10,38) have mixed types. Specify dtype option on import or set low_memory=False.\n",
      "  df = pd.read_csv(file_path, parse_dates=[\"policyEffectiveDate\"])\n",
      "/tmp/ipykernel_391/4114194550.py:8: DtypeWarning: Columns (10,38,39,54,65,66,70) have mixed types. Specify dtype option on import or set low_memory=False.\n",
      "  df = pd.read_csv(file_path, parse_dates=[\"policyEffectiveDate\"])\n",
      "/tmp/ipykernel_391/4114194550.py:8: DtypeWarning: Columns (32,38,39,54,57,66,70) have mixed types. Specify dtype option on import or set low_memory=False.\n",
      "  df = pd.read_csv(file_path, parse_dates=[\"policyEffectiveDate\"])\n",
      "/tmp/ipykernel_391/4114194550.py:8: DtypeWarning: Columns (10,32,38,39,66,70) have mixed types. Specify dtype option on import or set low_memory=False.\n",
      "  df = pd.read_csv(file_path, parse_dates=[\"policyEffectiveDate\"])\n",
      "/tmp/ipykernel_391/4114194550.py:8: DtypeWarning: Columns (32,38,39,54,66,70) have mixed types. Specify dtype option on import or set low_memory=False.\n",
      "  df = pd.read_csv(file_path, parse_dates=[\"policyEffectiveDate\"])\n",
      "/tmp/ipykernel_391/4114194550.py:8: DtypeWarning: Columns (10,38,39) have mixed types. Specify dtype option on import or set low_memory=False.\n",
      "  df = pd.read_csv(file_path, parse_dates=[\"policyEffectiveDate\"])\n",
      "/tmp/ipykernel_391/4114194550.py:8: DtypeWarning: Columns (3,38,39,54,66,70) have mixed types. Specify dtype option on import or set low_memory=False.\n",
      "  df = pd.read_csv(file_path, parse_dates=[\"policyEffectiveDate\"])\n",
      "/tmp/ipykernel_391/4114194550.py:8: DtypeWarning: Columns (32,38,57,66,70) have mixed types. Specify dtype option on import or set low_memory=False.\n",
      "  df = pd.read_csv(file_path, parse_dates=[\"policyEffectiveDate\"])\n",
      "/tmp/ipykernel_391/4114194550.py:8: DtypeWarning: Columns (10,38,39) have mixed types. Specify dtype option on import or set low_memory=False.\n",
      "  df = pd.read_csv(file_path, parse_dates=[\"policyEffectiveDate\"])\n",
      "/tmp/ipykernel_391/4114194550.py:8: DtypeWarning: Columns (10,32,38,39,54,66,70,74) have mixed types. Specify dtype option on import or set low_memory=False.\n",
      "  df = pd.read_csv(file_path, parse_dates=[\"policyEffectiveDate\"])\n",
      "/tmp/ipykernel_391/4114194550.py:8: DtypeWarning: Columns (32,38,39,54,57,66,70) have mixed types. Specify dtype option on import or set low_memory=False.\n",
      "  df = pd.read_csv(file_path, parse_dates=[\"policyEffectiveDate\"])\n",
      "/tmp/ipykernel_391/4114194550.py:8: DtypeWarning: Columns (10,32,38,39,66,70) have mixed types. Specify dtype option on import or set low_memory=False.\n",
      "  df = pd.read_csv(file_path, parse_dates=[\"policyEffectiveDate\"])\n",
      "/tmp/ipykernel_391/4114194550.py:8: DtypeWarning: Columns (32,38,39,57,66,70) have mixed types. Specify dtype option on import or set low_memory=False.\n",
      "  df = pd.read_csv(file_path, parse_dates=[\"policyEffectiveDate\"])\n",
      "/tmp/ipykernel_391/4114194550.py:8: DtypeWarning: Columns (10,32,38,39,66,70) have mixed types. Specify dtype option on import or set low_memory=False.\n",
      "  df = pd.read_csv(file_path, parse_dates=[\"policyEffectiveDate\"])\n",
      "/tmp/ipykernel_391/4114194550.py:8: DtypeWarning: Columns (10,32,38,39,57,66,70) have mixed types. Specify dtype option on import or set low_memory=False.\n",
      "  df = pd.read_csv(file_path, parse_dates=[\"policyEffectiveDate\"])\n",
      "/tmp/ipykernel_391/4114194550.py:8: DtypeWarning: Columns (38,39) have mixed types. Specify dtype option on import or set low_memory=False.\n",
      "  df = pd.read_csv(file_path, parse_dates=[\"policyEffectiveDate\"])\n",
      "/tmp/ipykernel_391/4114194550.py:8: DtypeWarning: Columns (3,10,32,38,39,54,57,66,70) have mixed types. Specify dtype option on import or set low_memory=False.\n",
      "  df = pd.read_csv(file_path, parse_dates=[\"policyEffectiveDate\"])\n",
      "/tmp/ipykernel_391/4114194550.py:8: DtypeWarning: Columns (10,38,39) have mixed types. Specify dtype option on import or set low_memory=False.\n",
      "  df = pd.read_csv(file_path, parse_dates=[\"policyEffectiveDate\"])\n",
      "/tmp/ipykernel_391/4114194550.py:8: DtypeWarning: Columns (38) have mixed types. Specify dtype option on import or set low_memory=False.\n",
      "  df = pd.read_csv(file_path, parse_dates=[\"policyEffectiveDate\"])\n",
      "/tmp/ipykernel_391/4114194550.py:8: DtypeWarning: Columns (3,10,32,38,39,54,66,70) have mixed types. Specify dtype option on import or set low_memory=False.\n",
      "  df = pd.read_csv(file_path, parse_dates=[\"policyEffectiveDate\"])\n",
      "/tmp/ipykernel_391/4114194550.py:8: DtypeWarning: Columns (32,38,39,54,57,66,70) have mixed types. Specify dtype option on import or set low_memory=False.\n",
      "  df = pd.read_csv(file_path, parse_dates=[\"policyEffectiveDate\"])\n",
      "/tmp/ipykernel_391/4114194550.py:8: DtypeWarning: Columns (38,39) have mixed types. Specify dtype option on import or set low_memory=False.\n",
      "  df = pd.read_csv(file_path, parse_dates=[\"policyEffectiveDate\"])\n",
      "/tmp/ipykernel_391/4114194550.py:8: DtypeWarning: Columns (32,38,39,54,66,70) have mixed types. Specify dtype option on import or set low_memory=False.\n",
      "  df = pd.read_csv(file_path, parse_dates=[\"policyEffectiveDate\"])\n",
      "/tmp/ipykernel_391/4114194550.py:8: DtypeWarning: Columns (32,38,39,54,66,70) have mixed types. Specify dtype option on import or set low_memory=False.\n",
      "  df = pd.read_csv(file_path, parse_dates=[\"policyEffectiveDate\"])\n",
      "/tmp/ipykernel_391/4114194550.py:8: DtypeWarning: Columns (32,38,39,57,66,70) have mixed types. Specify dtype option on import or set low_memory=False.\n",
      "  df = pd.read_csv(file_path, parse_dates=[\"policyEffectiveDate\"])\n",
      "/tmp/ipykernel_391/4114194550.py:8: DtypeWarning: Columns (10,32,38,39) have mixed types. Specify dtype option on import or set low_memory=False.\n",
      "  df = pd.read_csv(file_path, parse_dates=[\"policyEffectiveDate\"])\n",
      "/tmp/ipykernel_391/4114194550.py:8: DtypeWarning: Columns (39,54,66,70) have mixed types. Specify dtype option on import or set low_memory=False.\n",
      "  df = pd.read_csv(file_path, parse_dates=[\"policyEffectiveDate\"])\n",
      "/tmp/ipykernel_391/4114194550.py:8: DtypeWarning: Columns (38,39,54,65,66,70) have mixed types. Specify dtype option on import or set low_memory=False.\n",
      "  df = pd.read_csv(file_path, parse_dates=[\"policyEffectiveDate\"])\n",
      "/tmp/ipykernel_391/4114194550.py:8: DtypeWarning: Columns (3,10,32,38,39,49,54,57,66,70) have mixed types. Specify dtype option on import or set low_memory=False.\n",
      "  df = pd.read_csv(file_path, parse_dates=[\"policyEffectiveDate\"])\n",
      "/tmp/ipykernel_391/4114194550.py:8: DtypeWarning: Columns (10,32,38,39,54,57,66,70) have mixed types. Specify dtype option on import or set low_memory=False.\n",
      "  df = pd.read_csv(file_path, parse_dates=[\"policyEffectiveDate\"])\n",
      "/tmp/ipykernel_391/4114194550.py:8: DtypeWarning: Columns (38,39) have mixed types. Specify dtype option on import or set low_memory=False.\n",
      "  df = pd.read_csv(file_path, parse_dates=[\"policyEffectiveDate\"])\n",
      "/tmp/ipykernel_391/4114194550.py:8: DtypeWarning: Columns (10,32,38,39,57,66,70) have mixed types. Specify dtype option on import or set low_memory=False.\n",
      "  df = pd.read_csv(file_path, parse_dates=[\"policyEffectiveDate\"])\n",
      "/tmp/ipykernel_391/4114194550.py:8: DtypeWarning: Columns (10,32,38,39,66,70) have mixed types. Specify dtype option on import or set low_memory=False.\n",
      "  df = pd.read_csv(file_path, parse_dates=[\"policyEffectiveDate\"])\n",
      "/tmp/ipykernel_391/4114194550.py:8: DtypeWarning: Columns (8,10,38,39,54,57,66,70) have mixed types. Specify dtype option on import or set low_memory=False.\n",
      "  df = pd.read_csv(file_path, parse_dates=[\"policyEffectiveDate\"])\n",
      "/tmp/ipykernel_391/4114194550.py:8: DtypeWarning: Columns (10,39) have mixed types. Specify dtype option on import or set low_memory=False.\n",
      "  df = pd.read_csv(file_path, parse_dates=[\"policyEffectiveDate\"])\n",
      "/tmp/ipykernel_391/4114194550.py:8: DtypeWarning: Columns (10,32,38,39,54,57,66,70) have mixed types. Specify dtype option on import or set low_memory=False.\n",
      "  df = pd.read_csv(file_path, parse_dates=[\"policyEffectiveDate\"])\n",
      "/tmp/ipykernel_391/4114194550.py:8: DtypeWarning: Columns (8,10,32,38,39,54,57,66,70) have mixed types. Specify dtype option on import or set low_memory=False.\n",
      "  df = pd.read_csv(file_path, parse_dates=[\"policyEffectiveDate\"])\n",
      "/tmp/ipykernel_391/4114194550.py:8: DtypeWarning: Columns (32,38,39,66,70) have mixed types. Specify dtype option on import or set low_memory=False.\n",
      "  df = pd.read_csv(file_path, parse_dates=[\"policyEffectiveDate\"])\n",
      "/tmp/ipykernel_391/4114194550.py:8: DtypeWarning: Columns (10,32,38,39,54,57,66,70) have mixed types. Specify dtype option on import or set low_memory=False.\n",
      "  df = pd.read_csv(file_path, parse_dates=[\"policyEffectiveDate\"])\n",
      "/tmp/ipykernel_391/4114194550.py:8: DtypeWarning: Columns (3,8,10,32,38,39,49,54,57,66,68,70) have mixed types. Specify dtype option on import or set low_memory=False.\n",
      "  df = pd.read_csv(file_path, parse_dates=[\"policyEffectiveDate\"])\n",
      "/tmp/ipykernel_391/4114194550.py:8: DtypeWarning: Columns (10,32,38,39,54,57,66,70) have mixed types. Specify dtype option on import or set low_memory=False.\n",
      "  df = pd.read_csv(file_path, parse_dates=[\"policyEffectiveDate\"])\n",
      "/tmp/ipykernel_391/4114194550.py:8: DtypeWarning: Columns (10,32,38,39,54,57,66,70) have mixed types. Specify dtype option on import or set low_memory=False.\n",
      "  df = pd.read_csv(file_path, parse_dates=[\"policyEffectiveDate\"])\n",
      "/tmp/ipykernel_391/4114194550.py:8: DtypeWarning: Columns (10,32,38,39,54,57,66,70) have mixed types. Specify dtype option on import or set low_memory=False.\n",
      "  df = pd.read_csv(file_path, parse_dates=[\"policyEffectiveDate\"])\n",
      "/tmp/ipykernel_391/4114194550.py:8: DtypeWarning: Columns (38) have mixed types. Specify dtype option on import or set low_memory=False.\n",
      "  df = pd.read_csv(file_path, parse_dates=[\"policyEffectiveDate\"])\n",
      "/tmp/ipykernel_391/4114194550.py:8: DtypeWarning: Columns (32,38,39) have mixed types. Specify dtype option on import or set low_memory=False.\n",
      "  df = pd.read_csv(file_path, parse_dates=[\"policyEffectiveDate\"])\n",
      "/tmp/ipykernel_391/4114194550.py:8: DtypeWarning: Columns (10,38) have mixed types. Specify dtype option on import or set low_memory=False.\n",
      "  df = pd.read_csv(file_path, parse_dates=[\"policyEffectiveDate\"])\n",
      "/tmp/ipykernel_391/4114194550.py:8: DtypeWarning: Columns (10,38,39,54,66,70) have mixed types. Specify dtype option on import or set low_memory=False.\n",
      "  df = pd.read_csv(file_path, parse_dates=[\"policyEffectiveDate\"])\n",
      "/tmp/ipykernel_391/4114194550.py:8: DtypeWarning: Columns (10,32,38,39,54,57,66,70) have mixed types. Specify dtype option on import or set low_memory=False.\n",
      "  df = pd.read_csv(file_path, parse_dates=[\"policyEffectiveDate\"])\n",
      "/tmp/ipykernel_391/4114194550.py:8: DtypeWarning: Columns (10,32,38,39,54,57,66,70) have mixed types. Specify dtype option on import or set low_memory=False.\n",
      "  df = pd.read_csv(file_path, parse_dates=[\"policyEffectiveDate\"])\n",
      "/tmp/ipykernel_391/4114194550.py:8: DtypeWarning: Columns (38,39) have mixed types. Specify dtype option on import or set low_memory=False.\n",
      "  df = pd.read_csv(file_path, parse_dates=[\"policyEffectiveDate\"])\n",
      "/tmp/ipykernel_391/4114194550.py:8: DtypeWarning: Columns (10,38,39,54,66,70) have mixed types. Specify dtype option on import or set low_memory=False.\n",
      "  df = pd.read_csv(file_path, parse_dates=[\"policyEffectiveDate\"])\n",
      "/tmp/ipykernel_391/4114194550.py:8: DtypeWarning: Columns (10,38,39,54,57,66,70) have mixed types. Specify dtype option on import or set low_memory=False.\n",
      "  df = pd.read_csv(file_path, parse_dates=[\"policyEffectiveDate\"])\n",
      "/tmp/ipykernel_391/4114194550.py:8: DtypeWarning: Columns (8,10,32,38,39,49,54,57,66,70) have mixed types. Specify dtype option on import or set low_memory=False.\n",
      "  df = pd.read_csv(file_path, parse_dates=[\"policyEffectiveDate\"])\n",
      "/tmp/ipykernel_391/4114194550.py:8: DtypeWarning: Columns (38,39) have mixed types. Specify dtype option on import or set low_memory=False.\n",
      "  df = pd.read_csv(file_path, parse_dates=[\"policyEffectiveDate\"])\n",
      "/tmp/ipykernel_391/4114194550.py:8: DtypeWarning: Columns (3,10,32,38,39,54,57,66,70) have mixed types. Specify dtype option on import or set low_memory=False.\n",
      "  df = pd.read_csv(file_path, parse_dates=[\"policyEffectiveDate\"])\n",
      "/tmp/ipykernel_391/4114194550.py:8: DtypeWarning: Columns (10) have mixed types. Specify dtype option on import or set low_memory=False.\n",
      "  df = pd.read_csv(file_path, parse_dates=[\"policyEffectiveDate\"])\n",
      "/tmp/ipykernel_391/4114194550.py:8: DtypeWarning: Columns (10,38,39,66,70) have mixed types. Specify dtype option on import or set low_memory=False.\n",
      "  df = pd.read_csv(file_path, parse_dates=[\"policyEffectiveDate\"])\n",
      "/tmp/ipykernel_391/4114194550.py:8: DtypeWarning: Columns (39) have mixed types. Specify dtype option on import or set low_memory=False.\n",
      "  df = pd.read_csv(file_path, parse_dates=[\"policyEffectiveDate\"])\n",
      "/tmp/ipykernel_391/4114194550.py:8: DtypeWarning: Columns (32,38,39,54,57,66,70) have mixed types. Specify dtype option on import or set low_memory=False.\n",
      "  df = pd.read_csv(file_path, parse_dates=[\"policyEffectiveDate\"])\n",
      "/tmp/ipykernel_391/4114194550.py:8: DtypeWarning: Columns (10,32,38,39,66,70) have mixed types. Specify dtype option on import or set low_memory=False.\n",
      "  df = pd.read_csv(file_path, parse_dates=[\"policyEffectiveDate\"])\n",
      "/tmp/ipykernel_391/4114194550.py:8: DtypeWarning: Columns (7,8,10,32,39,54,57,66,70) have mixed types. Specify dtype option on import or set low_memory=False.\n",
      "  df = pd.read_csv(file_path, parse_dates=[\"policyEffectiveDate\"])\n",
      "/tmp/ipykernel_391/4114194550.py:8: DtypeWarning: Columns (10) have mixed types. Specify dtype option on import or set low_memory=False.\n",
      "  df = pd.read_csv(file_path, parse_dates=[\"policyEffectiveDate\"])\n",
      "/tmp/ipykernel_391/4114194550.py:8: DtypeWarning: Columns (10,38,39,54,57,66,70) have mixed types. Specify dtype option on import or set low_memory=False.\n",
      "  df = pd.read_csv(file_path, parse_dates=[\"policyEffectiveDate\"])\n",
      "/tmp/ipykernel_391/4114194550.py:8: DtypeWarning: Columns (38) have mixed types. Specify dtype option on import or set low_memory=False.\n",
      "  df = pd.read_csv(file_path, parse_dates=[\"policyEffectiveDate\"])\n",
      "/tmp/ipykernel_391/4114194550.py:8: DtypeWarning: Columns (3,10,32,38,39,54,57,66,70) have mixed types. Specify dtype option on import or set low_memory=False.\n",
      "  df = pd.read_csv(file_path, parse_dates=[\"policyEffectiveDate\"])\n",
      "/tmp/ipykernel_391/4114194550.py:8: DtypeWarning: Columns (3,8,10,32,38,39,54,57,66,70) have mixed types. Specify dtype option on import or set low_memory=False.\n",
      "  df = pd.read_csv(file_path, parse_dates=[\"policyEffectiveDate\"])\n",
      "/tmp/ipykernel_391/4114194550.py:8: DtypeWarning: Columns (10,32,38,39,54,57,66,70) have mixed types. Specify dtype option on import or set low_memory=False.\n",
      "  df = pd.read_csv(file_path, parse_dates=[\"policyEffectiveDate\"])\n",
      "/tmp/ipykernel_391/4114194550.py:8: DtypeWarning: Columns (10) have mixed types. Specify dtype option on import or set low_memory=False.\n",
      "  df = pd.read_csv(file_path, parse_dates=[\"policyEffectiveDate\"])\n",
      "/tmp/ipykernel_391/4114194550.py:8: DtypeWarning: Columns (10,38) have mixed types. Specify dtype option on import or set low_memory=False.\n",
      "  df = pd.read_csv(file_path, parse_dates=[\"policyEffectiveDate\"])\n",
      "/tmp/ipykernel_391/4114194550.py:8: DtypeWarning: Columns (7,8,10,32,38,39,54,57,66,70) have mixed types. Specify dtype option on import or set low_memory=False.\n",
      "  df = pd.read_csv(file_path, parse_dates=[\"policyEffectiveDate\"])\n",
      "/tmp/ipykernel_391/4114194550.py:8: DtypeWarning: Columns (38,39) have mixed types. Specify dtype option on import or set low_memory=False.\n",
      "  df = pd.read_csv(file_path, parse_dates=[\"policyEffectiveDate\"])\n",
      "/tmp/ipykernel_391/4114194550.py:8: DtypeWarning: Columns (10,38,39) have mixed types. Specify dtype option on import or set low_memory=False.\n",
      "  df = pd.read_csv(file_path, parse_dates=[\"policyEffectiveDate\"])\n",
      "/tmp/ipykernel_391/4114194550.py:8: DtypeWarning: Columns (10,32,38,39) have mixed types. Specify dtype option on import or set low_memory=False.\n",
      "  df = pd.read_csv(file_path, parse_dates=[\"policyEffectiveDate\"])\n",
      "/tmp/ipykernel_391/4114194550.py:8: DtypeWarning: Columns (7,8,10,32,39,54,57,66,70) have mixed types. Specify dtype option on import or set low_memory=False.\n",
      "  df = pd.read_csv(file_path, parse_dates=[\"policyEffectiveDate\"])\n",
      "/tmp/ipykernel_391/4114194550.py:8: DtypeWarning: Columns (10,32,38,39,54,57,66,70) have mixed types. Specify dtype option on import or set low_memory=False.\n",
      "  df = pd.read_csv(file_path, parse_dates=[\"policyEffectiveDate\"])\n",
      "/tmp/ipykernel_391/4114194550.py:8: DtypeWarning: Columns (10,32,38,39) have mixed types. Specify dtype option on import or set low_memory=False.\n",
      "  df = pd.read_csv(file_path, parse_dates=[\"policyEffectiveDate\"])\n",
      "/tmp/ipykernel_391/4114194550.py:8: DtypeWarning: Columns (10,38,39) have mixed types. Specify dtype option on import or set low_memory=False.\n",
      "  df = pd.read_csv(file_path, parse_dates=[\"policyEffectiveDate\"])\n",
      "/tmp/ipykernel_391/4114194550.py:8: DtypeWarning: Columns (3,8,10,38,39,54,66,70,74) have mixed types. Specify dtype option on import or set low_memory=False.\n",
      "  df = pd.read_csv(file_path, parse_dates=[\"policyEffectiveDate\"])\n",
      "/tmp/ipykernel_391/4114194550.py:8: DtypeWarning: Columns (10,38,39,54,57,66,70) have mixed types. Specify dtype option on import or set low_memory=False.\n",
      "  df = pd.read_csv(file_path, parse_dates=[\"policyEffectiveDate\"])\n",
      "/tmp/ipykernel_391/4114194550.py:8: DtypeWarning: Columns (32,38,39,66,70) have mixed types. Specify dtype option on import or set low_memory=False.\n",
      "  df = pd.read_csv(file_path, parse_dates=[\"policyEffectiveDate\"])\n",
      "/tmp/ipykernel_391/4114194550.py:8: DtypeWarning: Columns (10,32,38,39,66,70) have mixed types. Specify dtype option on import or set low_memory=False.\n",
      "  df = pd.read_csv(file_path, parse_dates=[\"policyEffectiveDate\"])\n",
      "/tmp/ipykernel_391/4114194550.py:8: DtypeWarning: Columns (10,38,39,54,66,70) have mixed types. Specify dtype option on import or set low_memory=False.\n",
      "  df = pd.read_csv(file_path, parse_dates=[\"policyEffectiveDate\"])\n",
      "/tmp/ipykernel_391/4114194550.py:8: DtypeWarning: Columns (10,32,38,39,49,54,66,70) have mixed types. Specify dtype option on import or set low_memory=False.\n",
      "  df = pd.read_csv(file_path, parse_dates=[\"policyEffectiveDate\"])\n",
      "/tmp/ipykernel_391/4114194550.py:8: DtypeWarning: Columns (38) have mixed types. Specify dtype option on import or set low_memory=False.\n",
      "  df = pd.read_csv(file_path, parse_dates=[\"policyEffectiveDate\"])\n",
      "/tmp/ipykernel_391/4114194550.py:8: DtypeWarning: Columns (3,7,8,32,39,49,54,57,66,70) have mixed types. Specify dtype option on import or set low_memory=False.\n",
      "  df = pd.read_csv(file_path, parse_dates=[\"policyEffectiveDate\"])\n",
      "/tmp/ipykernel_391/4114194550.py:8: DtypeWarning: Columns (10) have mixed types. Specify dtype option on import or set low_memory=False.\n",
      "  df = pd.read_csv(file_path, parse_dates=[\"policyEffectiveDate\"])\n",
      "/tmp/ipykernel_391/4114194550.py:8: DtypeWarning: Columns (10) have mixed types. Specify dtype option on import or set low_memory=False.\n",
      "  df = pd.read_csv(file_path, parse_dates=[\"policyEffectiveDate\"])\n",
      "/tmp/ipykernel_391/4114194550.py:8: DtypeWarning: Columns (38,39) have mixed types. Specify dtype option on import or set low_memory=False.\n",
      "  df = pd.read_csv(file_path, parse_dates=[\"policyEffectiveDate\"])\n",
      "/tmp/ipykernel_391/4114194550.py:8: DtypeWarning: Columns (38,39) have mixed types. Specify dtype option on import or set low_memory=False.\n",
      "  df = pd.read_csv(file_path, parse_dates=[\"policyEffectiveDate\"])\n",
      "/tmp/ipykernel_391/4114194550.py:8: DtypeWarning: Columns (3,10,32,39,65) have mixed types. Specify dtype option on import or set low_memory=False.\n",
      "  df = pd.read_csv(file_path, parse_dates=[\"policyEffectiveDate\"])\n",
      "/tmp/ipykernel_391/4114194550.py:8: DtypeWarning: Columns (10,39) have mixed types. Specify dtype option on import or set low_memory=False.\n",
      "  df = pd.read_csv(file_path, parse_dates=[\"policyEffectiveDate\"])\n",
      "/tmp/ipykernel_391/4114194550.py:8: DtypeWarning: Columns (3,7,8,10,32,39,49,54,57,66,70) have mixed types. Specify dtype option on import or set low_memory=False.\n",
      "  df = pd.read_csv(file_path, parse_dates=[\"policyEffectiveDate\"])\n",
      "/tmp/ipykernel_391/4114194550.py:8: DtypeWarning: Columns (8,10,32,38,39,49,54,57,66,70) have mixed types. Specify dtype option on import or set low_memory=False.\n",
      "  df = pd.read_csv(file_path, parse_dates=[\"policyEffectiveDate\"])\n",
      "/tmp/ipykernel_391/4114194550.py:8: DtypeWarning: Columns (10,32,39,54,57,66,70) have mixed types. Specify dtype option on import or set low_memory=False.\n",
      "  df = pd.read_csv(file_path, parse_dates=[\"policyEffectiveDate\"])\n",
      "/tmp/ipykernel_391/4114194550.py:8: DtypeWarning: Columns (3,8,10,32,38,39,49,54,57,65,66,70) have mixed types. Specify dtype option on import or set low_memory=False.\n",
      "  df = pd.read_csv(file_path, parse_dates=[\"policyEffectiveDate\"])\n",
      "/tmp/ipykernel_391/4114194550.py:8: DtypeWarning: Columns (10,38,39) have mixed types. Specify dtype option on import or set low_memory=False.\n",
      "  df = pd.read_csv(file_path, parse_dates=[\"policyEffectiveDate\"])\n",
      "/tmp/ipykernel_391/4114194550.py:8: DtypeWarning: Columns (3,10,32,38,39,49,54,57,66,70) have mixed types. Specify dtype option on import or set low_memory=False.\n",
      "  df = pd.read_csv(file_path, parse_dates=[\"policyEffectiveDate\"])\n",
      "/tmp/ipykernel_391/4114194550.py:8: DtypeWarning: Columns (10,38,39) have mixed types. Specify dtype option on import or set low_memory=False.\n",
      "  df = pd.read_csv(file_path, parse_dates=[\"policyEffectiveDate\"])\n",
      "/tmp/ipykernel_391/4114194550.py:8: DtypeWarning: Columns (3,10,38,39,54,57,66,70) have mixed types. Specify dtype option on import or set low_memory=False.\n",
      "  df = pd.read_csv(file_path, parse_dates=[\"policyEffectiveDate\"])\n",
      "/tmp/ipykernel_391/4114194550.py:8: DtypeWarning: Columns (38,39) have mixed types. Specify dtype option on import or set low_memory=False.\n",
      "  df = pd.read_csv(file_path, parse_dates=[\"policyEffectiveDate\"])\n",
      "/tmp/ipykernel_391/4114194550.py:8: DtypeWarning: Columns (3,10,32,38,39,49,54,57,66,70) have mixed types. Specify dtype option on import or set low_memory=False.\n",
      "  df = pd.read_csv(file_path, parse_dates=[\"policyEffectiveDate\"])\n",
      "/tmp/ipykernel_391/4114194550.py:8: DtypeWarning: Columns (10,32,38,39,54,66,70) have mixed types. Specify dtype option on import or set low_memory=False.\n",
      "  df = pd.read_csv(file_path, parse_dates=[\"policyEffectiveDate\"])\n",
      "/tmp/ipykernel_391/4114194550.py:8: DtypeWarning: Columns (3,8,10,32,38,39,49,54,57,66,70) have mixed types. Specify dtype option on import or set low_memory=False.\n",
      "  df = pd.read_csv(file_path, parse_dates=[\"policyEffectiveDate\"])\n",
      "/tmp/ipykernel_391/4114194550.py:8: DtypeWarning: Columns (10,38,39,49,54,66,70) have mixed types. Specify dtype option on import or set low_memory=False.\n",
      "  df = pd.read_csv(file_path, parse_dates=[\"policyEffectiveDate\"])\n",
      "/tmp/ipykernel_391/4114194550.py:8: DtypeWarning: Columns (10,38,39,54,57,66,70) have mixed types. Specify dtype option on import or set low_memory=False.\n",
      "  df = pd.read_csv(file_path, parse_dates=[\"policyEffectiveDate\"])\n",
      "/tmp/ipykernel_391/4114194550.py:8: DtypeWarning: Columns (10,32,38,39,49,54,66,70) have mixed types. Specify dtype option on import or set low_memory=False.\n",
      "  df = pd.read_csv(file_path, parse_dates=[\"policyEffectiveDate\"])\n",
      "/tmp/ipykernel_391/4114194550.py:8: DtypeWarning: Columns (32,38,39,66,70) have mixed types. Specify dtype option on import or set low_memory=False.\n",
      "  df = pd.read_csv(file_path, parse_dates=[\"policyEffectiveDate\"])\n",
      "/tmp/ipykernel_391/4114194550.py:8: DtypeWarning: Columns (3,8,10,32,38,39,49,54,57,66,70,74) have mixed types. Specify dtype option on import or set low_memory=False.\n",
      "  df = pd.read_csv(file_path, parse_dates=[\"policyEffectiveDate\"])\n",
      "/tmp/ipykernel_391/4114194550.py:8: DtypeWarning: Columns (10,32,38,39,66,70) have mixed types. Specify dtype option on import or set low_memory=False.\n",
      "  df = pd.read_csv(file_path, parse_dates=[\"policyEffectiveDate\"])\n",
      "/tmp/ipykernel_391/4114194550.py:8: DtypeWarning: Columns (10,32,38,39,54,66,70) have mixed types. Specify dtype option on import or set low_memory=False.\n",
      "  df = pd.read_csv(file_path, parse_dates=[\"policyEffectiveDate\"])\n",
      "/tmp/ipykernel_391/4114194550.py:8: DtypeWarning: Columns (3,10,32,38,39,54,57,66,70) have mixed types. Specify dtype option on import or set low_memory=False.\n",
      "  df = pd.read_csv(file_path, parse_dates=[\"policyEffectiveDate\"])\n",
      "/tmp/ipykernel_391/4114194550.py:8: DtypeWarning: Columns (3,8,10,32,38,39,49,54,57,66,70) have mixed types. Specify dtype option on import or set low_memory=False.\n",
      "  df = pd.read_csv(file_path, parse_dates=[\"policyEffectiveDate\"])\n",
      "/tmp/ipykernel_391/4114194550.py:8: DtypeWarning: Columns (3,8,10,32,38,39,54,66,70) have mixed types. Specify dtype option on import or set low_memory=False.\n",
      "  df = pd.read_csv(file_path, parse_dates=[\"policyEffectiveDate\"])\n",
      "/tmp/ipykernel_391/4114194550.py:8: DtypeWarning: Columns (3,8,10,32,38,39,49,54,57,66,68,70) have mixed types. Specify dtype option on import or set low_memory=False.\n",
      "  df = pd.read_csv(file_path, parse_dates=[\"policyEffectiveDate\"])\n",
      "/tmp/ipykernel_391/4114194550.py:8: DtypeWarning: Columns (3,7,8,10,32,38,39,49,54,57,66,70) have mixed types. Specify dtype option on import or set low_memory=False.\n",
      "  df = pd.read_csv(file_path, parse_dates=[\"policyEffectiveDate\"])\n",
      "/tmp/ipykernel_391/4114194550.py:8: DtypeWarning: Columns (3,7,8,10,32,38,39,49,54,57,66,70) have mixed types. Specify dtype option on import or set low_memory=False.\n",
      "  df = pd.read_csv(file_path, parse_dates=[\"policyEffectiveDate\"])\n",
      "/tmp/ipykernel_391/4114194550.py:8: DtypeWarning: Columns (3,7,8,10,32,38,39,49,54,57,66,70) have mixed types. Specify dtype option on import or set low_memory=False.\n",
      "  df = pd.read_csv(file_path, parse_dates=[\"policyEffectiveDate\"])\n",
      "/tmp/ipykernel_391/4114194550.py:8: DtypeWarning: Columns (3,7,8,10,32,38,39,49,54,57,66,70) have mixed types. Specify dtype option on import or set low_memory=False.\n",
      "  df = pd.read_csv(file_path, parse_dates=[\"policyEffectiveDate\"])\n"
     ]
    },
    {
     "name": "stdout",
     "output_type": "stream",
     "text": [
      "Total Inflation-Adjusted Value: 64872409249.17393\n"
     ]
    }
   ],
   "source": [
    "# Step 1: Precompute adjustment factors\n",
    "cpi_data[\"adjustment_factor\"] = BASE_CPI / cpi_data[\"CPI\"]\n",
    "adjustment_factors = dict(zip(cpi_data[\"year\"], cpi_data[\"adjustment_factor\"]))\n",
    "\n",
    "# Step 2: Optimized function to process each file\n",
    "def process_file(file_path, adjustment_factors):\n",
    "    # Read file\n",
    "    df = pd.read_csv(file_path, parse_dates=[\"policyEffectiveDate\"])\n",
    "    \n",
    "    # Extract year and relevant columns\n",
    "    df[\"year\"] = df[\"policyEffectiveDate\"].dt.year\n",
    "    df = df[[\"year\", \"totalInsurancePremiumOfThePolicy\", \"federalPolicyFee\"]]\n",
    "    \n",
    "    # Group by year and sum\n",
    "    grouped = df.groupby(\"year\").sum().reset_index()\n",
    "    \n",
    "    # Adjust for inflation using precomputed factors\n",
    "    grouped[\"adjustment_factor\"] = grouped[\"year\"].map(adjustment_factors)\n",
    "    grouped[\"value\"] = grouped[\"totalInsurancePremiumOfThePolicy\"] + grouped[\"federalPolicyFee\"]\n",
    "    grouped[\"inflation_adjusted_value\"] = grouped[\"value\"] * grouped[\"adjustment_factor\"]\n",
    "    \n",
    "    # Return the total adjusted value\n",
    "    return grouped[\"inflation_adjusted_value\"].sum()\n",
    "\n",
    "# Step 3: Process all files\n",
    "from concurrent.futures import ThreadPoolExecutor\n",
    "\n",
    "# Use threading for parallel processing\n",
    "total_inflation_adjusted_sum = 0\n",
    "with ThreadPoolExecutor() as executor:\n",
    "    results = executor.map(lambda f: process_file(f, adjustment_factors), csv_files)\n",
    "    total_inflation_adjusted_sum = sum(results)\n",
    "\n",
    "# Final result\n",
    "print(\"Total Inflation-Adjusted Value:\", total_inflation_adjusted_sum)"
   ]
  },
  {
   "cell_type": "code",
   "execution_count": 9,
   "id": "224eef0c-aa7d-4cce-b636-306b92e84af9",
   "metadata": {},
   "outputs": [
    {
     "name": "stdout",
     "output_type": "stream",
     "text": [
      "Total CPI-Adjusted Sum: 64872409249.17393\n",
      "Total Annualized Sum: 831697554.4765888\n"
     ]
    }
   ],
   "source": [
    "# Calculate total annualized sum (adjusting for the number of years)\n",
    "start_year = cpi_data[\"year\"].min()\n",
    "end_year = cpi_data[\"year\"].max()\n",
    "total_years = end_year - start_year + 1\n",
    "total_annualized_sum = total_inflation_adjusted_sum / total_years\n",
    "\n",
    "# Output results\n",
    "print(f\"Total CPI-Adjusted Sum: {total_inflation_adjusted_sum}\")\n",
    "print(f\"Total Annualized Sum: {total_annualized_sum}\")"
   ]
  },
  {
   "cell_type": "code",
   "execution_count": null,
   "id": "186af61a-1055-44d9-997d-35d16c90d934",
   "metadata": {},
   "outputs": [],
   "source": []
  }
 ],
 "metadata": {
  "kernelspec": {
   "display_name": "Python 3 (ipykernel)",
   "language": "python",
   "name": "python3"
  },
  "language_info": {
   "codemirror_mode": {
    "name": "ipython",
    "version": 3
   },
   "file_extension": ".py",
   "mimetype": "text/x-python",
   "name": "python",
   "nbconvert_exporter": "python",
   "pygments_lexer": "ipython3",
   "version": "3.12.7"
  }
 },
 "nbformat": 4,
 "nbformat_minor": 5
}
