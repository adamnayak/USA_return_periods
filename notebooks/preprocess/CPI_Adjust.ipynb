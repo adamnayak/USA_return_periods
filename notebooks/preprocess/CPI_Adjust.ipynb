{
 "cells": [
  {
   "cell_type": "code",
   "execution_count": 1,
   "id": "2d8ae095-badb-4273-82fa-27d68785a31b",
   "metadata": {},
   "outputs": [],
   "source": [
    "import pandas as pd\n",
    "import numpy as np\n",
    "import matplotlib.pyplot as plt\n",
    "import seaborn as sns\n",
    "from sklearn.linear_model import LinearRegression\n",
    "import geopandas as gpd\n",
    "from matplotlib.patches import Circle\n",
    "from matplotlib.collections import PatchCollection\n",
    "from shapely.geometry import Point\n",
    "from sklearn.cluster import DBSCAN\n",
    "from itertools import product\n",
    "import matplotlib.colors as mcolors\n",
    "import matplotlib.lines as mlines\n",
    "import matplotlib.patches as mpatches\n",
    "from matplotlib.lines import Line2D\n",
    "from matplotlib.colors import LogNorm\n",
    "from matplotlib.gridspec import GridSpec\n",
    "from matplotlib.gridspec import GridSpec, GridSpecFromSubplotSpec"
   ]
  },
  {
   "cell_type": "markdown",
   "id": "7cc35775-0d49-4b45-8f77-a202bcf8b305",
   "metadata": {},
   "source": [
    "# Functions"
   ]
  },
  {
   "cell_type": "markdown",
   "id": "5afd7cb2-7057-4c37-a2fc-ebb658db0836",
   "metadata": {},
   "source": [
    "# Specifications"
   ]
  },
  {
   "cell_type": "code",
   "execution_count": 2,
   "id": "81711fe0-9fa7-4432-a169-b5a659fe0ef7",
   "metadata": {},
   "outputs": [],
   "source": [
    "optimal_cluster = 'st_cluster_3_5_7'\n",
    "name = ''\n",
    "save = True\n",
    "\n",
    "# Base CPI for adjustment (e.g., 2024)\n",
    "BASE_CPI = 313.3"
   ]
  },
  {
   "cell_type": "markdown",
   "id": "f8778350-c34a-4669-89cc-c92dd0c1e6ce",
   "metadata": {},
   "source": [
    "# Load Claims"
   ]
  },
  {
   "cell_type": "code",
   "execution_count": 3,
   "id": "75ca8f56-9b75-42fe-8d67-fb0a992d9abb",
   "metadata": {},
   "outputs": [
    {
     "name": "stderr",
     "output_type": "stream",
     "text": [
      "/tmp/ipykernel_8475/4091207835.py:1: DtypeWarning: Columns (7,32,35,38,42,51,52,61) have mixed types. Specify dtype option on import or set low_memory=False.\n",
      "  claims_clusters = pd.read_csv('../../../PRISM_MSWEP_ERA5_Processed_Claims.csv')\n"
     ]
    }
   ],
   "source": [
    "claims_clusters = pd.read_csv('../../../PRISM_MSWEP_ERA5_Processed_Claims.csv')\n",
    "# Ensure that 'countyCode' is properly formatted as a 5-character string\n",
    "claims_clusters['countyCode'] = claims_clusters['countyCode'].astype(int).astype(str)\n",
    "claims_clusters['countyCode'] = claims_clusters['countyCode'].apply(lambda x: str(x).zfill(5))"
   ]
  },
  {
   "cell_type": "markdown",
   "id": "a546fa89-a685-4da0-b781-d18c3612f93e",
   "metadata": {},
   "source": [
    "# Load CPI"
   ]
  },
  {
   "cell_type": "code",
   "execution_count": null,
   "id": "c0e05ffc-c927-491d-896b-cc94a2a9a4ab",
   "metadata": {},
   "outputs": [
    {
     "name": "stderr",
     "output_type": "stream",
     "text": [
      "/tmp/ipykernel_8475/2774157701.py:8: FutureWarning: A value is trying to be set on a copy of a DataFrame or Series through chained assignment using an inplace method.\n",
      "The behavior will change in pandas 3.0. This inplace method will never work because the intermediate object on which we are setting values always behaves as a copy.\n",
      "\n",
      "For example, when doing 'df[col].method(value, inplace=True)', try using 'df.method({col: value}, inplace=True)' or df[col] = df[col].method(value) instead, to perform the operation inplace on the original object.\n",
      "\n",
      "\n",
      "  CPI_insurance[\"CPIAUCSL\"].fillna(method=\"ffill\", inplace=True)\n",
      "/tmp/ipykernel_8475/2774157701.py:8: FutureWarning: Series.fillna with 'method' is deprecated and will raise in a future version. Use obj.ffill() or obj.bfill() instead.\n",
      "  CPI_insurance[\"CPIAUCSL\"].fillna(method=\"ffill\", inplace=True)\n",
      "/tmp/ipykernel_8475/2774157701.py:9: FutureWarning: A value is trying to be set on a copy of a DataFrame or Series through chained assignment using an inplace method.\n",
      "The behavior will change in pandas 3.0. This inplace method will never work because the intermediate object on which we are setting values always behaves as a copy.\n",
      "\n",
      "For example, when doing 'df[col].method(value, inplace=True)', try using 'df.method({col: value}, inplace=True)' or df[col] = df[col].method(value) instead, to perform the operation inplace on the original object.\n",
      "\n",
      "\n",
      "  CPI_insurance[\"CPIAUCSL\"].fillna(method=\"bfill\", inplace=True)\n",
      "/tmp/ipykernel_8475/2774157701.py:9: FutureWarning: Series.fillna with 'method' is deprecated and will raise in a future version. Use obj.ffill() or obj.bfill() instead.\n",
      "  CPI_insurance[\"CPIAUCSL\"].fillna(method=\"bfill\", inplace=True)\n"
     ]
    }
   ],
   "source": [
    "# Load CPI data\n",
    "CPI_insurance = pd.read_csv(\"../../../../Local_Data/BLS_Data/US_BLS_CPIAUCSL.csv\", parse_dates=[\"DATE\"]) \n",
    "\n",
    "# Ensure 'CPIAUCSL' is numeric\n",
    "CPI_insurance[\"CPIAUCSL\"] = pd.to_numeric(CPI_insurance[\"CPIAUCSL\"], errors=\"coerce\")\n",
    "\n",
    "# Handle missing or non-numeric values by forward and backward filling\n",
    "CPI_insurance[\"CPIAUCSL\"].fillna(method=\"ffill\", inplace=True)\n",
    "CPI_insurance[\"CPIAUCSL\"].fillna(method=\"bfill\", inplace=True)\n",
    "\n",
    "# Extract year and calculate annual average CPI\n",
    "CPI_insurance['Year'] = CPI_insurance[\"DATE\"].dt.year\n",
    "CPI_insurance = CPI_insurance.groupby('Year')[\"CPIAUCSL\"].mean().reset_index()\n",
    "CPI_insurance = CPI_insurance.rename(columns={\"CPIAUCSL\": \"CPI\"})\n",
    "\n",
    "# Filter claims_cluster to only include those from 1998 to present\n",
    "claims_clusters['dateOfLoss'] = pd.to_datetime(claims_clusters['dateOfLoss'])\n",
    "\n",
    "# Extract month (abbreviated) and year from 'dateOfLoss'\n",
    "claims_clusters.loc[:, 'yearOfLoss'] = claims_clusters['dateOfLoss'].dt.year\n",
    "\n",
    "# Merge claims_clusters with CPI_insurance on month (abbreviation) and year\n",
    "claims_merged = pd.merge(claims_clusters, CPI_insurance, left_on=['yearOfLoss'], right_on=['Year'])\n",
    "claims_merged = claims_merged.drop(columns=['Year'])\n",
    "\n",
    "# Create new field for 'totalClaimPaid'\n",
    "claims_merged['totalClaimPaid'] = claims_merged['amountPaidOnBuildingClaim'].fillna(0) + claims_merged['amountPaidOnContentsClaim'].fillna(0)\n",
    "\n",
    "# Create 'adjustedClaim' column by dividing the CPI for May 2024 by the CPI at the time of loss, and multiplying by 'totalClaimPaid'\n",
    "claims_merged['adjustedClaim'] = (BASE_CPI / claims_merged['CPI']) * claims_merged['totalClaimPaid']\n",
    "claims_merged['buildingDamage'] = (BASE_CPI / claims_merged['CPI']) * claims_merged['buildingDamageAmount']\n",
    "\n",
    "claims_clusters = claims_merged\n",
    "if save:\n",
    "    claims_clusters.to_csv('clustered_claims_final.csv')"
   ]
  },
  {
   "cell_type": "code",
   "execution_count": null,
   "id": "5a16c483-b709-43c5-b2e4-29db86eaf387",
   "metadata": {},
   "outputs": [],
   "source": []
  }
 ],
 "metadata": {
  "kernelspec": {
   "display_name": "Python 3 (ipykernel)",
   "language": "python",
   "name": "python3"
  },
  "language_info": {
   "codemirror_mode": {
    "name": "ipython",
    "version": 3
   },
   "file_extension": ".py",
   "mimetype": "text/x-python",
   "name": "python",
   "nbconvert_exporter": "python",
   "pygments_lexer": "ipython3",
   "version": "3.12.11"
  }
 },
 "nbformat": 4,
 "nbformat_minor": 5
}
