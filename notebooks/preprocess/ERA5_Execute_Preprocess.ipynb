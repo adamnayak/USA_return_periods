{
 "cells": [
  {
   "cell_type": "code",
   "execution_count": null,
   "id": "e6b88f7f-8be7-46ab-a8b3-bae5689a90ac",
   "metadata": {},
   "outputs": [],
   "source": [
    "import numpy as np\n",
    "import pandas as pd\n",
    "import matplotlib.pyplot as plt\n",
    "import cartopy.crs as ccrs\n",
    "import os\n",
    "import seaborn as sns\n",
    "import xarray as xr\n",
    "import dask\n",
    "from dask.distributed import Client\n",
    "import dask.array as da\n",
    "from pathlib import Path\n",
    "!pip install cloudpathlib\n",
    "from cloudpathlib import GSPath\n",
    "import cdsapi\n",
    "import cartopy\n",
    "import glob\n",
    "import geopandas as gpd\n",
    "from collections import defaultdict\n",
    "import rioxarray\n",
    "from datetime import datetime, timedelta\n",
    "from scipy.stats import percentileofscore\n",
    "import time\n",
    "import rioxarray as rxr\n",
    "from shapely.geometry import box, Polygon, Point\n",
    "from rasterio.features import geometry_mask, geometry_window\n",
    "from multiprocessing import Pool\n",
    "from functools import partial  # Import partial\n",
    "from concurrent.futures import ProcessPoolExecutor\n",
    "from scipy.stats import genextreme\n",
    "import xarray as xr\n",
    "import gcsfs  # For interacting with Google Cloud Storage\n",
    "import tempfile\n",
    "import shutil\n",
    "from tempfile import TemporaryDirectory\n",
    "from google.cloud import storage\n",
    "import sys, pathlib\n",
    "sys.path.insert(0, \"src\")\n",
    "from ERA5_Preprocess import *"
   ]
  },
  {
   "cell_type": "markdown",
   "id": "e5dd569e-2bb0-4ac6-89a8-4159fe97c68a",
   "metadata": {},
   "source": [
    "# Input Files"
   ]
  },
  {
   "cell_type": "code",
   "execution_count": null,
   "id": "a215dea6-4642-4723-933c-d1c1cf033059",
   "metadata": {},
   "outputs": [],
   "source": [
    "# Define your bucket and paths\n",
    "bucket = 'gs://leap-persistent/adamnayak/flood-insurance'\n",
    "county_shapefile = '../../Local_Data/Geospatial/tl_2019_us_county.shp'\n",
    "precipitation_nc_path = 'ERA5/Daily_Annual/era5_daily_precipitation_2020.nc'\n",
    "weights_output_path = 'ERA5/ERA5_county_pixel_weights.npy'"
   ]
  },
  {
   "cell_type": "markdown",
   "id": "68748666-1f2f-446b-b15c-9dafaa1c3b44",
   "metadata": {},
   "source": [
    "# Determine County Weights"
   ]
  },
  {
   "cell_type": "code",
   "execution_count": null,
   "id": "b88169c9-bc6b-4646-a0e5-80249a8aeab4",
   "metadata": {
    "scrolled": true
   },
   "outputs": [],
   "source": [
    "# Call the function\n",
    "weights = calculate_pixel_weights_nofrac(\n",
    "    county_shapefile=county_shapefile,\n",
    "    precipitation_nc_path=precipitation_nc_path,\n",
    "    output_path=weights_output_path,\n",
    "    gcs_bucket=bucket\n",
    ")"
   ]
  },
  {
   "cell_type": "markdown",
   "id": "f3ab5997-26f1-41d9-9467-c2918fb35e61",
   "metadata": {},
   "source": [
    "# Aggregate Precipitation"
   ]
  },
  {
   "cell_type": "code",
   "execution_count": null,
   "id": "0a3d2a1f-d3e0-40d4-93b7-9b32307f2007",
   "metadata": {},
   "outputs": [],
   "source": [
    "# Define your paths\n",
    "precipitation_dir = 'ERA5/Daily_Annual/'\n",
    "output_dir = 'ERA5/County_Daily_Precip_By_Year'"
   ]
  },
  {
   "cell_type": "code",
   "execution_count": null,
   "id": "b9d92eac-ee81-41ad-bca8-401dbd11e1c9",
   "metadata": {
    "scrolled": true
   },
   "outputs": [],
   "source": [
    "# Call the function\n",
    "calculate_daily_precipitation(\n",
    "    county_shapefile=county_shapefile,\n",
    "    precipitation_dir=precipitation_dir,\n",
    "    weights=weights,\n",
    "    output_dir=output_dir,\n",
    "    gcs_bucket=bucket\n",
    ")"
   ]
  },
  {
   "cell_type": "markdown",
   "id": "74cf4ed9-81b0-4b5f-a7f7-2b194546a9b4",
   "metadata": {},
   "source": [
    "# Rechunk to County"
   ]
  },
  {
   "cell_type": "code",
   "execution_count": null,
   "id": "3873b671-de7b-408e-82c7-367cdd17f5e1",
   "metadata": {},
   "outputs": [],
   "source": [
    "# Define GCS bucket and paths\n",
    "input_path = 'ERA5/County_Daily_Precip_By_Year'\n",
    "output_path = 'ERA5/County_Daily_Precip_By_County'\n",
    "\n",
    "# Define the range of years to process\n",
    "precip_years = range(1940, 2024)"
   ]
  },
  {
   "cell_type": "code",
   "execution_count": null,
   "id": "8c5e1089-0e9a-4550-9daa-4d8e76b08f00",
   "metadata": {
    "scrolled": true
   },
   "outputs": [],
   "source": [
    "# Call the function\n",
    "rechunk_precipitation_data_by_county_gcs_efficient(\n",
    "    years=precip_years,\n",
    "    input_path=input_path,\n",
    "    output_path=output_path,\n",
    "    gcs_bucket=bucket\n",
    ")"
   ]
  },
  {
   "cell_type": "markdown",
   "id": "d92e3c76-48d6-4577-8fa7-f682b962aed5",
   "metadata": {},
   "source": [
    "# Calculate County Precip Stats of Interest"
   ]
  },
  {
   "cell_type": "code",
   "execution_count": null,
   "id": "b4c98b8c-dfff-4a3a-ad1c-3b77423985f4",
   "metadata": {},
   "outputs": [],
   "source": [
    "# GCS bucket and folder details\n",
    "bucket_name = 'leap-persistent'\n",
    "source_folder = 'adamnayak/flood-insurance/ERA5/County_Daily_Precip_By_County'\n",
    "local_folder = 'ERA5_County_Precip_Local'"
   ]
  },
  {
   "cell_type": "code",
   "execution_count": null,
   "id": "edfe0e07-32cf-4199-8a3c-40766c8402c9",
   "metadata": {},
   "outputs": [],
   "source": [
    "# Download data from GCS\n",
    "download_from_gcs(bucket_name, source_folder, local_folder)"
   ]
  },
  {
   "cell_type": "code",
   "execution_count": null,
   "id": "c780da25-3b02-45ee-9b66-983fa03b552f",
   "metadata": {
    "scrolled": true
   },
   "outputs": [],
   "source": [
    "# Process all precipitation data\n",
    "process_all_precipitation_data_era5(local_folder)"
   ]
  },
  {
   "cell_type": "markdown",
   "id": "18c663cc-d459-4959-a2b1-9fc8fe31799f",
   "metadata": {},
   "source": [
    "# Split Claims Data"
   ]
  },
  {
   "cell_type": "code",
   "execution_count": null,
   "id": "9759444b-07ed-433f-bcb3-edcc443dde27",
   "metadata": {},
   "outputs": [],
   "source": [
    "# Define GCS bucket and paths\n",
    "claims_path = 'NFIP/State_Policy_Data/FimaNfipClaims.csv'\n",
    "output_path = 'NFIP/Claims_By_County'"
   ]
  },
  {
   "cell_type": "code",
   "execution_count": null,
   "id": "ac4485f9-41f8-489a-a1b3-5666d352bf95",
   "metadata": {},
   "outputs": [],
   "source": [
    "# Split claims data by county\n",
    "split_claims_data_by_county_gcs(\n",
    "    claims_path=claims_path,\n",
    "    gcs_bucket=bucket,\n",
    "    output_path=output_path\n",
    ")"
   ]
  },
  {
   "cell_type": "code",
   "execution_count": null,
   "id": "2839bfdf-04ec-42b3-8818-3654bb5c3880",
   "metadata": {},
   "outputs": [],
   "source": [
    "# GCS bucket and folder details\n",
    "bucket_name = 'leap-persistent'\n",
    "source_folder = 'adamnayak/flood-insurance/NFIP/Split_Claims'\n",
    "local_folder = 'NFIP_Claims_By_County'\n",
    "\n",
    "# Download data from GCS\n",
    "download_from_gcs(bucket_name, source_folder, local_folder)"
   ]
  },
  {
   "cell_type": "markdown",
   "id": "f88f4d8d-df99-4d28-a506-e8d366a5fe7f",
   "metadata": {},
   "source": [
    "# Merge Claims with Precip"
   ]
  },
  {
   "cell_type": "code",
   "execution_count": null,
   "id": "99bceb4b-c9c7-49e4-bb8d-71547d916214",
   "metadata": {},
   "outputs": [],
   "source": [
    "# Define folders for analysis\n",
    "claims_folder = 'NFIP_Claims_By_County'\n",
    "precip_folder = 'ERA5_Daily_Precip_Processed_County'\n",
    "output_folder = 'ERA5_Merged_Claims'"
   ]
  },
  {
   "cell_type": "code",
   "execution_count": null,
   "id": "628d19c9-f318-4953-8f82-6e05670870d5",
   "metadata": {
    "scrolled": true
   },
   "outputs": [],
   "source": [
    "# Merge claims with precipitation data\n",
    "merge_claims_with_precip(claims_folder=claims_folder, \n",
    "                         precip_folder=precip_folder, \n",
    "                         output_folder=output_folder)"
   ]
  },
  {
   "cell_type": "markdown",
   "id": "489aa5bc-48a7-4f50-867d-1fa1d98e1d22",
   "metadata": {},
   "source": [
    "# Concatenate Claims with Precip"
   ]
  },
  {
   "cell_type": "code",
   "execution_count": null,
   "id": "0c0ccbbe-e591-4441-afc6-69876084db95",
   "metadata": {},
   "outputs": [],
   "source": [
    "processed_path=\"ERA5_Merged_Claims\"\n",
    "output_file=\"ERA5_Processed_Claims.csv\""
   ]
  },
  {
   "cell_type": "code",
   "execution_count": null,
   "id": "ac849265-a778-488a-9de6-24f4be7a14f2",
   "metadata": {
    "scrolled": true
   },
   "outputs": [],
   "source": [
    "# Concatenate all processed claims\n",
    "concatenate_processed_claims(output_file=output_file, \n",
    "                                 processed_path=processed_path)"
   ]
  },
  {
   "cell_type": "markdown",
   "id": "f6096933-bcda-432d-8624-a0d875122b27",
   "metadata": {},
   "source": [
    "# Clean Up and Push to Cloud"
   ]
  },
  {
   "cell_type": "code",
   "execution_count": null,
   "id": "b6519214-b262-4c00-9f63-5a2461d073e0",
   "metadata": {},
   "outputs": [],
   "source": [
    "# Define bucket and folder paths\n",
    "bucket_name = \"leap-persistent\"\n",
    "target_folder = \"adamnayak/flood-insurance/ERA5\"  # Updated path"
   ]
  },
  {
   "cell_type": "code",
   "execution_count": null,
   "id": "ae4826bc-7266-4ac9-89dc-11f1a5510169",
   "metadata": {
    "scrolled": true
   },
   "outputs": [],
   "source": [
    "local_paths = ['ERA5_Ann_Max_Precip_County', 'ERA5_Daily_Precip_Processed_County', 'ERA5_Merged_Claims', 'ERA5_Processed_Claims.csv']\n",
    "remove_flags = [True, True, False, False]  # Specify which items to remove after upload\n",
    "\n",
    "push_to_cloud_and_conditional_remove(local_paths, remove_flags, bucket_name, target_folder)"
   ]
  },
  {
   "cell_type": "code",
   "execution_count": null,
   "id": "bfc4e8a8-c38d-4d6f-b894-9594667cbef2",
   "metadata": {},
   "outputs": [],
   "source": [
    "!rm -r ERA5_County_Precip_Local\n",
    "!rm -r NFIP_Claims_By_County\n",
    "# Note that we want to keep ERA5_Merged_Claims folder until all datasets are merged to the claims"
   ]
  },
  {
   "cell_type": "code",
   "execution_count": null,
   "id": "80b1b6fc-b078-42e6-be4e-6f8056adcc9a",
   "metadata": {},
   "outputs": [],
   "source": []
  }
 ],
 "metadata": {
  "kernelspec": {
   "display_name": "Python 3 (ipykernel)",
   "language": "python",
   "name": "python3"
  },
  "language_info": {
   "codemirror_mode": {
    "name": "ipython",
    "version": 3
   },
   "file_extension": ".py",
   "mimetype": "text/x-python",
   "name": "python",
   "nbconvert_exporter": "python",
   "pygments_lexer": "ipython3",
   "version": "3.12.11"
  }
 },
 "nbformat": 4,
 "nbformat_minor": 5
}
