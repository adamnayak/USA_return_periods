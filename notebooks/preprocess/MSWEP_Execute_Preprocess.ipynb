{
 "cells": [
  {
   "cell_type": "code",
   "execution_count": null,
   "id": "77b8a580-e576-4b05-ad50-5fc153158874",
   "metadata": {},
   "outputs": [],
   "source": [
    "import os\n",
    "import xarray as xr\n",
    "import geopandas as gpd\n",
    "import pandas as pd\n",
    "from datetime import datetime\n",
    "!pip install rasterstats\n",
    "from rasterstats import zonal_stats\n",
    "import numpy as np\n",
    "from shapely.geometry import Point, box\n",
    "from rasterio.features import geometry_mask\n",
    "import time\n",
    "import xarray as xr\n",
    "from shapely.geometry import mapping\n",
    "import rioxarray\n",
    "from scipy.stats import genextreme\n",
    "from concurrent.futures import ProcessPoolExecutor\n",
    "import gcsfs  # For interacting with Google Cloud Storage\n",
    "import tempfile\n",
    "import shutil\n",
    "from tempfile import TemporaryDirectory\n",
    "from google.cloud import storage\n",
    "import sys, pathlib\n",
    "from pathlib import Path\n",
    "sys.path.insert(0, \"src\")\n",
    "from MSWEP_Preprocess import *"
   ]
  },
  {
   "cell_type": "markdown",
   "id": "5f1af024-4b0c-40d8-a170-7874c9dcc23b",
   "metadata": {},
   "source": [
    "# Input Files"
   ]
  },
  {
   "cell_type": "code",
   "execution_count": null,
   "id": "737c0a44-6f8e-4a8c-bc11-114a17d8b6ef",
   "metadata": {},
   "outputs": [],
   "source": [
    "# Define your bucket and paths\n",
    "bucket = 'gs://leap-persistent/adamnayak/flood-insurance'\n",
    "county_shapefile = '../../Local_Data/Geospatial/tl_2019_us_county.shp'\n",
    "precipitation_nc_path = 'MSWEP/Daily_Annual/MSWEP_1979.nc'\n",
    "weights_output_path = 'MSWEP/MSWEP_county_pixel_weights.npy'"
   ]
  },
  {
   "cell_type": "markdown",
   "id": "b2d8323e-6a05-4d16-9298-9f4d390a5dac",
   "metadata": {},
   "source": [
    "# Calculate County Weights"
   ]
  },
  {
   "cell_type": "code",
   "execution_count": null,
   "id": "e1aecd37-88e3-4c8a-b197-7c7695d54ec3",
   "metadata": {
    "scrolled": true
   },
   "outputs": [],
   "source": [
    "# Call the function\n",
    "weights = calculate_pixel_weights_mSWEP(\n",
    "    county_shapefile=county_shapefile,\n",
    "    precipitation_nc_path=precipitation_nc_path,\n",
    "    output_path=weights_output_path,\n",
    "    gcs_bucket=bucket\n",
    ")"
   ]
  },
  {
   "cell_type": "markdown",
   "id": "05861ce9-4a3c-410f-b955-7f7fcba3f86f",
   "metadata": {},
   "source": [
    "# Aggregate Daily Precipitation"
   ]
  },
  {
   "cell_type": "code",
   "execution_count": null,
   "id": "71b2711c-42d3-4c22-9658-723ef5ce2053",
   "metadata": {},
   "outputs": [],
   "source": [
    "# Define your paths\n",
    "precipitation_dir = 'MSWEP/Daily_Annual/'\n",
    "output_dir = 'MSWEP/County_Daily_Precip_By_Year'"
   ]
  },
  {
   "cell_type": "code",
   "execution_count": null,
   "id": "d5e935c7-1214-4b6d-bcfb-36952283b885",
   "metadata": {
    "scrolled": true
   },
   "outputs": [],
   "source": [
    "# Call the function\n",
    "process_mSWEP_precipitation(\n",
    "    county_shapefile=county_shapefile,\n",
    "    precipitation_dir=precipitation_dir,\n",
    "    weights=weights,\n",
    "    output_dir=output_dir,\n",
    "    gcs_bucket=bucket\n",
    ")"
   ]
  },
  {
   "cell_type": "markdown",
   "id": "b351d31f-03e8-48e9-b593-f3704651a343",
   "metadata": {},
   "source": [
    "# Rechunk to County"
   ]
  },
  {
   "cell_type": "code",
   "execution_count": null,
   "id": "5e6df78c-ebc9-457b-9a06-9a35dcb1d2fc",
   "metadata": {},
   "outputs": [],
   "source": [
    "# Define GCS bucket and paths\n",
    "input_path = 'MSWEP/County_Daily_Precip_By_Year'\n",
    "output_path = 'MSWEP/County_Daily_Precip_By_County'\n",
    "\n",
    "# Define the range of years to process\n",
    "precip_years = range(1979, 2021)"
   ]
  },
  {
   "cell_type": "code",
   "execution_count": null,
   "id": "11aa7ee2-9f01-4aa2-8738-9b1a426aee98",
   "metadata": {
    "scrolled": true
   },
   "outputs": [],
   "source": [
    "rechunk_precipitation_data_by_county_gcs(precip_years, \n",
    "                                         input_path, \n",
    "                                         output_path, \n",
    "                                         bucket)"
   ]
  },
  {
   "cell_type": "markdown",
   "id": "a35b60a0-5569-4d9f-8bba-581d12f0603c",
   "metadata": {},
   "source": [
    "# Calculate County Precip Stats of Interest"
   ]
  },
  {
   "cell_type": "code",
   "execution_count": null,
   "id": "7fa5eaac-5b01-4795-bcc1-af92cfc38b2e",
   "metadata": {},
   "outputs": [],
   "source": [
    "bucket_name = 'leap-persistent'\n",
    "source_folder = 'adamnayak/flood-insurance/MSWEP/County_Daily_Precip_By_County'\n",
    "local_folder = 'MSWEP_County_Precip_Local'"
   ]
  },
  {
   "cell_type": "code",
   "execution_count": null,
   "id": "ff4a7fdd-acf5-499e-b987-3ee7fada0c21",
   "metadata": {},
   "outputs": [],
   "source": [
    "# Download data from GCS\n",
    "download_from_gcs(bucket_name, source_folder, local_folder)"
   ]
  },
  {
   "cell_type": "code",
   "execution_count": null,
   "id": "af107880-73e3-46e5-a3e3-2532e91b52db",
   "metadata": {
    "scrolled": true
   },
   "outputs": [],
   "source": [
    "# Process all precipitation data\n",
    "process_all_precipitation_data_mswep(local_folder)"
   ]
  },
  {
   "cell_type": "markdown",
   "id": "c7944245-e99e-449d-bbc9-f8466064696f",
   "metadata": {},
   "source": [
    "# Merge with ERA5 Processed Data"
   ]
  },
  {
   "cell_type": "code",
   "execution_count": null,
   "id": "5f1757f4-2195-4233-b0a3-a9108cf26960",
   "metadata": {},
   "outputs": [],
   "source": [
    "# Define folders for analysis\n",
    "claims_folder = 'ERA5_Merged_Claims'\n",
    "precip_folder = 'MSWEP_Daily_Precip_Processed_County'\n",
    "output_folder = 'MSWEP_ERA5_Merged_Claims'"
   ]
  },
  {
   "cell_type": "code",
   "execution_count": null,
   "id": "a938a965-c3f6-4d39-9d77-f7bf970d1f81",
   "metadata": {
    "scrolled": true
   },
   "outputs": [],
   "source": [
    "# Merge claims with precipitation data\n",
    "merge_claims_with_precip(claims_folder=claims_folder, \n",
    "                         precip_folder=precip_folder, \n",
    "                         output_folder=output_folder)"
   ]
  },
  {
   "cell_type": "markdown",
   "id": "36817bec-b1da-47f8-bcf2-c9d4a37be825",
   "metadata": {},
   "source": [
    "# Concatenate Claims with Precip"
   ]
  },
  {
   "cell_type": "code",
   "execution_count": null,
   "id": "7492e0c4-f2d4-4185-bca5-d911538a2069",
   "metadata": {},
   "outputs": [],
   "source": [
    "processed_path=\"MSWEP_ERA5_Merged_Claims\"\n",
    "output_file=\"MSWEP_ERA5_Processed_Claims.csv\""
   ]
  },
  {
   "cell_type": "code",
   "execution_count": null,
   "id": "8e7ef738-63d6-4419-b427-bc30a517a434",
   "metadata": {
    "scrolled": true
   },
   "outputs": [],
   "source": [
    "concatenate_processed_claims(output_file=output_file, \n",
    "                                 processed_path=processed_path)"
   ]
  },
  {
   "cell_type": "markdown",
   "id": "9f4679e4-6648-4909-8e0d-d5771a11dcf8",
   "metadata": {},
   "source": [
    "# Clean Up"
   ]
  },
  {
   "cell_type": "code",
   "execution_count": null,
   "id": "839b387c-e840-4129-a616-87f7c549564d",
   "metadata": {},
   "outputs": [],
   "source": [
    "# Define bucket and folder paths\n",
    "bucket_name = \"leap-persistent\"\n",
    "target_folder = \"adamnayak/flood-insurance/MSWEP\"  # Updated path"
   ]
  },
  {
   "cell_type": "code",
   "execution_count": null,
   "id": "3061abc1-5ab7-4a63-b753-75a5399a51f0",
   "metadata": {
    "scrolled": true
   },
   "outputs": [],
   "source": [
    "local_paths = ['MSWEP_Ann_Max_Precip_County', 'MSWEP_Daily_Precip_Processed_County', 'MSWEP_ERA5_Merged_Claims', 'MSWEP_ERA5_Processed_Claims.csv']\n",
    "remove_flags = [True, True, False, False]  # Specify which items to remove after upload\n",
    "\n",
    "push_to_cloud_and_conditional_remove(local_paths, remove_flags, bucket_name, target_folder)"
   ]
  },
  {
   "cell_type": "code",
   "execution_count": null,
   "id": "3bc873fd-578c-4168-b8af-5763e1afec61",
   "metadata": {},
   "outputs": [],
   "source": [
    "!rm -r MSWEP_County_Precip_Local\n",
    "!rm -r ERA5_Merged_Claims\n",
    "# Note that we want to keep MSWEP_ERA5_Merged_Claims folder until all datasets are merged to the claims"
   ]
  }
 ],
 "metadata": {
  "kernelspec": {
   "display_name": "Python 3 (ipykernel)",
   "language": "python",
   "name": "python3"
  },
  "language_info": {
   "codemirror_mode": {
    "name": "ipython",
    "version": 3
   },
   "file_extension": ".py",
   "mimetype": "text/x-python",
   "name": "python",
   "nbconvert_exporter": "python",
   "pygments_lexer": "ipython3",
   "version": "3.12.11"
  }
 },
 "nbformat": 4,
 "nbformat_minor": 5
}
