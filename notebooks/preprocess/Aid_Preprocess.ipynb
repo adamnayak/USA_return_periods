{
 "cells": [
  {
   "cell_type": "code",
   "execution_count": 1,
   "id": "edf45612-e0ab-445b-8584-cfeeb4a10b4d",
   "metadata": {},
   "outputs": [],
   "source": [
    "import pandas as pd\n",
    "import geopandas as gpd\n",
    "import numpy as np\n",
    "import matplotlib.pyplot as plt\n",
    "import seaborn as sns\n",
    "from scipy import stats\n",
    "import os\n",
    "import time  # To track the elapsed time\n",
    "import matplotlib.colors as mcolors\n",
    "import concurrent.futures\n",
    "import re\n",
    "import string\n",
    "from scipy.stats import linregress\n",
    "import matplotlib.patches as mpatches\n",
    "from statsmodels.formula.api import ols\n",
    "from statsmodels.stats.anova import anova_lm"
   ]
  },
  {
   "cell_type": "code",
   "execution_count": 2,
   "id": "ce07af14-8f87-4434-93e0-1f59b4f2885b",
   "metadata": {},
   "outputs": [],
   "source": [
    "# Function to standardize county names: lowercase and remove 'county', 'parish', and text in parentheses\n",
    "# Updated function to clean and standardize county names\n",
    "def clean_county_name(name):\n",
    "    # Convert to lowercase\n",
    "    name = name.lower()\n",
    "    # Remove 'county', 'parish', and any content within parentheses\n",
    "    name = re.sub(r'\\b(county|parish)\\b', '', name)\n",
    "    name = re.sub(r'\\(.*?\\)', '', name)\n",
    "    # Remove punctuation\n",
    "    name = name.translate(str.maketrans('', '', string.punctuation))\n",
    "    # Remove extra whitespace\n",
    "    name = name.strip()\n",
    "    name = re.sub(r'\\s+', ' ', name)  # Replace multiple spaces with a single space\n",
    "    return name"
   ]
  },
  {
   "cell_type": "markdown",
   "id": "ae8a9e37-279e-4e28-a6cb-f3c2c360af18",
   "metadata": {},
   "source": [
    "# FIPS Code Load"
   ]
  },
  {
   "cell_type": "code",
   "execution_count": 3,
   "id": "8f783dbb-f15d-4921-b27b-7e61179d24b8",
   "metadata": {},
   "outputs": [
    {
     "name": "stdout",
     "output_type": "stream",
     "text": [
      "\n",
      "Merged FIPS DataFrame:\n",
      "  countyCode     County Name State FIPS State Name\n",
      "0      01000         ALABAMA         01    ALABAMA\n",
      "1      01001  AUTAUGA COUNTY         01    ALABAMA\n",
      "2      01003  BALDWIN COUNTY         01    ALABAMA\n",
      "3      01005  BARBOUR COUNTY         01    ALABAMA\n",
      "4      01007     BIBB COUNTY         01    ALABAMA\n"
     ]
    }
   ],
   "source": [
    "# Read the file line by line\n",
    "with open('../Local_Data/fips_codes.txt', 'r') as file:\n",
    "    lines = file.readlines()\n",
    "\n",
    "# Step 1: Identify where state-level data starts and ends\n",
    "state_section_start = 0\n",
    "county_section_start = 0\n",
    "\n",
    "for i, line in enumerate(lines):\n",
    "    if \"state-level\" in line.lower():\n",
    "        state_section_start = i + 2  # State data starts after the \"state-level\" heading\n",
    "    if \"county-level\" in line.lower():\n",
    "        county_section_start = i + 2  # County data starts after the \"county-level\" heading\n",
    "        break\n",
    "\n",
    "# Manually create the dictionary mapping state FIPS codes to state names\n",
    "state_fips_dict = {\n",
    "    \"01\": \"ALABAMA\",\n",
    "    \"02\": \"ALASKA\",\n",
    "    \"04\": \"ARIZONA\",\n",
    "    \"05\": \"ARKANSAS\",\n",
    "    \"06\": \"CALIFORNIA\",\n",
    "    \"08\": \"COLORADO\",\n",
    "    \"09\": \"CONNECTICUT\",\n",
    "    \"10\": \"DELAWARE\",\n",
    "    \"11\": \"DISTRICT OF COLUMBIA\",\n",
    "    \"12\": \"FLORIDA\",\n",
    "    \"13\": \"GEORGIA\",\n",
    "    \"15\": \"HAWAII\",\n",
    "    \"16\": \"IDAHO\",\n",
    "    \"17\": \"ILLINOIS\",\n",
    "    \"18\": \"INDIANA\",\n",
    "    \"19\": \"IOWA\",\n",
    "    \"20\": \"KANSAS\",\n",
    "    \"21\": \"KENTUCKY\",\n",
    "    \"22\": \"LOUISIANA\",\n",
    "    \"23\": \"MAINE\",\n",
    "    \"24\": \"MARYLAND\",\n",
    "    \"25\": \"MASSACHUSETTS\",\n",
    "    \"26\": \"MICHIGAN\",\n",
    "    \"27\": \"MINNESOTA\",\n",
    "    \"28\": \"MISSISSIPPI\",\n",
    "    \"29\": \"MISSOURI\",\n",
    "    \"30\": \"MONTANA\",\n",
    "    \"31\": \"NEBRASKA\",\n",
    "    \"32\": \"NEVADA\",\n",
    "    \"33\": \"NEW HAMPSHIRE\",\n",
    "    \"34\": \"NEW JERSEY\",\n",
    "    \"35\": \"NEW MEXICO\",\n",
    "    \"36\": \"NEW YORK\",\n",
    "    \"37\": \"NORTH CAROLINA\",\n",
    "    \"38\": \"NORTH DAKOTA\",\n",
    "    \"39\": \"OHIO\",\n",
    "    \"40\": \"OKLAHOMA\",\n",
    "    \"41\": \"OREGON\",\n",
    "    \"42\": \"PENNSYLVANIA\",\n",
    "    \"44\": \"RHODE ISLAND\",\n",
    "    \"45\": \"SOUTH CAROLINA\",\n",
    "    \"46\": \"SOUTH DAKOTA\",\n",
    "    \"47\": \"TENNESSEE\",\n",
    "    \"48\": \"TEXAS\",\n",
    "    \"49\": \"UTAH\",\n",
    "    \"50\": \"VERMONT\",\n",
    "    \"51\": \"VIRGINIA\",\n",
    "    \"53\": \"WASHINGTON\",\n",
    "    \"54\": \"WEST VIRGINIA\",\n",
    "    \"55\": \"WISCONSIN\",\n",
    "    \"56\": \"WYOMING\"\n",
    "}\n",
    "\n",
    "# Convert the dictionary to a DataFrame for easy merging\n",
    "state_df = pd.DataFrame(list(state_fips_dict.items()), columns=['State FIPS', 'State Name'])\n",
    "\n",
    "# Step 1: Split the data into sections\n",
    "state_section_start = 0\n",
    "county_section_start = 0\n",
    "\n",
    "for i, line in enumerate(lines):\n",
    "    if \"state-level\" in line.lower():\n",
    "        state_section_start = i + 2  # Skip the header lines\n",
    "    if \"county-level\" in line.lower():\n",
    "        county_section_start = i + 2  # Skip the header lines\n",
    "        break\n",
    "\n",
    "state_lines = lines[state_section_start:county_section_start-2]  # State data lines\n",
    "county_lines = lines[county_section_start:]  # County data line\n",
    "\n",
    "# Step 3: Parse county data\n",
    "county_fips = []\n",
    "county_name = []\n",
    "\n",
    "for line in county_lines:\n",
    "    line = line.strip()\n",
    "    if len(line) > 12 and line[:5].isdigit():\n",
    "        county_fips_code = line[:5].strip()\n",
    "        county_fips_name = line[12:].strip()\n",
    "        county_fips.append(county_fips_code)\n",
    "        county_name.append(county_fips_name)\n",
    "\n",
    "county_df = pd.DataFrame({\n",
    "    'countyCode': county_fips,\n",
    "    'County Name': county_name\n",
    "})\n",
    "\n",
    "county_df['State FIPS'] = county_df['countyCode'].str[:2]  # Extract state FIPS from the countyCode\n",
    "\n",
    "# Assuming county_df is already created and correctly populated:\n",
    "fips_df = county_df.merge(state_df, on='State FIPS')\n",
    "fips_df['County Name'] = fips_df['County Name'].str.upper()\n",
    "\n",
    "# Final output\n",
    "print(\"\\nMerged FIPS DataFrame:\")\n",
    "print(fips_df.head())"
   ]
  },
  {
   "cell_type": "markdown",
   "id": "3683aa6a-e7d8-41f8-b93f-49adc6d450a5",
   "metadata": {},
   "source": [
    "# Load Aid Data"
   ]
  },
  {
   "cell_type": "code",
   "execution_count": 4,
   "id": "86e392d5-708e-4672-acb0-450cf11c91b6",
   "metadata": {},
   "outputs": [
    {
     "name": "stderr",
     "output_type": "stream",
     "text": [
      "/tmp/ipykernel_2875/2368396277.py:1: DtypeWarning: Columns (4) have mixed types. Specify dtype option on import or set low_memory=False.\n",
      "  HA_owners = pd.read_csv('../Game/FEMA_Disaster_Asst_Data/HousingAssistanceOwners.csv')\n",
      "/tmp/ipykernel_2875/2368396277.py:2: DtypeWarning: Columns (4) have mixed types. Specify dtype option on import or set low_memory=False.\n",
      "  HA_renters = pd.read_csv('../Game/FEMA_Disaster_Asst_Data/HousingAssistanceRenters.csv')\n"
     ]
    }
   ],
   "source": [
    "HA_owners = pd.read_csv('../Local_Data/FEMA_Disaster_Asst_Data/HousingAssistanceOwners.csv')\n",
    "HA_renters = pd.read_csv('../Local_Data/FEMA_Disaster_Asst_Data/HousingAssistanceRenters.csv')"
   ]
  },
  {
   "cell_type": "code",
   "execution_count": 5,
   "id": "114ea4a7-8210-48ae-a2c1-90b5bfd8536b",
   "metadata": {},
   "outputs": [
    {
     "name": "stdout",
     "output_type": "stream",
     "text": [
      "\n",
      "Non-matching County-State Pairs within 50 US States:\n",
      "{('AK', 'fairbanks north star'), ('VA', 'staunton'), ('CT', 'new haven msa 116054808880'), ('NH', 'rockingham msa 416047606450'), ('NC', 'eastern band of cherokee indians'), ('VA', 'alexandria'), ('VA', 'harrisonburg'), ('VA', 'radford'), ('PA', 'mckean'), ('GA', 'statewide'), ('IN', 'dekalb'), ('VA', 'virginia beach'), ('MD', 'wayside'), ('MT', 'blackfeet indian reservation'), ('VA', 'chesapeake'), ('VA', 'hampton'), ('VA', 'martinsville'), ('NM', 'mescalero tribe'), ('ND', 'standing rock sioux tribe of north south dakota'), ('AK', 'yukon koyukuk regional educational attendance area'), ('MD', 'prince georges'), ('IA', 'obrien'), ('GA', 'georgetown quitman'), ('AK', 'chignik lagoon'), ('VA', 'manassas'), ('CT', 'mohegan trust lands'), ('AK', 'yukon flats regional educational attendance area'), ('FL', 'brighton indian reservation'), ('VA', 'suffolk'), ('NH', 'hillsborough msa 456047605350'), ('VA', 'emporia'), ('AK', 'lower yukon regional educational attendance area'), ('AZ', 'salt river pimamaricopa indian community'), ('FL', 'big cypress indian reservation'), ('AK', 'matanuskasusitna'), ('VA', 'petersburg'), ('FL', 'tampa reservation'), ('WV', 'union mills'), ('VA', 'buena vista'), ('MD', 'queen annes'), ('VA', 'hopewell'), ('VA', 'norfolk'), ('IN', 'laporte'), ('WA', 'nooksack indian reservation'), ('CT', 'mashantucket pequot indian reservation'), ('SC', 'catawba indian nation'), ('FL', 'hollywood indian reservation'), ('AK', 'copper river regional educational attendance area'), ('WA', 'lummi indian reservation'), ('MT', 'fort peck indian reservation'), ('NE', 'santee indian reservation'), ('MD', 'alpine beach'), ('CT', 'litchfield msa 1170193032808880'), ('MD', 'st marys'), ('VA', 'danville'), ('VA', 'manassas park'), ('VA', 'salem'), ('VA', 'poquoson'), ('VA', 'falls church'), ('MT', 'fort belknap indian reservation'), ('VA', 'portsmouth'), ('MA', 'bristol msa 11201200248054006060'), ('VA', 'norton'), ('VA', 'colonial heights'), ('FL', 'fort pierce indian reservation'), ('SD', 'oglala sioux tribe of the pine ridge reservation'), ('VA', 'williamsburg'), ('VA', 'fredericksburg'), ('VA', 'waynesboro'), ('AK', 'bering strait regional educational attendance area'), ('NC', 'harley'), ('AK', 'kashunamiut regional educational attendance area'), ('FL', 'sorrento shores'), ('WA', 'quileute indian reservation'), ('MA', 'middlesex msa 112026004560'), ('VA', 'lynchburg'), ('AK', 'sealaska'), ('AK', 'lower kuskokwim regional educational attendance area'), ('RI', 'washington msa 55206480'), ('MA', 'plymouth msa 112012005400'), ('FL', 'miamidade'), ('AK', 'kuspuk regional educational attendance area'), ('ND', 'spirit lake reservation'), ('AK', 'kodiak island'), ('ND', 'turtle mountain indian reservation'), ('VA', 'newport news'), ('VA', 'bristol'), ('CT', 'middlesex msa 328050205480'), ('FL', 'immokalee indian reservation'), ('CT', 'new london msa 32805520'), ('AK', 'denali'), ('AK', 'anchorage'), ('SD', 'oglala lakota'), ('CA', 'hoopa valley indian reservation'), ('WA', 'sauksuiattle indian reservation'), ('VA', 'charlottesville'), ('VA', 'galax'), ('AK', 'yupiit regional educational attendance area'), ('AK', 'alaska gateway regional educational attendance area'), ('VA', 'winchester'), ('AK', 'kenai peninsula'), ('MA', 'worcester msa 112026009240'), ('NC', 'alliance'), ('CO', 'broomfield'), ('NC', 'statewide'), ('AK', 'kusilvak census area')}\n",
      "\n",
      "Non-matching County-State Pairs within 50 US States:\n",
      "{('AL', 'mobile'), ('VA', 'staunton'), ('MN', 'benton'), ('PA', 'northumberland'), ('IN', 'perry'), ('AK', 'northwest arctic'), ('TX', 'jasper'), ('TX', 'fort bend'), ('MO', 'stoddard'), ('MS', 'montgomery'), ('MI', 'wayne'), ('TX', 'armstrong'), ('GA', 'charlton'), ('KS', 'ford'), ('AL', 'dekalb'), ('LA', 'st charles'), ('OK', 'ottawa'), ('OH', 'trumbull'), ('ND', 'mountrail'), ('WI', 'outagamie'), ('AR', 'benton'), ('PA', 'clearfield'), ('WI', 'forest'), ('IA', 'howard'), ('TN', 'overton'), ('PA', 'monroe'), ('UT', 'wayne'), ('LA', 'evangeline'), ('PA', 'york'), ('MA', 'suffolk'), ('TX', 'bee'), ('WV', 'mercer'), ('MS', 'newton'), ('TX', 'montgomery'), ('KY', 'simpson'), ('WA', 'columbia'), ('TX', 'chambers'), ('AR', 'ashley'), ('MT', 'deer lodge'), ('TX', 'nacogdoches'), ('GA', 'montgomery'), ('OR', 'yamhill'), ('OH', 'montgomery'), ('NV', 'churchill'), ('MS', 'choctaw'), ('MT', 'glacier'), ('AL', 'winston'), ('AR', 'white'), ('GA', 'glascock'), ('GA', 'worth'), ('ND', 'kidder'), ('WI', 'fond du lac'), ('LA', 'winn'), ('IL', 'winnebago'), ('MI', 'chippewa'), ('NY', 'wyoming'), ('TN', 'campbell'), ('NY', 'washington'), ('AL', 'sumter'), ('MD', 'harford'), ('OK', 'osage'), ('CA', 'contra costa'), ('NH', 'belknap'), ('AL', 'wilcox'), ('TN', 'bledsoe'), ('OH', 'crawford'), ('KY', 'whitley'), ('TX', 'motley'), ('FL', 'palm beach'), ('NC', 'catawba'), ('TN', 'dekalb'), ('TX', 'waller'), ('KY', 'floyd'), ('ME', 'hancock'), ('CA', 'stanislaus'), ('KY', 'breathitt'), ('PA', 'allegheny'), ('OH', 'cuyahoga'), ('NY', 'new york'), ('TN', 'benton'), ('WA', 'mason'), ('AL', 'autauga'), ('NC', 'person'), ('AR', 'stone'), ('MO', 'oregon'), ('SD', 'miner'), ('NY', 'columbia'), ('GA', 'emanuel'), ('AL', 'lawrence'), ('ME', 'aroostook'), ('FL', 'bay'), ('VA', 'shenandoah'), ('OK', 'muskogee'), ('AL', 'montgomery'), ('KS', 'decatur'), ('CA', 'lassen'), ('TX', 'matagorda'), ('MO', 'wayne'), ('IN', 'starke'), ('WA', 'king'), ('VA', 'wythe'), ('VT', 'chittenden'), ('WY', 'campbell'), ('OK', 'canadian'), ('MO', 'howard'), ('GA', 'richmond'), ('IL', 'williamson'), ('NY', 'schenectady'), ('ND', 'morton'), ('IL', 'ford'), ('TX', 'jefferson'), ('CA', 'riverside'), ('TX', 'hardin'), ('IL', 'montgomery'), ('GA', 'colquitt'), ('VT', 'addison'), ('SC', 'laurens'), ('NY', 'schoharie'), ('NM', 'grant'), ('NV', 'mineral'), ('WI', 'winnebago'), ('GA', 'harris'), ('TX', 'galveston'), ('AL', 'choctaw'), ('NC', 'randolph'), ('KS', 'morton'), ('MO', 'st charles'), ('KS', 'wilson'), ('TX', 'hardeman'), ('VA', 'newport news'), ('WA', 'benton'), ('TN', 'williamson'), ('WV', 'wirt'), ('CT', 'new london msa 32805520'), ('CO', 'custer'), ('FL', 'seminole'), ('NE', 'cedar'), ('FL', 'wakulla'), ('WV', 'summers'), ('IN', 'benton'), ('TX', 'houston'), ('TX', 'cameron'), ('NE', 'sheridan'), ('AL', 'coffee'), ('KY', 'hart'), ('FL', 'nassau'), ('MI', 'benzie'), ('FL', 'dixie'), ('AL', 'elmore'), ('CO', 'chaffee'), ('MT', 'custer'), ('IL', 'massac'), ('FL', 'glades'), ('SD', 'bennett'), ('FL', 'clay'), ('MA', 'worcester msa 112026009240'), ('AL', 'monroe'), ('OR', 'washington'), ('KS', 'stevens'), ('VA', 'bedford'), ('NC', 'stokes'), ('MO', 'montgomery'), ('OK', 'murray'), ('VA', 'charlotte'), ('AR', 'st francis'), ('OK', 'payne'), ('MS', 'lauderdale'), ('VT', 'grand isle'), ('MI', 'oscoda'), ('NJ', 'camden'), ('CT', 'new haven msa 116054808880'), ('GA', 'bacon'), ('PA', 'cambria'), ('OH', 'summit'), ('VA', 'northumberland'), ('OH', 'ashland'), ('TX', 'howard'), ('MN', 'chisago'), ('GA', 'stewart'), ('AL', 'walker'), ('OR', 'columbia'), ('MS', 'forrest'), ('GA', 'camden'), ('CO', 'montezuma'), ('KY', 'spencer'), ('MO', 'newton'), ('TX', 'callahan'), ('GA', 'muscogee'), ('WI', 'lincoln'), ('MD', 'cecil'), ('AL', 'houston'), ('WV', 'wyoming'), ('TX', 'starr'), ('NY', 'queens'), ('AL', 'shelby'), ('NC', 'montgomery'), ('SC', 'hampton'), ('KS', 'ottawa'), ('IA', 'sioux'), ('MI', 'st clair'), ('AL', 'st clair'), ('LA', 'st bernard'), ('WA', 'yakima'), ('NC', 'harnett'), ('TX', 'jim hogg'), ('OK', 'custer'), ('NY', 'suffolk'), ('NC', 'lenoir'), ('KY', 'christian'), ('VA', 'halifax'), ('WV', 'calhoun'), ('FL', 'okeechobee'), ('IN', 'spencer'), ('OR', 'morrow'), ('MI', 'charlevoix'), ('MN', 'mower'), ('IL', 'mercer'), ('ND', 'ramsey'), ('PA', 'wyoming'), ('MO', 'ste genevieve'), ('SC', 'edgefield'), ('WY', 'sheridan'), ('NC', 'wake'), ('SC', 'charleston'), ('LA', 'east baton rouge'), ('IL', 'cook'), ('NE', 'nance'), ('TX', 'williamson'), ('LA', 'st james'), ('WA', 'snohomish'), ('NE', 'sherman'), ('GA', 'wilcox'), ('NY', 'montgomery'), ('KY', 'laurel'), ('MO', 'jefferson'), ('IA', 'chickasaw'), ('NY', 'otsego'), ('MA', 'essex'), ('WI', 'marathon'), ('PA', 'forest'), ('AL', 'chilton'), ('KS', 'sedgwick'), ('NC', 'chowan'), ('AL', 'lauderdale'), ('LA', 'assumption'), ('CO', 'otero'), ('PA', 'columbia'), ('NC', 'nash'), ('FL', 'broward'), ('LA', 'rapides'), ('WV', 'mason'), ('MN', 'chippewa'), ('PA', 'somerset'), ('TX', 'johnson'), ('WI', 'jefferson'), ('LA', 'jefferson davis'), ('AZ', 'maricopa'), ('TX', 'bexar'), ('IA', 'benton'), ('KY', 'mason'), ('FL', 'st johns'), ('WV', 'lewis'), ('MI', 'macomb'), ('TX', 'stephens'), ('MS', 'lee'), ('TN', 'madison'), ('TX', 'newton'), ('MI', 'ottawa'), ('PA', 'centre'), ('WV', 'mineral'), ('FL', 'brevard'), ('OR', 'benton'), ('WA', 'jefferson'), ('GA', 'stephens'), ('OR', 'curry'), ('MO', 'mercer'), ('OH', 'pike'), ('FL', 'charlotte'), ('LA', 'terrebonne'), ('GA', 'newton'), ('TN', 'wayne'), ('OH', 'defiance'), ('CA', 'santa clara'), ('FL', 'lee'), ('VA', 'new kent'), ('OK', 'cleveland'), ('OK', 'oklahoma'), ('ND', 'spirit lake reservation'), ('AR', 'lawrence'), ('AZ', 'coconino'), ('AR', 'montgomery'), ('FL', 'orange'), ('TX', 'san jacinto'), ('KS', 'sheridan'), ('KY', 'campbell'), ('GA', 'wilkes'), ('PA', 'berks'), ('VA', 'tazewell'), ('CA', 'tulare'), ('MO', 'camden'), ('TX', 'winkler'), ('GA', 'forsyth'), ('NM', 'curry'), ('OH', 'brown'), ('TX', 'camp'), ('NY', 'erie'), ('CO', 'clear creek'), ('SC', 'greenville'), ('IA', 'winneshiek'), ('GA', 'coffee'), ('WV', 'harrison'), ('NE', 'kimball'), ('GA', 'catoosa'), ('GA', 'ben hill'), ('IN', 'marion'), ('NC', 'haywood'), ('PA', 'westmoreland'), ('TX', 'harris'), ('MA', 'nantucket'), ('NC', 'yadkin'), ('MS', 'simpson'), ('LA', 'st john the baptist'), ('FL', 'columbia'), ('NJ', 'atlantic'), ('KS', 'stafford'), ('LA', 'bienville'), ('IA', 'clayton'), ('GA', 'decatur'), ('CO', 'summit'), ('IL', 'moultrie'), ('NC', 'edgecombe'), ('KY', 'greenup'), ('PA', 'cumberland'), ('NC', 'wayne'), ('TX', 'kimble'), ('MN', 'beltrami'), ('IL', 'knox'), ('NC', 'camden'), ('TX', 'walker'), ('WI', 'calumet'), ('GA', 'columbia'), ('SD', 'marshall'), ('WI', 'milwaukee'), ('MN', 'stearns'), ('NM', 'sierra'), ('MO', 'butler'), ('GA', 'habersham'), ('CT', 'hartford'), ('MI', 'gladwin'), ('MD', 'howard'), ('NJ', 'mercer'), ('IN', 'howard'), ('MT', 'stillwater'), ('MN', 'anoka'), ('TX', 'shelby'), ('VA', 'hampton'), ('MS', 'rankin'), ('MT', 'silver bow'), ('TX', 'wilson'), ('AL', 'washington'), ('NY', 'nassau'), ('WI', 'chippewa'), ('TN', 'johnson'), ('IA', 'cedar'), ('CA', 'san francisco'), ('IL', 'perry'), ('MN', 'sibley'), ('LA', 'orleans'), ('MD', 'anne arundel'), ('NM', 'mescalero tribe'), ('WI', 'st croix'), ('TX', 'bell'), ('NC', 'currituck'), ('SD', 'stanley'), ('TX', 'anderson'), ('VT', 'bennington'), ('NY', 'wayne'), ('NJ', 'morris'), ('NC', 'perquimans'), ('TX', 'denton'), ('NE', 'douglas'), ('LA', 'franklin'), ('FL', 'leon'), ('AL', 'talladega'), ('SC', 'barnwell'), ('IA', 'muscatine'), ('PA', 'armstrong'), ('OH', 'morrow'), ('KY', 'lawrence'), ('SC', 'aiken'), ('MN', 'aitkin'), ('WV', 'lincoln'), ('KY', 'montgomery'), ('CA', 'monterey'), ('KY', 'calloway'), ('GA', 'bleckley'), ('OH', 'stark'), ('FL', 'big cypress indian reservation'), ('MS', 'pearl river'), ('IL', 'vermilion'), ('TN', 'bedford'), ('KS', 'sherman'), ('IL', 'christian'), ('MS', 'claiborne'), ('AR', 'arkansas'), ('SD', 'codington'), ('OR', 'multnomah'), ('FL', 'tampa reservation'), ('MS', 'benton'), ('LA', 'ouachita'), ('MI', 'montcalm'), ('ID', 'shoshone'), ('WY', 'johnson'), ('GA', 'laurens'), ('MO', 'osage'), ('PA', 'montgomery'), ('WY', 'lincoln'), ('FL', 'indian river'), ('PA', 'northampton'), ('SC', 'catawba indian nation'), ('NY', 'oswego'), ('SC', 'berkeley'), ('LA', 'tangipahoa'), ('MI', 'mason'), ('MD', 'montgomery'), ('IN', 'lawrence'), ('FL', 'escambia'), ('MD', 'st marys'), ('FL', 'collier'), ('NC', 'henderson'), ('IN', 'montgomery'), ('NE', 'stanton'), ('GA', 'peach'), ('MT', 'musselshell'), ('IN', 'johnson'), ('TN', 'decatur'), ('TX', 'somervell'), ('FL', 'volusia'), ('MN', 'stevens'), ('NY', 'dutchess'), ('MO', 'new madrid'), ('NE', 'merrick'), ('OH', 'ashtabula'), ('CO', 'boulder'), ('TX', 'smith'), ('WA', 'spokane'), ('AR', 'howard'), ('VA', 'stafford'), ('VA', 'greensville'), ('IL', 'st clair'), ('IN', 'newton'), ('MO', 'washington'), ('MO', 'cedar'), ('OH', 'ottawa'), ('MN', 'morrison'), ('MO', 'christian'), ('CA', 'san diego'), ('SC', 'williamsburg'), ('MS', 'yalobusha'), ('MD', 'calvert'), ('WV', 'jefferson'), ('NE', 'wayne'), ('NE', 'custer'), ('NC', 'wilkes'), ('IL', 'stark'), ('GA', 'liberty'), ('MS', 'stone'), ('NE', 'howard'), ('NC', 'forsyth'), ('OK', 'latimer'), ('TX', 'sterling'), ('KY', 'jefferson'), ('NC', 'stanly'), ('TX', 'foard'), ('TN', 'shelby'), ('NC', 'orange'), ('TN', 'wilson'), ('KS', 'montgomery'), ('MO', 'st francois'), ('LA', 'statewide'), ('NC', 'ashe'), ('WV', 'mingo'), ('MO', 'ralls'), ('WV', 'gilmer'), ('VA', 'floyd'), ('TX', 'lavaca'), ('WI', 'columbia'), ('NC', 'transylvania'), ('OH', 'athens'), ('MN', 'winona'), ('SC', 'georgetown'), ('OH', 'belmont'), ('NE', 'otoe'), ('FL', 'citrus'), ('IA', 'winnebago'), ('MI', 'shiawassee'), ('CA', 'solano'), ('FL', 'polk'), ('WV', 'raleigh'), ('TN', 'stewart'), ('IA', 'linn'), ('ME', 'cumberland'), ('SC', 'lexington'), ('IN', 'decatur'), ('TX', 'polk'), ('MO', 'st clair'), ('VA', 'campbell'), ('MS', 'wilkinson'), ('MI', 'osceola'), ('NC', 'johnston'), ('CA', 'napa'), ('KY', 'mercer'), ('MI', 'muskegon'), ('IA', 'osceola'), ('TN', 'sullivan'), ('FL', 'st lucie'), ('GA', 'polk'), ('NY', 'orange'), ('MN', 'ramsey'), ('NE', 'chase'), ('KY', 'bell'), ('MT', 'sheridan'), ('OK', 'stephens'), ('WV', 'wayne'), ('OR', 'clackamas'), ('PA', 'cameron'), ('TN', 'lauderdale'), ('AR', 'carroll'), ('NE', 'frontier'), ('IA', 'cerro gordo'), ('MN', 'otter tail'), ('NY', 'cayuga'), ('MN', 'sherburne'), ('VA', 'arlington'), ('AZ', 'pima'), ('ID', 'owyhee'), ('WI', 'ashland'), ('NJ', 'middlesex'), ('NC', 'wilson'), ('NY', 'monroe'), ('LA', 'st tammany'), ('NH', 'merrimack'), ('FL', 'calhoun'), ('GA', 'wilkinson'), ('IN', 'steuben'), ('LA', 'west feliciana'), ('AL', 'etowah'), ('TX', 'glasscock'), ('FL', 'pasco'), ('ND', 'standing rock sioux tribe of north south dakota'), ('NC', 'new hanover'), ('TX', 'calhoun'), ('TX', 'hays'), ('IA', 'montgomery'), ('MI', 'otsego'), ('LA', 'pointe coupee'), ('NJ', 'somerset'), ('CA', 'los angeles'), ('PA', 'wayne'), ('TX', 'childress'), ('MN', 'wilkin'), ('ID', 'latah'), ('GA', 'meriwether'), ('ND', 'stark'), ('AL', 'chambers'), ('MS', 'george'), ('AL', 'jackson'), ('LA', 'st mary'), ('MO', 'benton'), ('FL', 'pinellas'), ('OK', 'harper'), ('CO', 'mineral'), ('IL', 'stephenson'), ('WA', 'stevens'), ('TN', 'hamilton'), ('SD', 'custer'), ('NY', 'steuben'), ('AR', 'washington'), ('WI', 'sauk'), ('NC', 'yancey'), ('NH', 'grafton'), ('AL', 'hale'), ('CA', 'merced'), ('KS', 'stanton'), ('OH', 'muskingum'), ('MT', 'mineral'), ('OK', 'johnston'), ('LA', 'jefferson'), ('VA', 'spotsylvania'), ('OH', 'williams'), ('SD', 'spink'), ('VA', 'northampton'), ('ND', 'steele'), ('OH', 'tuscarawas'), ('VA', 'bland'), ('LA', 'st helena'), ('MS', 'marshall'), ('MT', 'fort belknap indian reservation'), ('AR', 'columbia'), ('GA', 'lanier'), ('OK', 'cimarron'), ('TX', 'morris'), ('FL', 'marion'), ('CT', 'windham'), ('GA', 'chatham'), ('CO', 'gilpin'), ('IN', 'lake'), ('OK', 'tulsa'), ('GA', 'murray'), ('TX', 'floyd'), ('MS', 'wayne'), ('IL', 'whiteside'), ('VA', 'williamsburg'), ('KY', 'johnson'), ('ID', 'benewah'), ('FL', 'alachua'), ('LA', 'ascension'), ('OK', 'major'), ('AL', 'tuscaloosa'), ('CO', 'adams'), ('MO', 'stone'), ('IA', 'decatur'), ('LA', 'cameron'), ('CO', 'mesa'), ('MS', 'harrison'), ('WV', 'tucker'), ('MD', 'allegany'), ('AL', 'jefferson'), ('ME', 'somerset'), ('TX', 'angelina'), ('FL', 'sarasota'), ('TX', 'wise'), ('TX', 'blanco'), ('MN', 'murray'), ('ND', 'benson'), ('LA', 'calcasieu'), ('CA', 'santa barbara'), ('TX', 'sherman'), ('NM', 'otero'), ('FL', 'miamidade'), ('MS', 'adams'), ('PA', 'montour'), ('CA', 'san bernardino'), ('VT', 'windsor'), ('OK', 'grady'), ('IL', 'douglas'), ('GA', 'fulton'), ('TX', 'refugio'), ('TX', 'brazoria'), ('KY', 'perry'), ('MS', 'winston'), ('GA', 'dekalb'), ('OH', 'wayne'), ('AR', 'ouachita'), ('GA', 'atkinson'), ('CO', 'bent'), ('SC', 'orangeburg'), ('NJ', 'bergen'), ('CA', 'sonoma'), ('VA', 'charlottesville'), ('NY', 'allegany'), ('FL', 'osceola'), ('VA', 'winchester'), ('AL', 'marion'), ('TX', 'liberty'), ('SD', 'yankton'), ('PA', 'bedford'), ('MO', 'callaway'), ('VT', 'windham'), ('FL', 'statewide'), ('VA', 'fluvanna'), ('MN', 'steele'), ('CO', 'larimer')}\n"
     ]
    },
    {
     "name": "stderr",
     "output_type": "stream",
     "text": [
      "/tmp/ipykernel_2875/2528830118.py:57: UserWarning: Boolean Series key will be reindexed to match DataFrame index.\n",
      "  matches = HA_renters_merged[HA_owners_merged['_merge'] == 'both']\n",
      "/tmp/ipykernel_2875/2528830118.py:58: UserWarning: Boolean Series key will be reindexed to match DataFrame index.\n",
      "  non_matches = HA_renters_merged[HA_owners_merged['_merge'] != 'both']\n"
     ]
    }
   ],
   "source": [
    "# Full mapping of state abbreviations to names\n",
    "state_abbr_to_name = {\n",
    "    \"AL\": \"ALABAMA\", \"AK\": \"ALASKA\", \"AZ\": \"ARIZONA\", \"AR\": \"ARKANSAS\", \"CA\": \"CALIFORNIA\",\n",
    "    \"CO\": \"COLORADO\", \"CT\": \"CONNECTICUT\", \"DE\": \"DELAWARE\", \"FL\": \"FLORIDA\", \"GA\": \"GEORGIA\",\n",
    "    \"HI\": \"HAWAII\", \"ID\": \"IDAHO\", \"IL\": \"ILLINOIS\", \"IN\": \"INDIANA\", \"IA\": \"IOWA\",\n",
    "    \"KS\": \"KANSAS\", \"KY\": \"KENTUCKY\", \"LA\": \"LOUISIANA\", \"ME\": \"MAINE\", \"MD\": \"MARYLAND\",\n",
    "    \"MA\": \"MASSACHUSETTS\", \"MI\": \"MICHIGAN\", \"MN\": \"MINNESOTA\", \"MS\": \"MISSISSIPPI\",\n",
    "    \"MO\": \"MISSOURI\", \"MT\": \"MONTANA\", \"NE\": \"NEBRASKA\", \"NV\": \"NEVADA\", \"NH\": \"NEW HAMPSHIRE\",\n",
    "    \"NJ\": \"NEW JERSEY\", \"NM\": \"NEW MEXICO\", \"NY\": \"NEW YORK\", \"NC\": \"NORTH CAROLINA\",\n",
    "    \"ND\": \"NORTH DAKOTA\", \"OH\": \"OHIO\", \"OK\": \"OKLAHOMA\", \"OR\": \"OREGON\", \"PA\": \"PENNSYLVANIA\",\n",
    "    \"RI\": \"RHODE ISLAND\", \"SC\": \"SOUTH CAROLINA\", \"SD\": \"SOUTH DAKOTA\", \"TN\": \"TENNESSEE\",\n",
    "    \"TX\": \"TEXAS\", \"UT\": \"UTAH\", \"VT\": \"VERMONT\", \"VA\": \"VIRGINIA\", \"WA\": \"WASHINGTON\",\n",
    "    \"WV\": \"WEST VIRGINIA\", \"WI\": \"WISCONSIN\", \"WY\": \"WYOMING\"\n",
    "}\n",
    "\n",
    "# Map state abbreviations to full names in HA_owners\n",
    "HA_owners['State Name'] = HA_owners['state'].map(state_abbr_to_name)\n",
    "HA_renters['State Name'] = HA_renters['state'].map(state_abbr_to_name)\n",
    "\n",
    "# Apply cleaning to county columns in both dataframes\n",
    "fips_df['County Name'] = fips_df['County Name'].apply(clean_county_name)\n",
    "HA_owners['county'] = HA_owners['county'].apply(clean_county_name)\n",
    "HA_renters['county'] = HA_renters['county'].apply(clean_county_name)\n",
    "\n",
    "\n",
    "# Merge on cleaned 'County Name' and 'State Name' to find matches\n",
    "HA_owners_merged = HA_owners.merge(fips_df[['County Name', 'State Name']], \n",
    "                            left_on=['county', 'State Name'], \n",
    "                            right_on=['County Name', 'State Name'], \n",
    "                            how='outer', \n",
    "                            indicator=True)\n",
    "HA_renters_merged = HA_renters.merge(fips_df[['County Name', 'State Name']], \n",
    "                            left_on=['county', 'State Name'], \n",
    "                            right_on=['County Name', 'State Name'], \n",
    "                            how='outer', \n",
    "                            indicator=True)\n",
    "\n",
    "# Define a set of valid US state abbreviations (50 states only)\n",
    "us_states = {\n",
    "    \"AL\", \"AK\", \"AZ\", \"AR\", \"CA\", \"CO\", \"CT\", \"DE\", \"FL\", \"GA\", \"HI\", \"ID\", \"IL\", \"IN\", \"IA\", \"KS\", \"KY\", \"LA\", \"ME\",\n",
    "    \"MD\", \"MA\", \"MI\", \"MN\", \"MS\", \"MO\", \"MT\", \"NE\", \"NV\", \"NH\", \"NJ\", \"NM\", \"NY\", \"NC\", \"ND\", \"OH\", \"OK\", \"OR\", \"PA\",\n",
    "    \"RI\", \"SC\", \"SD\", \"TN\", \"TX\", \"UT\", \"VT\", \"VA\", \"WA\", \"WV\", \"WI\", \"WY\"\n",
    "}\n",
    "\n",
    "# Get matching and non-matching pairs\n",
    "matches = HA_owners_merged[HA_owners_merged['_merge'] == 'both']\n",
    "non_matches = HA_owners_merged[HA_owners_merged['_merge'] != 'both']\n",
    "\n",
    "# Filter matching and non-matching pairs to include only those within the 50 states\n",
    "matching_pairs = {pair for pair in zip(matches['state'], matches['county']) if pair[0] in us_states}\n",
    "non_matching_pairs = {pair for pair in zip(non_matches['state'].dropna(), non_matches['county'].dropna()) if pair[0] in us_states}\n",
    "\n",
    "print(\"\\nNon-matching County-State Pairs within 50 US States:\")\n",
    "print(non_matching_pairs)\n",
    "\n",
    "# Get matching and non-matching pairs\n",
    "matches = HA_renters_merged[HA_owners_merged['_merge'] == 'both']\n",
    "non_matches = HA_renters_merged[HA_owners_merged['_merge'] != 'both']\n",
    "\n",
    "# Filter matching and non-matching pairs to include only those within the 50 states\n",
    "matching_pairs = {pair for pair in zip(matches['state'], matches['county']) if pair[0] in us_states}\n",
    "non_matching_pairs = {pair for pair in zip(non_matches['state'].dropna(), non_matches['county'].dropna()) if pair[0] in us_states}\n",
    "\n",
    "print(\"\\nNon-matching County-State Pairs within 50 US States:\")\n",
    "print(non_matching_pairs)"
   ]
  },
  {
   "cell_type": "code",
   "execution_count": 6,
   "id": "0bcbb264-59c3-4c3e-b85b-aa0ae5deb2b3",
   "metadata": {},
   "outputs": [
    {
     "name": "stdout",
     "output_type": "stream",
     "text": [
      "Percentage of NA values in 'countyCode' after merging: 4.76%\n",
      "Percentage of NA values in 'countyCode' after merging: 5.06%\n"
     ]
    }
   ],
   "source": [
    "# Filter HA_owners to only include entries from the 50 U.S. states\n",
    "HA_owners_filtered = HA_owners[HA_owners['state'].isin(us_states)]\n",
    "\n",
    "# Filter HA_owners to only include entries from the 50 U.S. states\n",
    "HA_renters_filtered = HA_renters[HA_renters['state'].isin(us_states)]\n",
    "\n",
    "# Perform the merge to add 'countyCode' from fips_df to HA_owners\n",
    "HA_owners_with_code = HA_owners_filtered.merge(\n",
    "    fips_df[['countyCode', 'County Name', 'State Name']],\n",
    "    left_on=['county', 'State Name'],\n",
    "    right_on=['County Name', 'State Name'],\n",
    "    how='left'\n",
    ")\n",
    "\n",
    "# Perform the merge to add 'countyCode' from fips_df to HA_owners\n",
    "HA_renters_with_code = HA_renters_filtered.merge(\n",
    "    fips_df[['countyCode', 'County Name', 'State Name']],\n",
    "    left_on=['county', 'State Name'],\n",
    "    right_on=['County Name', 'State Name'],\n",
    "    how='left'\n",
    ")\n",
    "\n",
    "# Drop the extra 'County Name' column that came from the merge\n",
    "HA_owners_with_code = HA_owners_with_code.drop(columns=['County Name'])\n",
    "\n",
    "# Drop the extra 'County Name' column that came from the merge\n",
    "HA_renters_with_code = HA_renters_with_code.drop(columns=['County Name'])\n",
    "\n",
    "# Calculate the percentage of NaN values in the 'countyCode' column\n",
    "na_percentage = HA_owners_with_code['countyCode'].isna().mean() * 100\n",
    "\n",
    "# Print the percentage of NaN values\n",
    "print(f\"Percentage of NA values in 'countyCode' after merging: {na_percentage:.2f}%\")\n",
    "\n",
    "# Calculate the percentage of NaN values in the 'countyCode' column\n",
    "na_percentage = HA_renters_with_code['countyCode'].isna().mean() * 100\n",
    "\n",
    "# Print the percentage of NaN values\n",
    "print(f\"Percentage of NA values in 'countyCode' after merging: {na_percentage:.2f}%\")"
   ]
  },
  {
   "cell_type": "code",
   "execution_count": 7,
   "id": "048a9774-c449-4ce4-8498-237c2d01868c",
   "metadata": {},
   "outputs": [],
   "source": [
    "# Filtering out rows where 'countyCode' or 'disasterNumber' is NA\n",
    "owners_filtered_df = HA_owners_with_code.dropna(subset=['countyCode', 'disasterNumber'])\n",
    "\n",
    "# Aggregating the sum of 'approvedForFemaAssistance' by unique combinations of 'countyCode' and 'disasterNumber'\n",
    "owners_result_df = owners_filtered_df.groupby(['countyCode', 'disasterNumber'], as_index=False)[['approvedForFemaAssistance', 'totalApprovedIhpAmount']].sum()\n",
    "\n",
    "# Filtering out rows where 'countyCode' or 'disasterNumber' is NA\n",
    "renters_filtered_df = HA_renters_with_code.dropna(subset=['countyCode', 'disasterNumber'])\n",
    "\n",
    "# Aggregating the sum of 'approvedForFemaAssistance' by unique combinations of 'countyCode' and 'disasterNumber'\n",
    "renters_result_df = renters_filtered_df.groupby(['countyCode', 'disasterNumber'], as_index=False)[['approvedForFemaAssistance', 'totalApprovedIhpAmount']].sum()"
   ]
  },
  {
   "cell_type": "markdown",
   "id": "dd421ca5-8a83-4a3e-905f-0a6b800672c4",
   "metadata": {},
   "source": [
    "# Load Filtered Disasters"
   ]
  },
  {
   "cell_type": "code",
   "execution_count": 8,
   "id": "495bcdb5-0987-44f3-93ad-f9d7d329ebca",
   "metadata": {},
   "outputs": [],
   "source": [
    "disasters_df = pd.read_csv('final_filtered_disasters.csv')\n",
    "disasters_df['fullFIPS'] = disasters_df['fullFIPS'].astype(int).astype(str).str.zfill(5)"
   ]
  },
  {
   "cell_type": "code",
   "execution_count": 9,
   "id": "d1031101-9d6a-4f75-bcbd-af6078f4452b",
   "metadata": {},
   "outputs": [
    {
     "name": "stdout",
     "output_type": "stream",
     "text": [
      "owners Percentage of NA values in 'countyCode' after merging: 0.00%\n",
      "renters Percentage of NA values in 'countyCode' after merging: 0.00%\n"
     ]
    }
   ],
   "source": [
    "# Merging the result_df with disasters_df on 'countyCode' (from result_df) and 'fullFIPS' (from disasters_df),\n",
    "# and 'disasterNumber'\n",
    "owners_merged_df = disasters_df.merge(owners_result_df, left_on=['fullFIPS', 'disasterNumber'], \n",
    "                               right_on=['countyCode', 'disasterNumber'], how='left')\n",
    "\n",
    "# Dropping the duplicate 'countyCode' column after the merge as it duplicates 'fullFIPS'\n",
    "owners_merged_df = owners_merged_df.drop(columns=['countyCode'])\n",
    "\n",
    "# Merging the result_df with disasters_df on 'countyCode' (from result_df) and 'fullFIPS' (from disasters_df),\n",
    "# and 'disasterNumber'\n",
    "renters_merged_df = disasters_df.merge(renters_result_df, left_on=['fullFIPS', 'disasterNumber'], \n",
    "                               right_on=['countyCode', 'disasterNumber'], how='left')\n",
    "\n",
    "# Dropping the duplicate 'countyCode' column after the merge as it duplicates 'fullFIPS'\n",
    "renters_merged_df = renters_merged_df.drop(columns=['countyCode'])\n",
    "\n",
    "# Calculate the percentage of NaN values in the 'countyCode' column\n",
    "na_percentage = owners_merged_df['fullFIPS'].isna().mean() * 100\n",
    "\n",
    "# Print the percentage of NaN values\n",
    "print(f\"owners Percentage of NA values in 'countyCode' after merging: {na_percentage:.2f}%\")\n",
    "\n",
    "# Calculate the percentage of NaN values in the 'countyCode' column\n",
    "na_percentage = renters_merged_df['fullFIPS'].isna().mean() * 100\n",
    "\n",
    "# Print the percentage of NaN values\n",
    "print(f\"renters Percentage of NA values in 'countyCode' after merging: {na_percentage:.2f}%\")"
   ]
  },
  {
   "cell_type": "markdown",
   "id": "64d1d161-cc09-4a44-a3bc-b76d9aafa6d8",
   "metadata": {},
   "source": [
    "# Export Aid Data to CSV"
   ]
  },
  {
   "cell_type": "code",
   "execution_count": 10,
   "id": "c69dab51-c30e-4067-becb-43e41174fb5d",
   "metadata": {},
   "outputs": [],
   "source": [
    "owners_merged_df.to_csv(\"final_filtered_aid_owners.csv\")\n",
    "renters_merged_df.to_csv(\"final_filtered_aid_renters.csv\")"
   ]
  }
 ],
 "metadata": {
  "kernelspec": {
   "display_name": "Python 3 (ipykernel)",
   "language": "python",
   "name": "python3"
  },
  "language_info": {
   "codemirror_mode": {
    "name": "ipython",
    "version": 3
   },
   "file_extension": ".py",
   "mimetype": "text/x-python",
   "name": "python",
   "nbconvert_exporter": "python",
   "pygments_lexer": "ipython3",
   "version": "3.12.7"
  }
 },
 "nbformat": 4,
 "nbformat_minor": 5
}
