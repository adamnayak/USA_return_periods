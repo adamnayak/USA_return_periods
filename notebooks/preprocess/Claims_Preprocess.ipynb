{
 "cells": [
  {
   "cell_type": "code",
   "execution_count": 1,
   "id": "ec77b2a0-e5a2-49cb-9a48-e74123d28382",
   "metadata": {},
   "outputs": [],
   "source": [
    "import pandas as pd\n",
    "import numpy as np \n",
    "import matplotlib.pyplot as plt\n",
    "import geopandas as gpd\n",
    "import matplotlib.colors as mcolors\n",
    "import matplotlib as mpl\n",
    "import matplotlib.patches as mpatches\n",
    "from matplotlib.colors import LogNorm, Normalize\n",
    "from matplotlib.gridspec import GridSpec\n",
    "import seaborn as sns"
   ]
  },
  {
   "cell_type": "markdown",
   "id": "1bbaf693-a744-4b11-811c-a65ebb0efad7",
   "metadata": {},
   "source": [
    "# Load Claims File"
   ]
  },
  {
   "cell_type": "code",
   "execution_count": 2,
   "id": "0e9507f1-d92f-4a65-9cee-cc34b36666ff",
   "metadata": {},
   "outputs": [
    {
     "name": "stderr",
     "output_type": "stream",
     "text": [
      "/tmp/ipykernel_2800/931392303.py:3: DtypeWarning: Columns (7,32,35,38,42,51,52,61) have mixed types. Specify dtype option on import or set low_memory=False.\n",
      "  processed_claims_df = pd.read_csv(processed_claims_file)\n"
     ]
    }
   ],
   "source": [
    "# Load the combined Processed_Claims.csv file\n",
    "processed_claims_file = \"PRISM_MSWEP_ERA5_Processed_Claims.csv\"\n",
    "processed_claims_df = pd.read_csv(processed_claims_file)\n",
    "\n",
    "# Ensure that 'countyCode' is properly formatted as a 5-character string\n",
    "processed_claims_df['countyCode'] = processed_claims_df['countyCode'].astype(int).astype(str)\n",
    "processed_claims_df['countyCode'] = processed_claims_df['countyCode'].apply(lambda x: str(x).zfill(5))"
   ]
  },
  {
   "cell_type": "code",
   "execution_count": 3,
   "id": "3e00bc86-37d3-4e88-a410-50e8b4b8a0ee",
   "metadata": {},
   "outputs": [
    {
     "name": "stdout",
     "output_type": "stream",
     "text": [
      "2536258 unfiltered total claims records found\n"
     ]
    }
   ],
   "source": [
    "# Print number of unfiltered records\n",
    "print(f\"{len(processed_claims_df)} unfiltered total claims records found\")"
   ]
  },
  {
   "cell_type": "markdown",
   "id": "59457847-3e59-42a0-812b-2a0fb43b9717",
   "metadata": {},
   "source": [
    "# Filter Selection"
   ]
  },
  {
   "cell_type": "code",
   "execution_count": 4,
   "id": "13dffb42-7cb7-4db7-9507-a13707a248d7",
   "metadata": {},
   "outputs": [],
   "source": [
    "numClaims = True\n",
    "buildingDamage = True\n",
    "precipPresent = True\n",
    "monthlyMask = True\n",
    "percentileMask = True\n",
    "\n",
    "m = 1 # Filter out counties with less than m data points\n",
    "mon_thres = 0 # Filter out below mon_thres monthly precipitation values as erroneous\n",
    "perc_thres = 0 # Filter out below perc_thres th percentile values as erroneous for weekly precipitation"
   ]
  },
  {
   "cell_type": "markdown",
   "id": "1aa55d43-c003-4c64-a4f4-19f7c01592fe",
   "metadata": {},
   "source": [
    "# Filter"
   ]
  },
  {
   "cell_type": "code",
   "execution_count": 5,
   "id": "fd2e1579-2432-417c-88a5-574a47933dc6",
   "metadata": {},
   "outputs": [
    {
     "name": "stdout",
     "output_type": "stream",
     "text": [
      "Total counties filtered out: 0\n"
     ]
    }
   ],
   "source": [
    "if numClaims:\n",
    "    # Calculate the number of unique counties before filtering\n",
    "    total_counties_before = processed_claims_df['countyCode'].nunique()\n",
    "    county_counts = processed_claims_df['countyCode'].value_counts()\n",
    "    counties_with_enough_data = county_counts[county_counts >= m].index\n",
    "    filtered_claims_df = processed_claims_df[processed_claims_df['countyCode'].isin(counties_with_enough_data)]\n",
    "    \n",
    "    # Calculate the number of unique counties after filtering\n",
    "    total_counties_after = filtered_claims_df['countyCode'].nunique()\n",
    "    \n",
    "    # Calculate the number of counties that were filtered out\n",
    "    counties_filtered_out = total_counties_before - total_counties_after\n",
    "    \n",
    "    # Print the number of counties filtered out\n",
    "    print(f\"Total counties filtered out: {counties_filtered_out}\")"
   ]
  },
  {
   "cell_type": "code",
   "execution_count": 6,
   "id": "ae4d25f2-6ad7-42bb-b04c-c3ddc2383249",
   "metadata": {},
   "outputs": [
    {
     "name": "stdout",
     "output_type": "stream",
     "text": [
      "Counties where all values of PRISM precipitation are 0:\n",
      "0\n",
      "Counties where all values of ERA5 precipitation are 0:\n",
      "0\n",
      "Counties where all values of MSWEP precipitation are 0:\n",
      "0\n"
     ]
    }
   ],
   "source": [
    "if precipPresent:\n",
    "    # Group by countyCode and check if all values for precipitation_PRISM are 0\n",
    "    counties_with_all_zero_precip = processed_claims_df.groupby('countyCode').filter(\n",
    "        lambda x: (x['PRISM_mon_precipitation'] == 0).all())\n",
    "    \n",
    "    # Get the count of rows per county where all values are zero\n",
    "    county_counts = counties_with_all_zero_precip['countyCode'].value_counts()\n",
    "    \n",
    "    # Print the counties and their counts\n",
    "    print(\"Counties where all values of PRISM precipitation are 0:\")\n",
    "    for county, count in county_counts.items():\n",
    "        print(f\"{county}: {count}\")\n",
    "    print(len(county_counts))\n",
    "\n",
    "    # Get the unique county codes to mask out\n",
    "    counties_to_mask_out = counties_with_all_zero_precip['countyCode'].unique()\n",
    "    \n",
    "    # Mask out these counties from filtered_claims_df\n",
    "    filtered_claims_df = filtered_claims_df[~filtered_claims_df['countyCode'].isin(counties_to_mask_out)]\n",
    "    \n",
    "    # Group by countyCode and check if all values for precipitation_PRISM are 0\n",
    "    counties_with_all_zero_precip = processed_claims_df.groupby('countyCode').filter(\n",
    "        lambda x: (x['ERA5_precipitation_30d_sum'] == 0).all())\n",
    "    \n",
    "    # Get the count of rows per county where all values are zero\n",
    "    county_counts = counties_with_all_zero_precip['countyCode'].value_counts()\n",
    "    \n",
    "    # Print the counties and their counts\n",
    "    print(\"Counties where all values of ERA5 precipitation are 0:\")\n",
    "    for county, count in county_counts.items():\n",
    "        print(f\"{county}: {count}\")\n",
    "    print(len(county_counts))\n",
    "\n",
    "    # Get the unique county codes to mask out\n",
    "    counties_to_mask_out = counties_with_all_zero_precip['countyCode'].unique()\n",
    "    \n",
    "    # Mask out these counties from filtered_claims_df\n",
    "    filtered_claims_df = filtered_claims_df[~filtered_claims_df['countyCode'].isin(counties_to_mask_out)]\n",
    "\n",
    "    # Group by countyCode and check if all values for precipitation_PRISM are 0\n",
    "    counties_with_all_zero_precip = processed_claims_df.groupby('countyCode').filter(\n",
    "        lambda x: (x['MSWEP_precipitation_30d_sum'] == 0).all())\n",
    "    \n",
    "    # Get the count of rows per county where all values are zero\n",
    "    county_counts = counties_with_all_zero_precip['countyCode'].value_counts()\n",
    "    \n",
    "    # Print the counties and their counts\n",
    "    print(\"Counties where all values of MSWEP precipitation are 0:\")\n",
    "    for county, count in county_counts.items():\n",
    "        print(f\"{county}: {count}\")\n",
    "    print(len(county_counts))\n",
    "\n",
    "    # Get the unique county codes to mask out\n",
    "    counties_to_mask_out = counties_with_all_zero_precip['countyCode'].unique()\n",
    "    \n",
    "    # Mask out these counties from filtered_claims_df\n",
    "    filtered_claims_df = filtered_claims_df[~filtered_claims_df['countyCode'].isin(counties_to_mask_out)]"
   ]
  },
  {
   "cell_type": "code",
   "execution_count": 7,
   "id": "97b20a99-697d-4ca5-9716-d6ad48727e0e",
   "metadata": {},
   "outputs": [
    {
     "name": "stdout",
     "output_type": "stream",
     "text": [
      "Total claim records filtered out: 715620\n"
     ]
    }
   ],
   "source": [
    "if buildingDamage:\n",
    "    # Calculate the total number of records before filtering\n",
    "    total_records_before = len(filtered_claims_df)\n",
    "    \n",
    "    # Filter the dataframe where buildingDamageAmount is more than $1000\n",
    "    filtered_claims_df = filtered_claims_df[filtered_claims_df['buildingDamageAmount'] > 1000]\n",
    "    \n",
    "    # Calculate the total number of records after filtering\n",
    "    total_records_after = len(filtered_claims_df)\n",
    "    \n",
    "    # Calculate the number of records that were filtered out\n",
    "    records_filtered_out = total_records_before - total_records_after\n",
    "    \n",
    "    # Print the number of records filtered out\n",
    "    print(f\"Total claim records filtered out: {records_filtered_out}\")"
   ]
  },
  {
   "cell_type": "code",
   "execution_count": 8,
   "id": "51a15fa3-1818-4b56-a865-34aaa0ba650a",
   "metadata": {},
   "outputs": [
    {
     "name": "stdout",
     "output_type": "stream",
     "text": [
      "Total claim records filtered out under monthly PRISM: 31840\n",
      "Total claim records filtered out under monthly MSWEP: 111910\n",
      "Total claim records filtered out under monthly ERA5: 0\n"
     ]
    }
   ],
   "source": [
    "if monthlyMask:\n",
    "    total_records_before = total_records_after\n",
    "    filtered_claims_df = filtered_claims_df[filtered_claims_df['PRISM_mon_precipitation'].round(1) > mon_thres]\n",
    "    total_records_after = len(filtered_claims_df)\n",
    "    records_filtered_out = total_records_before - total_records_after\n",
    "    total_records_before = total_records_after\n",
    "    print(f\"Total claim records filtered out under monthly PRISM: {records_filtered_out}\")\n",
    "    filtered_claims_df = filtered_claims_df[filtered_claims_df['MSWEP_precipitation_30d_sum'].round(1) > mon_thres]\n",
    "    total_records_after = len(filtered_claims_df)\n",
    "    records_filtered_out = total_records_before - total_records_after\n",
    "    total_records_before = total_records_after\n",
    "    print(f\"Total claim records filtered out under monthly MSWEP: {records_filtered_out}\")\n",
    "    filtered_claims_df = filtered_claims_df[filtered_claims_df['MSWEP_precipitation_30d_sum'].round(1) > mon_thres]\n",
    "    total_records_after = len(filtered_claims_df)\n",
    "    records_filtered_out = total_records_before - total_records_after\n",
    "    total_records_before = total_records_after\n",
    "    print(f\"Total claim records filtered out under monthly ERA5: {records_filtered_out}\")"
   ]
  },
  {
   "cell_type": "code",
   "execution_count": 9,
   "id": "2d42af46-824a-431a-9d6e-225ae1a9d2d5",
   "metadata": {},
   "outputs": [
    {
     "name": "stdout",
     "output_type": "stream",
     "text": [
      "Total claim records filtered out under 7d ERA5: 220041\n",
      "Total claim records filtered out under 7d MSWEP: 0\n"
     ]
    }
   ],
   "source": [
    "if percentileMask:\n",
    "    total_records_before = total_records_after\n",
    "    filtered_claims_df = filtered_claims_df[filtered_claims_df['ERA5_precipitation_30d_max_7d'].round(1) > perc_thres]\n",
    "    total_records_after = len(filtered_claims_df)\n",
    "    records_filtered_out = total_records_before - total_records_after\n",
    "    total_records_before = total_records_after\n",
    "    print(f\"Total claim records filtered out under 7d ERA5: {records_filtered_out}\")\n",
    "    filtered_claims_df = filtered_claims_df[filtered_claims_df['MSWEP_precipitation_30d_max_7d'].round(1) > perc_thres]\n",
    "    total_records_after = len(filtered_claims_df)\n",
    "    records_filtered_out = total_records_before - total_records_after\n",
    "    total_records_before = total_records_after\n",
    "    print(f\"Total claim records filtered out under 7d MSWEP: {records_filtered_out}\")"
   ]
  },
  {
   "cell_type": "code",
   "execution_count": 10,
   "id": "65fee69b-a339-45c6-800d-655f00c343a0",
   "metadata": {},
   "outputs": [
    {
     "name": "stdout",
     "output_type": "stream",
     "text": [
      "final total records analyzed: 1456847\n"
     ]
    }
   ],
   "source": [
    "print(f\"final total records analyzed: {len(filtered_claims_df)}\")"
   ]
  },
  {
   "cell_type": "markdown",
   "id": "3f3bf553-ec09-4698-bf17-aadbbf9b030a",
   "metadata": {},
   "source": [
    "# Add Return Periods"
   ]
  },
  {
   "cell_type": "code",
   "execution_count": 11,
   "id": "f3cb1063-130e-43a0-be10-6ced1367764c",
   "metadata": {},
   "outputs": [],
   "source": [
    "# Calculate PRISM return period\n",
    "filtered_claims_df['returnPeriod_PRISM'] = filtered_claims_df['PRISM_mon_percentile'].apply(\n",
    "    lambda x: 1000 if x >= 99.9 else 1 / (1 - (x / 100))\n",
    ")"
   ]
  },
  {
   "cell_type": "code",
   "execution_count": 12,
   "id": "3bf92867-a8f0-4cf1-afbb-143cf7496faa",
   "metadata": {},
   "outputs": [],
   "source": [
    "# MSWEP Return Periods\n",
    "# First, convert MSWEP percentiles from 0-100 to 0-1 by dividing by 100\n",
    "filtered_claims_df['returnPeriod_MSWEP_1d'] = filtered_claims_df['MSWEP_precipitation_30d_max_1d_percentile_modeled'].apply(\n",
    "    lambda x: 1000 if x >= 99.9 else 1 / (1 - (x / 100))\n",
    ")\n",
    "filtered_claims_df['returnPeriod_MSWEP_3d'] = filtered_claims_df['MSWEP_precipitation_30d_max_3d_percentile_modeled'].apply(\n",
    "    lambda x: 1000 if x >= 99.9 else 1 / (1 - (x / 100))\n",
    ")\n",
    "filtered_claims_df['returnPeriod_MSWEP_5d'] = filtered_claims_df['MSWEP_precipitation_30d_max_5d_percentile_modeled'].apply(\n",
    "    lambda x: 1000 if x >= 99.9 else 1 / (1 - (x / 100))\n",
    ")\n",
    "filtered_claims_df['returnPeriod_MSWEP_7d'] = filtered_claims_df['MSWEP_precipitation_30d_max_7d_percentile_modeled'].apply(\n",
    "    lambda x: 1000 if x >= 99.9 else 1 / (1 - (x / 100))\n",
    ")\n",
    "filtered_claims_df['returnPeriod_MSWEP_14d'] = filtered_claims_df['MSWEP_precipitation_30d_max_14d_percentile_modeled'].apply(\n",
    "    lambda x: 1000 if x >= 99.9 else 1 / (1 - (x / 100))\n",
    ")\n",
    "filtered_claims_df['returnPeriod_MSWEP_30d'] = filtered_claims_df['MSWEP_precipitation_30d_sum_percentile_modeled'].apply(\n",
    "    lambda x: 1000 if x >= 99.9 else 1 / (1 - (x / 100))\n",
    ")"
   ]
  },
  {
   "cell_type": "code",
   "execution_count": 13,
   "id": "8c933dd8-b6d0-4f21-a51f-ff08638ff7a1",
   "metadata": {},
   "outputs": [],
   "source": [
    "# ERA5 Return Periods\n",
    "# First, convert ERA5 percentiles from 0-100 to 0-1 by dividing by 100\n",
    "filtered_claims_df['returnPeriod_ERA5_1d'] = filtered_claims_df['ERA5_precipitation_30d_max_1d_percentile_modeled'].apply(\n",
    "    lambda x: 1000 if x >= 99.9 else 1 / (1 - (x / 100))\n",
    ")\n",
    "filtered_claims_df['returnPeriod_ERA5_3d'] = filtered_claims_df['ERA5_precipitation_30d_max_3d_percentile_modeled'].apply(\n",
    "    lambda x: 1000 if x >= 99.9 else 1 / (1 - (x / 100))\n",
    ")\n",
    "filtered_claims_df['returnPeriod_ERA5_5d'] = filtered_claims_df['ERA5_precipitation_30d_max_5d_percentile_modeled'].apply(\n",
    "    lambda x: 1000 if x >= 99.9 else 1 / (1 - (x / 100))\n",
    ")\n",
    "filtered_claims_df['returnPeriod_ERA5_7d'] = filtered_claims_df['ERA5_precipitation_30d_max_7d_percentile_modeled'].apply(\n",
    "    lambda x: 1000 if x >= 99.9 else 1 / (1 - (x / 100))\n",
    ")\n",
    "filtered_claims_df['returnPeriod_ERA5_14d'] = filtered_claims_df['ERA5_precipitation_30d_max_14d_percentile_modeled'].apply(\n",
    "    lambda x: 1000 if x >= 99.9 else 1 / (1 - (x / 100))\n",
    ")\n",
    "filtered_claims_df['returnPeriod_ERA5_30d'] = filtered_claims_df['ERA5_precipitation_30d_sum_percentile_modeled'].apply(\n",
    "    lambda x: 1000 if x >= 99.9 else 1 / (1 - (x / 100))\n",
    ")"
   ]
  },
  {
   "cell_type": "markdown",
   "id": "91c085a3-40fb-40f5-9004-5b5ff0c461bc",
   "metadata": {},
   "source": [
    "# Conversions"
   ]
  },
  {
   "cell_type": "code",
   "execution_count": 14,
   "id": "1be84c48-fe15-4033-969b-7c0f2b1accf7",
   "metadata": {},
   "outputs": [],
   "source": [
    "# Adjust units to mm\n",
    "filtered_claims_df['ERA5_precipitation'] = filtered_claims_df['ERA5_precipitation']*1000\n",
    "filtered_claims_df['ERA5_precipitation_30d_max_1d'] = filtered_claims_df['ERA5_precipitation_30d_max_1d']*1000\n",
    "filtered_claims_df['ERA5_precipitation_30d_max_3d'] = filtered_claims_df['ERA5_precipitation_30d_max_3d']*1000\n",
    "filtered_claims_df['ERA5_precipitation_30d_max_5d'] = filtered_claims_df['ERA5_precipitation_30d_max_5d']*1000\n",
    "filtered_claims_df['ERA5_precipitation_30d_max_7d'] = filtered_claims_df['ERA5_precipitation_30d_max_7d']*1000\n",
    "filtered_claims_df['ERA5_precipitation_30d_max_14d'] = filtered_claims_df['ERA5_precipitation_30d_max_14d']*1000\n",
    "filtered_claims_df['ERA5_precipitation_30d_sum'] = filtered_claims_df['ERA5_precipitation_30d_sum']*1000"
   ]
  },
  {
   "cell_type": "markdown",
   "id": "044a18f3-e914-427f-8247-ecb5d78c920b",
   "metadata": {},
   "source": [
    "# Save"
   ]
  },
  {
   "cell_type": "code",
   "execution_count": 15,
   "id": "03c0c2f1-f5e8-43f3-ada7-7caa4d57f424",
   "metadata": {},
   "outputs": [],
   "source": [
    "filtered_claims_df.to_csv('final_filtered_claims.csv')"
   ]
  }
 ],
 "metadata": {
  "kernelspec": {
   "display_name": "Python 3 (ipykernel)",
   "language": "python",
   "name": "python3"
  },
  "language_info": {
   "codemirror_mode": {
    "name": "ipython",
    "version": 3
   },
   "file_extension": ".py",
   "mimetype": "text/x-python",
   "name": "python",
   "nbconvert_exporter": "python",
   "pygments_lexer": "ipython3",
   "version": "3.12.7"
  }
 },
 "nbformat": 4,
 "nbformat_minor": 5
}
