{
 "cells": [
  {
   "cell_type": "code",
   "execution_count": 1,
   "id": "34e40147-d467-4f2f-bd3a-ab908da18693",
   "metadata": {},
   "outputs": [],
   "source": [
    "import pandas as pd\n",
    "import geopandas as gpd\n",
    "import numpy as np\n",
    "import matplotlib.pyplot as plt\n",
    "import seaborn as sns\n",
    "from scipy import stats"
   ]
  },
  {
   "cell_type": "markdown",
   "id": "006bd02a-c56e-4b25-ad0c-92e819e16c09",
   "metadata": {},
   "source": [
    "# Load HMGP Dataset"
   ]
  },
  {
   "cell_type": "code",
   "execution_count": 2,
   "id": "1959311d-9eb0-431d-b7a7-577f0a185364",
   "metadata": {},
   "outputs": [
    {
     "name": "stderr",
     "output_type": "stream",
     "text": [
      "/tmp/ipykernel_3587/2063840798.py:1: DtypeWarning: Columns (14) have mixed types. Specify dtype option on import or set low_memory=False.\n",
      "  buyout_props = pd.read_csv('../../../Local_Data/FEMA_HMGP/HazardMitigationAssistanceMitigatedProperties.csv')\n"
     ]
    }
   ],
   "source": [
    "buyout_props = pd.read_csv('../../../Local_Data/FEMA_HMGP/HazardMitigationAssistanceMitigatedProperties.csv')\n",
    "buyout_props = buyout_props.dropna(subset=['disasterNumber'])\n",
    "buyout_props['disasterNumber'] = buyout_props['disasterNumber'].astype(int)"
   ]
  },
  {
   "cell_type": "markdown",
   "id": "cd8ae2c0-e504-47ec-ab6c-4b9c822e8699",
   "metadata": {},
   "source": [
    "# FIPS mapping"
   ]
  },
  {
   "cell_type": "code",
   "execution_count": 3,
   "id": "f3cb697f-a824-4cc0-a554-e0caf40c1c82",
   "metadata": {},
   "outputs": [],
   "source": [
    "# Read the file line by line\n",
    "with open('../../../Local_Data/fips_codes.txt', 'r') as file:\n",
    "    lines = file.readlines()\n",
    "\n",
    "# Step 1: Identify where state-level data starts and ends\n",
    "state_section_start = 0\n",
    "county_section_start = 0\n",
    "\n",
    "for i, line in enumerate(lines):\n",
    "    if \"state-level\" in line.lower():\n",
    "        state_section_start = i + 2  # State data starts after the \"state-level\" heading\n",
    "    if \"county-level\" in line.lower():\n",
    "        county_section_start = i + 2  # County data starts after the \"county-level\" heading\n",
    "        break\n",
    "\n",
    "# Manually create the dictionary mapping state FIPS codes to state names\n",
    "state_fips_dict = {\n",
    "    \"01\": \"ALABAMA\",\n",
    "    \"02\": \"ALASKA\",\n",
    "    \"04\": \"ARIZONA\",\n",
    "    \"05\": \"ARKANSAS\",\n",
    "    \"06\": \"CALIFORNIA\",\n",
    "    \"08\": \"COLORADO\",\n",
    "    \"09\": \"CONNECTICUT\",\n",
    "    \"10\": \"DELAWARE\",\n",
    "    \"11\": \"DISTRICT OF COLUMBIA\",\n",
    "    \"12\": \"FLORIDA\",\n",
    "    \"13\": \"GEORGIA\",\n",
    "    \"15\": \"HAWAII\",\n",
    "    \"16\": \"IDAHO\",\n",
    "    \"17\": \"ILLINOIS\",\n",
    "    \"18\": \"INDIANA\",\n",
    "    \"19\": \"IOWA\",\n",
    "    \"20\": \"KANSAS\",\n",
    "    \"21\": \"KENTUCKY\",\n",
    "    \"22\": \"LOUISIANA\",\n",
    "    \"23\": \"MAINE\",\n",
    "    \"24\": \"MARYLAND\",\n",
    "    \"25\": \"MASSACHUSETTS\",\n",
    "    \"26\": \"MICHIGAN\",\n",
    "    \"27\": \"MINNESOTA\",\n",
    "    \"28\": \"MISSISSIPPI\",\n",
    "    \"29\": \"MISSOURI\",\n",
    "    \"30\": \"MONTANA\",\n",
    "    \"31\": \"NEBRASKA\",\n",
    "    \"32\": \"NEVADA\",\n",
    "    \"33\": \"NEW HAMPSHIRE\",\n",
    "    \"34\": \"NEW JERSEY\",\n",
    "    \"35\": \"NEW MEXICO\",\n",
    "    \"36\": \"NEW YORK\",\n",
    "    \"37\": \"NORTH CAROLINA\",\n",
    "    \"38\": \"NORTH DAKOTA\",\n",
    "    \"39\": \"OHIO\",\n",
    "    \"40\": \"OKLAHOMA\",\n",
    "    \"41\": \"OREGON\",\n",
    "    \"42\": \"PENNSYLVANIA\",\n",
    "    \"44\": \"RHODE ISLAND\",\n",
    "    \"45\": \"SOUTH CAROLINA\",\n",
    "    \"46\": \"SOUTH DAKOTA\",\n",
    "    \"47\": \"TENNESSEE\",\n",
    "    \"48\": \"TEXAS\",\n",
    "    \"49\": \"UTAH\",\n",
    "    \"50\": \"VERMONT\",\n",
    "    \"51\": \"VIRGINIA\",\n",
    "    \"53\": \"WASHINGTON\",\n",
    "    \"54\": \"WEST VIRGINIA\",\n",
    "    \"55\": \"WISCONSIN\",\n",
    "    \"56\": \"WYOMING\"\n",
    "}\n",
    "\n",
    "# Convert the dictionary to a DataFrame for easy merging\n",
    "state_df = pd.DataFrame(list(state_fips_dict.items()), columns=['State FIPS', 'State Name'])\n",
    "\n",
    "# Step 1: Split the data into sections\n",
    "state_section_start = 0\n",
    "county_section_start = 0\n",
    "\n",
    "for i, line in enumerate(lines):\n",
    "    if \"state-level\" in line.lower():\n",
    "        state_section_start = i + 2  # Skip the header lines\n",
    "    if \"county-level\" in line.lower():\n",
    "        county_section_start = i + 2  # Skip the header lines\n",
    "        break\n",
    "\n",
    "state_lines = lines[state_section_start:county_section_start-2]  # State data lines\n",
    "county_lines = lines[county_section_start:]  # County data line\n",
    "\n",
    "# Step 3: Parse county data\n",
    "county_fips = []\n",
    "county_name = []\n",
    "\n",
    "for line in county_lines:\n",
    "    line = line.strip()\n",
    "    if len(line) > 12 and line[:5].isdigit():\n",
    "        county_fips_code = line[:5].strip()\n",
    "        county_fips_name = line[12:].strip()\n",
    "        county_fips.append(county_fips_code)\n",
    "        county_name.append(county_fips_name)\n",
    "\n",
    "county_df = pd.DataFrame({\n",
    "    'countyCode': county_fips,\n",
    "    'County Name': county_name\n",
    "})\n",
    "\n",
    "county_df['State FIPS'] = county_df['countyCode'].str[:2]  # Extract state FIPS from the countyCode\n",
    "\n",
    "# Assuming county_df is already created and correctly populated:\n",
    "fips_df = county_df.merge(state_df, on='State FIPS')\n",
    "fips_df['County Name'] = fips_df['County Name'].str.upper()"
   ]
  },
  {
   "cell_type": "code",
   "execution_count": 4,
   "id": "040491fb-03a3-4c80-9690-4e94e113d412",
   "metadata": {},
   "outputs": [],
   "source": [
    "# Ensure the countyCode is a string with leading zeros if needed\n",
    "buyout_props = buyout_props.dropna(subset=['county', 'state'])\n",
    "buyout_props['county'] = buyout_props['county'].str.upper()\n",
    "buyout_props['state'] = buyout_props['state'].str.upper()\n",
    "\n",
    "# Remove \"COUNTY\" from the 'County Name' in fips_df\n",
    "fips_df['County Name'] = fips_df['County Name'].str.replace(' COUNTY', '', regex=False).str.replace(' PARISH', '', regex=False)\n",
    "\n",
    "# Now perform the merge\n",
    "buyout_props = buyout_props.merge(fips_df, left_on=['county', 'state'], right_on=['County Name', 'State Name'], how='left')"
   ]
  },
  {
   "cell_type": "markdown",
   "id": "048d9517-4611-4ab8-aa33-083990d6f9c5",
   "metadata": {},
   "source": [
    "# Load and merge disasters dataset"
   ]
  },
  {
   "cell_type": "code",
   "execution_count": 7,
   "id": "522c81eb-7fc1-4db4-b80b-827b5bc18f9f",
   "metadata": {},
   "outputs": [],
   "source": [
    "filtered_disasters = pd.read_csv('../../final_filtered_disasters.csv')\n",
    "filtered_disasters['fullFIPS'] = filtered_disasters['fullFIPS'].astype(str).str.zfill(5)\n",
    "filtered_disasters['disasterNumber'] = filtered_disasters['disasterNumber'].astype(int)"
   ]
  },
  {
   "cell_type": "code",
   "execution_count": 8,
   "id": "c7870fdb-92d3-43bf-b1cf-d724b20d42d9",
   "metadata": {},
   "outputs": [],
   "source": [
    "# Identify columns that are in both dataframes except for 'disasterNumber'\n",
    "common_columns = list(set(buyout_props.columns).intersection(set(filtered_disasters.columns)))\n",
    "common_columns.remove('disasterNumber')  # Remove 'disasterNumber' from the list of common columns\n",
    "\n",
    "# Select only the columns from filtered_disasters that are not in buyout_props, except for 'disasterNumber'\n",
    "filtered_disasters = filtered_disasters.drop(columns=common_columns)"
   ]
  },
  {
   "cell_type": "code",
   "execution_count": 9,
   "id": "0954e903-c15c-485f-848b-10a71124f9a2",
   "metadata": {},
   "outputs": [
    {
     "name": "stdout",
     "output_type": "stream",
     "text": [
      "Number of rows in buyout_props before the merge: 80994\n",
      "Number of rows in buyout_props after the merge (only flood-related grants): 46782\n"
     ]
    }
   ],
   "source": [
    "# Merging the result_df with disasters_df on 'countyCode' (from result_df) and 'fullFIPS' (from disasters_df),\n",
    "# and 'disasterNumber'\n",
    "merged_df = buyout_props.merge(filtered_disasters, left_on=['countyCode', 'disasterNumber'], \n",
    "                               right_on=['fullFIPS', 'disasterNumber'], how='inner')\n",
    "\n",
    "\n",
    "# Print the number of rows before the merge\n",
    "print(f\"Number of rows in buyout_props before the merge: {len(buyout_props)}\")\n",
    "\n",
    "# Dropping the duplicate 'countyCode' column after the merge as it duplicates 'fullFIPS'\n",
    "merged_df = merged_df.drop(columns=['fullFIPS'])\n",
    "\n",
    "# Print the number of rows before the merge\n",
    "print(f\"Number of rows in buyout_props after the merge (only flood-related grants): {len(merged_df)}\")"
   ]
  },
  {
   "cell_type": "code",
   "execution_count": 10,
   "id": "ebbe587b-89d5-42da-b9de-b31a0092277b",
   "metadata": {},
   "outputs": [
    {
     "name": "stdout",
     "output_type": "stream",
     "text": [
      "Total buyouts: 17029\n"
     ]
    }
   ],
   "source": [
    "flood_buyouts_only = merged_df[\n",
    "    merged_df['propertyAction'].isin(['Acquisition/Demolition', 'Acquisition/Relocation'])\n",
    "]\n",
    "\n",
    "print(f\"Total buyouts: {len(flood_buyouts_only)}\")"
   ]
  },
  {
   "cell_type": "code",
   "execution_count": 11,
   "id": "e4572773-22b1-4eb3-9136-6dc9b200645f",
   "metadata": {},
   "outputs": [],
   "source": [
    "merged_df.to_csv(\"final_filtered_HMGP.csv\")\n",
    "flood_buyouts_only.to_csv(\"final_filtered_buyouts.csv\")"
   ]
  },
  {
   "cell_type": "code",
   "execution_count": null,
   "id": "29185aba-09e3-41a4-b2a9-d4c820b79a78",
   "metadata": {},
   "outputs": [],
   "source": []
  }
 ],
 "metadata": {
  "kernelspec": {
   "display_name": "Python 3 (ipykernel)",
   "language": "python",
   "name": "python3"
  },
  "language_info": {
   "codemirror_mode": {
    "name": "ipython",
    "version": 3
   },
   "file_extension": ".py",
   "mimetype": "text/x-python",
   "name": "python",
   "nbconvert_exporter": "python",
   "pygments_lexer": "ipython3",
   "version": "3.12.11"
  }
 },
 "nbformat": 4,
 "nbformat_minor": 5
}
